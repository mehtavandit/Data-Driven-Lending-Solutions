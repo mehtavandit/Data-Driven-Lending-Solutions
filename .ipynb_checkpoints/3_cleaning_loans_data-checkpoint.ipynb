{
 "cells": [
  {
   "cell_type": "code",
   "execution_count": 1,
   "id": "5b695f13",
   "metadata": {},
   "outputs": [],
   "source": [
    "from pyspark.sql import SparkSession\n",
    "spark=SparkSession.\\\n",
    "builder.\\\n",
    "config('spark.shuffle.useOldFetchProtocol','true').\\\n",
    "config('spark.ui.port','0').\\\n",
    "config(\"spark.sql.warehouse.dir\",\"/user/itv012713/warehouse\").\\\n",
    "enableHiveSupport().\\\n",
    "master('yarn').\\\n",
    "getOrCreate()\n",
    "\n"
   ]
  },
  {
   "cell_type": "code",
   "execution_count": 2,
   "id": "058e5e4b",
   "metadata": {},
   "outputs": [],
   "source": [
    "from pyspark.sql.functions import current_timestamp, regexp_replace, col, when, count"
   ]
  },
  {
   "cell_type": "code",
   "execution_count": 3,
   "id": "6b58b452",
   "metadata": {},
   "outputs": [],
   "source": [
    "loans_schema='loan_id string,member_id string,loan_amount float,funded_amount float,loan_term_months string,interest_rate float,monthly_installment float,issue_date string,loan_status string,loan_purpose string,loan_title string'"
   ]
  },
  {
   "cell_type": "code",
   "execution_count": 4,
   "id": "74104592",
   "metadata": {},
   "outputs": [],
   "source": [
    "loans_raw_df = spark.read.format(\"csv\").option(\"header\",True).schema(loans_schema).load(\"/user/itv012713/lendingclubproject/raw/loans_data_csv\")"
   ]
  },
  {
   "cell_type": "code",
   "execution_count": 5,
   "id": "a81d59ec",
   "metadata": {},
   "outputs": [
    {
     "data": {
      "text/html": [
       "<table border='1'>\n",
       "<tr><th>loan_id</th><th>member_id</th><th>loan_amount</th><th>funded_amount</th><th>loan_term_months</th><th>interest_rate</th><th>monthly_installment</th><th>issue_date</th><th>loan_status</th><th>loan_purpose</th><th>loan_title</th></tr>\n",
       "<tr><td>118184277</td><td>707271898dcabc8b2...</td><td>4500.0</td><td>4500.0</td><td>36 months</td><td>7.07</td><td>139.1</td><td>Sep-2017</td><td>Fully Paid</td><td>debt_consolidation</td><td>Debt consolidation</td></tr>\n",
       "<tr><td>117289602</td><td>8e1ea10aca3c4ad8f...</td><td>4000.0</td><td>4000.0</td><td>36 months</td><td>9.93</td><td>128.94</td><td>Sep-2017</td><td>Current</td><td>credit_card</td><td>Credit card refin...</td></tr>\n",
       "<tr><td>118216186</td><td>1d6546a2cbc1fd240...</td><td>10000.0</td><td>10000.0</td><td>36 months</td><td>10.91</td><td>326.97</td><td>Sep-2017</td><td>Current</td><td>debt_consolidation</td><td>Debt consolidation</td></tr>\n",
       "<tr><td>117584790</td><td>d6208beced388988f...</td><td>20000.0</td><td>20000.0</td><td>36 months</td><td>12.62</td><td>670.23</td><td>Sep-2017</td><td>Fully Paid</td><td>home_improvement</td><td>Home improvement</td></tr>\n",
       "<tr><td>118208834</td><td>b4af936688c28c165...</td><td>15000.0</td><td>15000.0</td><td>36 months</td><td>7.97</td><td>469.84</td><td>Sep-2017</td><td>Current</td><td>debt_consolidation</td><td>Debt consolidation</td></tr>\n",
       "<tr><td>117566588</td><td>2c04e047879ada04e...</td><td>21000.0</td><td>21000.0</td><td>60 months</td><td>13.59</td><td>484.19</td><td>Sep-2017</td><td>Current</td><td>home_improvement</td><td>Home improvement</td></tr>\n",
       "<tr><td>118221134</td><td>39dfcd293cb7b2c17...</td><td>10000.0</td><td>10000.0</td><td>60 months</td><td>15.05</td><td>238.17</td><td>Sep-2017</td><td>Current</td><td>debt_consolidation</td><td>Debt consolidation</td></tr>\n",
       "<tr><td>118183021</td><td>5e6e1f8ad59c71a0b...</td><td>5600.0</td><td>5600.0</td><td>36 months</td><td>5.32</td><td>168.65</td><td>Sep-2017</td><td>Current</td><td>debt_consolidation</td><td>Debt consolidation</td></tr>\n",
       "<tr><td>118209005</td><td>afd3b57e55eb95ed8...</td><td>16000.0</td><td>16000.0</td><td>36 months</td><td>7.21</td><td>495.58</td><td>Sep-2017</td><td>Current</td><td>home_improvement</td><td>Home improvement</td></tr>\n",
       "<tr><td>118214952</td><td>8b5eed45ac53a0238...</td><td>7000.0</td><td>7000.0</td><td>36 months</td><td>7.97</td><td>219.26</td><td>Sep-2017</td><td>Current</td><td>car</td><td>Car financing</td></tr>\n",
       "<tr><td>117566851</td><td>f9b1d34c3edcb893e...</td><td>18000.0</td><td>18000.0</td><td>60 months</td><td>20.0</td><td>476.89</td><td>Sep-2017</td><td>Current</td><td>major_purchase</td><td>Major purchase</td></tr>\n",
       "<tr><td>115648172</td><td>1ad9eaf0cd017b07b...</td><td>14000.0</td><td>14000.0</td><td>36 months</td><td>10.42</td><td>454.51</td><td>Sep-2017</td><td>Current</td><td>debt_consolidation</td><td>Debt consolidation</td></tr>\n",
       "<tr><td>115354924</td><td>319d1b9f0f8262a44...</td><td>28000.0</td><td>28000.0</td><td>36 months</td><td>11.99</td><td>929.87</td><td>Sep-2017</td><td>Fully Paid</td><td>debt_consolidation</td><td>Debt consolidation</td></tr>\n",
       "<tr><td>118216367</td><td>f8d7c9355352667eb...</td><td>19200.0</td><td>19200.0</td><td>60 months</td><td>9.93</td><td>407.29</td><td>Sep-2017</td><td>Fully Paid</td><td>debt_consolidation</td><td>Debt consolidation</td></tr>\n",
       "<tr><td>118209104</td><td>e599af63f1a06e96d...</td><td>40000.0</td><td>40000.0</td><td>60 months</td><td>15.05</td><td>952.65</td><td>Sep-2017</td><td>Current</td><td>other</td><td>Other</td></tr>\n",
       "<tr><td>118193433</td><td>d7f76105042a35af5...</td><td>10000.0</td><td>10000.0</td><td>60 months</td><td>20.0</td><td>264.94</td><td>Sep-2017</td><td>Current</td><td>debt_consolidation</td><td>Debt consolidation</td></tr>\n",
       "<tr><td>118188718</td><td>d7b8a3478590b59c6...</td><td>8000.0</td><td>8000.0</td><td>36 months</td><td>14.08</td><td>273.74</td><td>Sep-2017</td><td>Fully Paid</td><td>credit_card</td><td>Credit card refin...</td></tr>\n",
       "<tr><td>116868788</td><td>4885a59f1ae5534c3...</td><td>6000.0</td><td>6000.0</td><td>36 months</td><td>10.91</td><td>196.18</td><td>Sep-2017</td><td>Current</td><td>home_improvement</td><td>Home improvement</td></tr>\n",
       "<tr><td>116264178</td><td>4558ee1fa31903d33...</td><td>7200.0</td><td>7200.0</td><td>36 months</td><td>7.21</td><td>223.01</td><td>Sep-2017</td><td>Current</td><td>debt_consolidation</td><td>Debt consolidation</td></tr>\n",
       "<tr><td>117616063</td><td>619b3b7101cf2aeb7...</td><td>6000.0</td><td>6000.0</td><td>36 months</td><td>7.97</td><td>187.94</td><td>Sep-2017</td><td>Current</td><td>debt_consolidation</td><td>Debt consolidation</td></tr>\n",
       "</table>\n",
       "only showing top 20 rows\n"
      ],
      "text/plain": [
       "+---------+--------------------+-----------+-------------+----------------+-------------+-------------------+----------+-----------+------------------+--------------------+\n",
       "|  loan_id|           member_id|loan_amount|funded_amount|loan_term_months|interest_rate|monthly_installment|issue_date|loan_status|      loan_purpose|          loan_title|\n",
       "+---------+--------------------+-----------+-------------+----------------+-------------+-------------------+----------+-----------+------------------+--------------------+\n",
       "|118184277|707271898dcabc8b2...|     4500.0|       4500.0|       36 months|         7.07|              139.1|  Sep-2017| Fully Paid|debt_consolidation|  Debt consolidation|\n",
       "|117289602|8e1ea10aca3c4ad8f...|     4000.0|       4000.0|       36 months|         9.93|             128.94|  Sep-2017|    Current|       credit_card|Credit card refin...|\n",
       "|118216186|1d6546a2cbc1fd240...|    10000.0|      10000.0|       36 months|        10.91|             326.97|  Sep-2017|    Current|debt_consolidation|  Debt consolidation|\n",
       "|117584790|d6208beced388988f...|    20000.0|      20000.0|       36 months|        12.62|             670.23|  Sep-2017| Fully Paid|  home_improvement|    Home improvement|\n",
       "|118208834|b4af936688c28c165...|    15000.0|      15000.0|       36 months|         7.97|             469.84|  Sep-2017|    Current|debt_consolidation|  Debt consolidation|\n",
       "|117566588|2c04e047879ada04e...|    21000.0|      21000.0|       60 months|        13.59|             484.19|  Sep-2017|    Current|  home_improvement|    Home improvement|\n",
       "|118221134|39dfcd293cb7b2c17...|    10000.0|      10000.0|       60 months|        15.05|             238.17|  Sep-2017|    Current|debt_consolidation|  Debt consolidation|\n",
       "|118183021|5e6e1f8ad59c71a0b...|     5600.0|       5600.0|       36 months|         5.32|             168.65|  Sep-2017|    Current|debt_consolidation|  Debt consolidation|\n",
       "|118209005|afd3b57e55eb95ed8...|    16000.0|      16000.0|       36 months|         7.21|             495.58|  Sep-2017|    Current|  home_improvement|    Home improvement|\n",
       "|118214952|8b5eed45ac53a0238...|     7000.0|       7000.0|       36 months|         7.97|             219.26|  Sep-2017|    Current|               car|       Car financing|\n",
       "|117566851|f9b1d34c3edcb893e...|    18000.0|      18000.0|       60 months|         20.0|             476.89|  Sep-2017|    Current|    major_purchase|      Major purchase|\n",
       "|115648172|1ad9eaf0cd017b07b...|    14000.0|      14000.0|       36 months|        10.42|             454.51|  Sep-2017|    Current|debt_consolidation|  Debt consolidation|\n",
       "|115354924|319d1b9f0f8262a44...|    28000.0|      28000.0|       36 months|        11.99|             929.87|  Sep-2017| Fully Paid|debt_consolidation|  Debt consolidation|\n",
       "|118216367|f8d7c9355352667eb...|    19200.0|      19200.0|       60 months|         9.93|             407.29|  Sep-2017| Fully Paid|debt_consolidation|  Debt consolidation|\n",
       "|118209104|e599af63f1a06e96d...|    40000.0|      40000.0|       60 months|        15.05|             952.65|  Sep-2017|    Current|             other|               Other|\n",
       "|118193433|d7f76105042a35af5...|    10000.0|      10000.0|       60 months|         20.0|             264.94|  Sep-2017|    Current|debt_consolidation|  Debt consolidation|\n",
       "|118188718|d7b8a3478590b59c6...|     8000.0|       8000.0|       36 months|        14.08|             273.74|  Sep-2017| Fully Paid|       credit_card|Credit card refin...|\n",
       "|116868788|4885a59f1ae5534c3...|     6000.0|       6000.0|       36 months|        10.91|             196.18|  Sep-2017|    Current|  home_improvement|    Home improvement|\n",
       "|116264178|4558ee1fa31903d33...|     7200.0|       7200.0|       36 months|         7.21|             223.01|  Sep-2017|    Current|debt_consolidation|  Debt consolidation|\n",
       "|117616063|619b3b7101cf2aeb7...|     6000.0|       6000.0|       36 months|         7.97|             187.94|  Sep-2017|    Current|debt_consolidation|  Debt consolidation|\n",
       "+---------+--------------------+-----------+-------------+----------------+-------------+-------------------+----------+-----------+------------------+--------------------+\n",
       "only showing top 20 rows"
      ]
     },
     "execution_count": 5,
     "metadata": {},
     "output_type": "execute_result"
    }
   ],
   "source": [
    "loans_raw_df"
   ]
  },
  {
   "cell_type": "code",
   "execution_count": 8,
   "id": "8ccf5008",
   "metadata": {},
   "outputs": [
    {
     "name": "stdout",
     "output_type": "stream",
     "text": [
      "root\n",
      " |-- loan_id: string (nullable = true)\n",
      " |-- member_id: string (nullable = true)\n",
      " |-- loan_amount: float (nullable = true)\n",
      " |-- funded_amount: float (nullable = true)\n",
      " |-- loan_term_months: string (nullable = true)\n",
      " |-- interest_rate: float (nullable = true)\n",
      " |-- monthly_installment: float (nullable = true)\n",
      " |-- issue_date: string (nullable = true)\n",
      " |-- loan_status: string (nullable = true)\n",
      " |-- loan_purpose: string (nullable = true)\n",
      " |-- loan_title: string (nullable = true)\n",
      "\n"
     ]
    }
   ],
   "source": [
    "loans_raw_df.printSchema()"
   ]
  },
  {
   "cell_type": "markdown",
   "id": "c074f6a7",
   "metadata": {},
   "source": [
    "## Inserting Ingestion Date for data processing"
   ]
  },
  {
   "cell_type": "code",
   "execution_count": 6,
   "id": "6a91a38b",
   "metadata": {},
   "outputs": [],
   "source": [
    "loans_df_ingest_date = loans_raw_df.withColumn(\"ingest_date\", current_timestamp())"
   ]
  },
  {
   "cell_type": "code",
   "execution_count": 7,
   "id": "0fa2a265",
   "metadata": {},
   "outputs": [],
   "source": [
    "loans_df_ingest_date.createOrReplaceTempView(\"loans\")"
   ]
  },
  {
   "cell_type": "markdown",
   "id": "3d2ba14d",
   "metadata": {},
   "source": [
    "## Dropping rows having null values"
   ]
  },
  {
   "cell_type": "code",
   "execution_count": 8,
   "id": "dd9264ca",
   "metadata": {},
   "outputs": [
    {
     "data": {
      "text/html": [
       "<table border='1'>\n",
       "<tr><th>count(1)</th></tr>\n",
       "<tr><td>2260701</td></tr>\n",
       "</table>\n"
      ],
      "text/plain": [
       "+--------+\n",
       "|count(1)|\n",
       "+--------+\n",
       "| 2260701|\n",
       "+--------+"
      ]
     },
     "execution_count": 8,
     "metadata": {},
     "output_type": "execute_result"
    }
   ],
   "source": [
    "spark.sql(\"select count(*) from loans\")"
   ]
  },
  {
   "cell_type": "code",
   "execution_count": 9,
   "id": "816972d0",
   "metadata": {},
   "outputs": [
    {
     "data": {
      "text/html": [
       "<table border='1'>\n",
       "<tr><th>count(1)</th></tr>\n",
       "<tr><td>33</td></tr>\n",
       "</table>\n"
      ],
      "text/plain": [
       "+--------+\n",
       "|count(1)|\n",
       "+--------+\n",
       "|      33|\n",
       "+--------+"
      ]
     },
     "execution_count": 9,
     "metadata": {},
     "output_type": "execute_result"
    }
   ],
   "source": [
    "spark.sql(\"select count(*) from loans where loan_amount is null\")"
   ]
  },
  {
   "cell_type": "code",
   "execution_count": 10,
   "id": "6218ada6",
   "metadata": {},
   "outputs": [],
   "source": [
    "columns_to_check=[\"loan_amount\",\"funded_amount\",\"loan_term_months\",\"interest_rate\",\"monthly_installment\",\"issue_date\",\"loan_status\",\"loan_purpose\"]"
   ]
  },
  {
   "cell_type": "code",
   "execution_count": 11,
   "id": "5e6a5c8a",
   "metadata": {},
   "outputs": [],
   "source": [
    "loans_filtered_df = loans_df_ingest_date.na.drop(subset = columns_to_check)"
   ]
  },
  {
   "cell_type": "code",
   "execution_count": 12,
   "id": "58d75316",
   "metadata": {},
   "outputs": [
    {
     "data": {
      "text/plain": [
       "2260667"
      ]
     },
     "execution_count": 12,
     "metadata": {},
     "output_type": "execute_result"
    }
   ],
   "source": [
    "loans_filtered_df.count()"
   ]
  },
  {
   "cell_type": "code",
   "execution_count": 13,
   "id": "8556f450",
   "metadata": {},
   "outputs": [],
   "source": [
    "loans_filtered_df.createOrReplaceTempView(\"loans\")"
   ]
  },
  {
   "cell_type": "code",
   "execution_count": 14,
   "id": "01af7f8b",
   "metadata": {},
   "outputs": [
    {
     "data": {
      "text/html": [
       "<table border='1'>\n",
       "<tr><th>loan_id</th><th>member_id</th><th>loan_amount</th><th>funded_amount</th><th>loan_term_months</th><th>interest_rate</th><th>monthly_installment</th><th>issue_date</th><th>loan_status</th><th>loan_purpose</th><th>loan_title</th><th>ingest_date</th></tr>\n",
       "<tr><td>118184277</td><td>707271898dcabc8b2...</td><td>4500.0</td><td>4500.0</td><td>36 months</td><td>7.07</td><td>139.1</td><td>Sep-2017</td><td>Fully Paid</td><td>debt_consolidation</td><td>Debt consolidation</td><td>2024-08-10 15:17:...</td></tr>\n",
       "<tr><td>117289602</td><td>8e1ea10aca3c4ad8f...</td><td>4000.0</td><td>4000.0</td><td>36 months</td><td>9.93</td><td>128.94</td><td>Sep-2017</td><td>Current</td><td>credit_card</td><td>Credit card refin...</td><td>2024-08-10 15:17:...</td></tr>\n",
       "<tr><td>118216186</td><td>1d6546a2cbc1fd240...</td><td>10000.0</td><td>10000.0</td><td>36 months</td><td>10.91</td><td>326.97</td><td>Sep-2017</td><td>Current</td><td>debt_consolidation</td><td>Debt consolidation</td><td>2024-08-10 15:17:...</td></tr>\n",
       "<tr><td>117584790</td><td>d6208beced388988f...</td><td>20000.0</td><td>20000.0</td><td>36 months</td><td>12.62</td><td>670.23</td><td>Sep-2017</td><td>Fully Paid</td><td>home_improvement</td><td>Home improvement</td><td>2024-08-10 15:17:...</td></tr>\n",
       "<tr><td>118208834</td><td>b4af936688c28c165...</td><td>15000.0</td><td>15000.0</td><td>36 months</td><td>7.97</td><td>469.84</td><td>Sep-2017</td><td>Current</td><td>debt_consolidation</td><td>Debt consolidation</td><td>2024-08-10 15:17:...</td></tr>\n",
       "<tr><td>117566588</td><td>2c04e047879ada04e...</td><td>21000.0</td><td>21000.0</td><td>60 months</td><td>13.59</td><td>484.19</td><td>Sep-2017</td><td>Current</td><td>home_improvement</td><td>Home improvement</td><td>2024-08-10 15:17:...</td></tr>\n",
       "<tr><td>118221134</td><td>39dfcd293cb7b2c17...</td><td>10000.0</td><td>10000.0</td><td>60 months</td><td>15.05</td><td>238.17</td><td>Sep-2017</td><td>Current</td><td>debt_consolidation</td><td>Debt consolidation</td><td>2024-08-10 15:17:...</td></tr>\n",
       "<tr><td>118183021</td><td>5e6e1f8ad59c71a0b...</td><td>5600.0</td><td>5600.0</td><td>36 months</td><td>5.32</td><td>168.65</td><td>Sep-2017</td><td>Current</td><td>debt_consolidation</td><td>Debt consolidation</td><td>2024-08-10 15:17:...</td></tr>\n",
       "<tr><td>118209005</td><td>afd3b57e55eb95ed8...</td><td>16000.0</td><td>16000.0</td><td>36 months</td><td>7.21</td><td>495.58</td><td>Sep-2017</td><td>Current</td><td>home_improvement</td><td>Home improvement</td><td>2024-08-10 15:17:...</td></tr>\n",
       "<tr><td>118214952</td><td>8b5eed45ac53a0238...</td><td>7000.0</td><td>7000.0</td><td>36 months</td><td>7.97</td><td>219.26</td><td>Sep-2017</td><td>Current</td><td>car</td><td>Car financing</td><td>2024-08-10 15:17:...</td></tr>\n",
       "<tr><td>117566851</td><td>f9b1d34c3edcb893e...</td><td>18000.0</td><td>18000.0</td><td>60 months</td><td>20.0</td><td>476.89</td><td>Sep-2017</td><td>Current</td><td>major_purchase</td><td>Major purchase</td><td>2024-08-10 15:17:...</td></tr>\n",
       "<tr><td>115648172</td><td>1ad9eaf0cd017b07b...</td><td>14000.0</td><td>14000.0</td><td>36 months</td><td>10.42</td><td>454.51</td><td>Sep-2017</td><td>Current</td><td>debt_consolidation</td><td>Debt consolidation</td><td>2024-08-10 15:17:...</td></tr>\n",
       "<tr><td>115354924</td><td>319d1b9f0f8262a44...</td><td>28000.0</td><td>28000.0</td><td>36 months</td><td>11.99</td><td>929.87</td><td>Sep-2017</td><td>Fully Paid</td><td>debt_consolidation</td><td>Debt consolidation</td><td>2024-08-10 15:17:...</td></tr>\n",
       "<tr><td>118216367</td><td>f8d7c9355352667eb...</td><td>19200.0</td><td>19200.0</td><td>60 months</td><td>9.93</td><td>407.29</td><td>Sep-2017</td><td>Fully Paid</td><td>debt_consolidation</td><td>Debt consolidation</td><td>2024-08-10 15:17:...</td></tr>\n",
       "<tr><td>118209104</td><td>e599af63f1a06e96d...</td><td>40000.0</td><td>40000.0</td><td>60 months</td><td>15.05</td><td>952.65</td><td>Sep-2017</td><td>Current</td><td>other</td><td>Other</td><td>2024-08-10 15:17:...</td></tr>\n",
       "<tr><td>118193433</td><td>d7f76105042a35af5...</td><td>10000.0</td><td>10000.0</td><td>60 months</td><td>20.0</td><td>264.94</td><td>Sep-2017</td><td>Current</td><td>debt_consolidation</td><td>Debt consolidation</td><td>2024-08-10 15:17:...</td></tr>\n",
       "<tr><td>118188718</td><td>d7b8a3478590b59c6...</td><td>8000.0</td><td>8000.0</td><td>36 months</td><td>14.08</td><td>273.74</td><td>Sep-2017</td><td>Fully Paid</td><td>credit_card</td><td>Credit card refin...</td><td>2024-08-10 15:17:...</td></tr>\n",
       "<tr><td>116868788</td><td>4885a59f1ae5534c3...</td><td>6000.0</td><td>6000.0</td><td>36 months</td><td>10.91</td><td>196.18</td><td>Sep-2017</td><td>Current</td><td>home_improvement</td><td>Home improvement</td><td>2024-08-10 15:17:...</td></tr>\n",
       "<tr><td>116264178</td><td>4558ee1fa31903d33...</td><td>7200.0</td><td>7200.0</td><td>36 months</td><td>7.21</td><td>223.01</td><td>Sep-2017</td><td>Current</td><td>debt_consolidation</td><td>Debt consolidation</td><td>2024-08-10 15:17:...</td></tr>\n",
       "<tr><td>117616063</td><td>619b3b7101cf2aeb7...</td><td>6000.0</td><td>6000.0</td><td>36 months</td><td>7.97</td><td>187.94</td><td>Sep-2017</td><td>Current</td><td>debt_consolidation</td><td>Debt consolidation</td><td>2024-08-10 15:17:...</td></tr>\n",
       "</table>\n",
       "only showing top 20 rows\n"
      ],
      "text/plain": [
       "+---------+--------------------+-----------+-------------+----------------+-------------+-------------------+----------+-----------+------------------+--------------------+--------------------+\n",
       "|  loan_id|           member_id|loan_amount|funded_amount|loan_term_months|interest_rate|monthly_installment|issue_date|loan_status|      loan_purpose|          loan_title|         ingest_date|\n",
       "+---------+--------------------+-----------+-------------+----------------+-------------+-------------------+----------+-----------+------------------+--------------------+--------------------+\n",
       "|118184277|707271898dcabc8b2...|     4500.0|       4500.0|       36 months|         7.07|              139.1|  Sep-2017| Fully Paid|debt_consolidation|  Debt consolidation|2024-08-10 15:17:...|\n",
       "|117289602|8e1ea10aca3c4ad8f...|     4000.0|       4000.0|       36 months|         9.93|             128.94|  Sep-2017|    Current|       credit_card|Credit card refin...|2024-08-10 15:17:...|\n",
       "|118216186|1d6546a2cbc1fd240...|    10000.0|      10000.0|       36 months|        10.91|             326.97|  Sep-2017|    Current|debt_consolidation|  Debt consolidation|2024-08-10 15:17:...|\n",
       "|117584790|d6208beced388988f...|    20000.0|      20000.0|       36 months|        12.62|             670.23|  Sep-2017| Fully Paid|  home_improvement|    Home improvement|2024-08-10 15:17:...|\n",
       "|118208834|b4af936688c28c165...|    15000.0|      15000.0|       36 months|         7.97|             469.84|  Sep-2017|    Current|debt_consolidation|  Debt consolidation|2024-08-10 15:17:...|\n",
       "|117566588|2c04e047879ada04e...|    21000.0|      21000.0|       60 months|        13.59|             484.19|  Sep-2017|    Current|  home_improvement|    Home improvement|2024-08-10 15:17:...|\n",
       "|118221134|39dfcd293cb7b2c17...|    10000.0|      10000.0|       60 months|        15.05|             238.17|  Sep-2017|    Current|debt_consolidation|  Debt consolidation|2024-08-10 15:17:...|\n",
       "|118183021|5e6e1f8ad59c71a0b...|     5600.0|       5600.0|       36 months|         5.32|             168.65|  Sep-2017|    Current|debt_consolidation|  Debt consolidation|2024-08-10 15:17:...|\n",
       "|118209005|afd3b57e55eb95ed8...|    16000.0|      16000.0|       36 months|         7.21|             495.58|  Sep-2017|    Current|  home_improvement|    Home improvement|2024-08-10 15:17:...|\n",
       "|118214952|8b5eed45ac53a0238...|     7000.0|       7000.0|       36 months|         7.97|             219.26|  Sep-2017|    Current|               car|       Car financing|2024-08-10 15:17:...|\n",
       "|117566851|f9b1d34c3edcb893e...|    18000.0|      18000.0|       60 months|         20.0|             476.89|  Sep-2017|    Current|    major_purchase|      Major purchase|2024-08-10 15:17:...|\n",
       "|115648172|1ad9eaf0cd017b07b...|    14000.0|      14000.0|       36 months|        10.42|             454.51|  Sep-2017|    Current|debt_consolidation|  Debt consolidation|2024-08-10 15:17:...|\n",
       "|115354924|319d1b9f0f8262a44...|    28000.0|      28000.0|       36 months|        11.99|             929.87|  Sep-2017| Fully Paid|debt_consolidation|  Debt consolidation|2024-08-10 15:17:...|\n",
       "|118216367|f8d7c9355352667eb...|    19200.0|      19200.0|       60 months|         9.93|             407.29|  Sep-2017| Fully Paid|debt_consolidation|  Debt consolidation|2024-08-10 15:17:...|\n",
       "|118209104|e599af63f1a06e96d...|    40000.0|      40000.0|       60 months|        15.05|             952.65|  Sep-2017|    Current|             other|               Other|2024-08-10 15:17:...|\n",
       "|118193433|d7f76105042a35af5...|    10000.0|      10000.0|       60 months|         20.0|             264.94|  Sep-2017|    Current|debt_consolidation|  Debt consolidation|2024-08-10 15:17:...|\n",
       "|118188718|d7b8a3478590b59c6...|     8000.0|       8000.0|       36 months|        14.08|             273.74|  Sep-2017| Fully Paid|       credit_card|Credit card refin...|2024-08-10 15:17:...|\n",
       "|116868788|4885a59f1ae5534c3...|     6000.0|       6000.0|       36 months|        10.91|             196.18|  Sep-2017|    Current|  home_improvement|    Home improvement|2024-08-10 15:17:...|\n",
       "|116264178|4558ee1fa31903d33...|     7200.0|       7200.0|       36 months|         7.21|             223.01|  Sep-2017|    Current|debt_consolidation|  Debt consolidation|2024-08-10 15:17:...|\n",
       "|117616063|619b3b7101cf2aeb7...|     6000.0|       6000.0|       36 months|         7.97|             187.94|  Sep-2017|    Current|debt_consolidation|  Debt consolidation|2024-08-10 15:17:...|\n",
       "+---------+--------------------+-----------+-------------+----------------+-------------+-------------------+----------+-----------+------------------+--------------------+--------------------+\n",
       "only showing top 20 rows"
      ]
     },
     "execution_count": 14,
     "metadata": {},
     "output_type": "execute_result"
    }
   ],
   "source": [
    "spark.sql(\"select * from loans\")"
   ]
  },
  {
   "cell_type": "markdown",
   "id": "7dda6141",
   "metadata": {},
   "source": [
    "## Converting loan_term_months to loan_term_years"
   ]
  },
  {
   "cell_type": "code",
   "execution_count": 15,
   "id": "6616c357",
   "metadata": {},
   "outputs": [],
   "source": [
    "loans_term_modified_df = loans_filtered_df \\\n",
    ".withColumn(\"loan_term_months\", (regexp_replace(col(\"loan_term_months\"), \"months\", \"\") \\\n",
    ".cast('int')/12).cast('int')).withColumnRenamed(\"loan_term_months\", \"loan_term_years\")"
   ]
  },
  {
   "cell_type": "code",
   "execution_count": 16,
   "id": "c1a551c4",
   "metadata": {},
   "outputs": [
    {
     "name": "stdout",
     "output_type": "stream",
     "text": [
      "root\n",
      " |-- loan_id: string (nullable = true)\n",
      " |-- member_id: string (nullable = true)\n",
      " |-- loan_amount: float (nullable = true)\n",
      " |-- funded_amount: float (nullable = true)\n",
      " |-- loan_term_years: integer (nullable = true)\n",
      " |-- interest_rate: float (nullable = true)\n",
      " |-- monthly_installment: float (nullable = true)\n",
      " |-- issue_date: string (nullable = true)\n",
      " |-- loan_status: string (nullable = true)\n",
      " |-- loan_purpose: string (nullable = true)\n",
      " |-- loan_title: string (nullable = true)\n",
      " |-- ingest_date: timestamp (nullable = false)\n",
      "\n"
     ]
    }
   ],
   "source": [
    "loans_term_modified_df.printSchema()"
   ]
  },
  {
   "cell_type": "code",
   "execution_count": 17,
   "id": "fe71fc5f",
   "metadata": {},
   "outputs": [],
   "source": [
    "loans_term_modified_df.createOrReplaceTempView(\"loans\")"
   ]
  },
  {
   "cell_type": "code",
   "execution_count": 18,
   "id": "0695931e",
   "metadata": {},
   "outputs": [
    {
     "data": {
      "text/html": [
       "<table border='1'>\n",
       "<tr><th>loan_id</th><th>member_id</th><th>loan_amount</th><th>funded_amount</th><th>loan_term_years</th><th>interest_rate</th><th>monthly_installment</th><th>issue_date</th><th>loan_status</th><th>loan_purpose</th><th>loan_title</th><th>ingest_date</th></tr>\n",
       "<tr><td>118184277</td><td>707271898dcabc8b2...</td><td>4500.0</td><td>4500.0</td><td>3</td><td>7.07</td><td>139.1</td><td>Sep-2017</td><td>Fully Paid</td><td>debt_consolidation</td><td>Debt consolidation</td><td>2024-08-10 15:18:...</td></tr>\n",
       "<tr><td>117289602</td><td>8e1ea10aca3c4ad8f...</td><td>4000.0</td><td>4000.0</td><td>3</td><td>9.93</td><td>128.94</td><td>Sep-2017</td><td>Current</td><td>credit_card</td><td>Credit card refin...</td><td>2024-08-10 15:18:...</td></tr>\n",
       "<tr><td>118216186</td><td>1d6546a2cbc1fd240...</td><td>10000.0</td><td>10000.0</td><td>3</td><td>10.91</td><td>326.97</td><td>Sep-2017</td><td>Current</td><td>debt_consolidation</td><td>Debt consolidation</td><td>2024-08-10 15:18:...</td></tr>\n",
       "<tr><td>117584790</td><td>d6208beced388988f...</td><td>20000.0</td><td>20000.0</td><td>3</td><td>12.62</td><td>670.23</td><td>Sep-2017</td><td>Fully Paid</td><td>home_improvement</td><td>Home improvement</td><td>2024-08-10 15:18:...</td></tr>\n",
       "<tr><td>118208834</td><td>b4af936688c28c165...</td><td>15000.0</td><td>15000.0</td><td>3</td><td>7.97</td><td>469.84</td><td>Sep-2017</td><td>Current</td><td>debt_consolidation</td><td>Debt consolidation</td><td>2024-08-10 15:18:...</td></tr>\n",
       "<tr><td>117566588</td><td>2c04e047879ada04e...</td><td>21000.0</td><td>21000.0</td><td>5</td><td>13.59</td><td>484.19</td><td>Sep-2017</td><td>Current</td><td>home_improvement</td><td>Home improvement</td><td>2024-08-10 15:18:...</td></tr>\n",
       "<tr><td>118221134</td><td>39dfcd293cb7b2c17...</td><td>10000.0</td><td>10000.0</td><td>5</td><td>15.05</td><td>238.17</td><td>Sep-2017</td><td>Current</td><td>debt_consolidation</td><td>Debt consolidation</td><td>2024-08-10 15:18:...</td></tr>\n",
       "<tr><td>118183021</td><td>5e6e1f8ad59c71a0b...</td><td>5600.0</td><td>5600.0</td><td>3</td><td>5.32</td><td>168.65</td><td>Sep-2017</td><td>Current</td><td>debt_consolidation</td><td>Debt consolidation</td><td>2024-08-10 15:18:...</td></tr>\n",
       "<tr><td>118209005</td><td>afd3b57e55eb95ed8...</td><td>16000.0</td><td>16000.0</td><td>3</td><td>7.21</td><td>495.58</td><td>Sep-2017</td><td>Current</td><td>home_improvement</td><td>Home improvement</td><td>2024-08-10 15:18:...</td></tr>\n",
       "<tr><td>118214952</td><td>8b5eed45ac53a0238...</td><td>7000.0</td><td>7000.0</td><td>3</td><td>7.97</td><td>219.26</td><td>Sep-2017</td><td>Current</td><td>car</td><td>Car financing</td><td>2024-08-10 15:18:...</td></tr>\n",
       "<tr><td>117566851</td><td>f9b1d34c3edcb893e...</td><td>18000.0</td><td>18000.0</td><td>5</td><td>20.0</td><td>476.89</td><td>Sep-2017</td><td>Current</td><td>major_purchase</td><td>Major purchase</td><td>2024-08-10 15:18:...</td></tr>\n",
       "<tr><td>115648172</td><td>1ad9eaf0cd017b07b...</td><td>14000.0</td><td>14000.0</td><td>3</td><td>10.42</td><td>454.51</td><td>Sep-2017</td><td>Current</td><td>debt_consolidation</td><td>Debt consolidation</td><td>2024-08-10 15:18:...</td></tr>\n",
       "<tr><td>115354924</td><td>319d1b9f0f8262a44...</td><td>28000.0</td><td>28000.0</td><td>3</td><td>11.99</td><td>929.87</td><td>Sep-2017</td><td>Fully Paid</td><td>debt_consolidation</td><td>Debt consolidation</td><td>2024-08-10 15:18:...</td></tr>\n",
       "<tr><td>118216367</td><td>f8d7c9355352667eb...</td><td>19200.0</td><td>19200.0</td><td>5</td><td>9.93</td><td>407.29</td><td>Sep-2017</td><td>Fully Paid</td><td>debt_consolidation</td><td>Debt consolidation</td><td>2024-08-10 15:18:...</td></tr>\n",
       "<tr><td>118209104</td><td>e599af63f1a06e96d...</td><td>40000.0</td><td>40000.0</td><td>5</td><td>15.05</td><td>952.65</td><td>Sep-2017</td><td>Current</td><td>other</td><td>Other</td><td>2024-08-10 15:18:...</td></tr>\n",
       "<tr><td>118193433</td><td>d7f76105042a35af5...</td><td>10000.0</td><td>10000.0</td><td>5</td><td>20.0</td><td>264.94</td><td>Sep-2017</td><td>Current</td><td>debt_consolidation</td><td>Debt consolidation</td><td>2024-08-10 15:18:...</td></tr>\n",
       "<tr><td>118188718</td><td>d7b8a3478590b59c6...</td><td>8000.0</td><td>8000.0</td><td>3</td><td>14.08</td><td>273.74</td><td>Sep-2017</td><td>Fully Paid</td><td>credit_card</td><td>Credit card refin...</td><td>2024-08-10 15:18:...</td></tr>\n",
       "<tr><td>116868788</td><td>4885a59f1ae5534c3...</td><td>6000.0</td><td>6000.0</td><td>3</td><td>10.91</td><td>196.18</td><td>Sep-2017</td><td>Current</td><td>home_improvement</td><td>Home improvement</td><td>2024-08-10 15:18:...</td></tr>\n",
       "<tr><td>116264178</td><td>4558ee1fa31903d33...</td><td>7200.0</td><td>7200.0</td><td>3</td><td>7.21</td><td>223.01</td><td>Sep-2017</td><td>Current</td><td>debt_consolidation</td><td>Debt consolidation</td><td>2024-08-10 15:18:...</td></tr>\n",
       "<tr><td>117616063</td><td>619b3b7101cf2aeb7...</td><td>6000.0</td><td>6000.0</td><td>3</td><td>7.97</td><td>187.94</td><td>Sep-2017</td><td>Current</td><td>debt_consolidation</td><td>Debt consolidation</td><td>2024-08-10 15:18:...</td></tr>\n",
       "</table>\n",
       "only showing top 20 rows\n"
      ],
      "text/plain": [
       "+---------+--------------------+-----------+-------------+---------------+-------------+-------------------+----------+-----------+------------------+--------------------+--------------------+\n",
       "|  loan_id|           member_id|loan_amount|funded_amount|loan_term_years|interest_rate|monthly_installment|issue_date|loan_status|      loan_purpose|          loan_title|         ingest_date|\n",
       "+---------+--------------------+-----------+-------------+---------------+-------------+-------------------+----------+-----------+------------------+--------------------+--------------------+\n",
       "|118184277|707271898dcabc8b2...|     4500.0|       4500.0|              3|         7.07|              139.1|  Sep-2017| Fully Paid|debt_consolidation|  Debt consolidation|2024-08-10 15:18:...|\n",
       "|117289602|8e1ea10aca3c4ad8f...|     4000.0|       4000.0|              3|         9.93|             128.94|  Sep-2017|    Current|       credit_card|Credit card refin...|2024-08-10 15:18:...|\n",
       "|118216186|1d6546a2cbc1fd240...|    10000.0|      10000.0|              3|        10.91|             326.97|  Sep-2017|    Current|debt_consolidation|  Debt consolidation|2024-08-10 15:18:...|\n",
       "|117584790|d6208beced388988f...|    20000.0|      20000.0|              3|        12.62|             670.23|  Sep-2017| Fully Paid|  home_improvement|    Home improvement|2024-08-10 15:18:...|\n",
       "|118208834|b4af936688c28c165...|    15000.0|      15000.0|              3|         7.97|             469.84|  Sep-2017|    Current|debt_consolidation|  Debt consolidation|2024-08-10 15:18:...|\n",
       "|117566588|2c04e047879ada04e...|    21000.0|      21000.0|              5|        13.59|             484.19|  Sep-2017|    Current|  home_improvement|    Home improvement|2024-08-10 15:18:...|\n",
       "|118221134|39dfcd293cb7b2c17...|    10000.0|      10000.0|              5|        15.05|             238.17|  Sep-2017|    Current|debt_consolidation|  Debt consolidation|2024-08-10 15:18:...|\n",
       "|118183021|5e6e1f8ad59c71a0b...|     5600.0|       5600.0|              3|         5.32|             168.65|  Sep-2017|    Current|debt_consolidation|  Debt consolidation|2024-08-10 15:18:...|\n",
       "|118209005|afd3b57e55eb95ed8...|    16000.0|      16000.0|              3|         7.21|             495.58|  Sep-2017|    Current|  home_improvement|    Home improvement|2024-08-10 15:18:...|\n",
       "|118214952|8b5eed45ac53a0238...|     7000.0|       7000.0|              3|         7.97|             219.26|  Sep-2017|    Current|               car|       Car financing|2024-08-10 15:18:...|\n",
       "|117566851|f9b1d34c3edcb893e...|    18000.0|      18000.0|              5|         20.0|             476.89|  Sep-2017|    Current|    major_purchase|      Major purchase|2024-08-10 15:18:...|\n",
       "|115648172|1ad9eaf0cd017b07b...|    14000.0|      14000.0|              3|        10.42|             454.51|  Sep-2017|    Current|debt_consolidation|  Debt consolidation|2024-08-10 15:18:...|\n",
       "|115354924|319d1b9f0f8262a44...|    28000.0|      28000.0|              3|        11.99|             929.87|  Sep-2017| Fully Paid|debt_consolidation|  Debt consolidation|2024-08-10 15:18:...|\n",
       "|118216367|f8d7c9355352667eb...|    19200.0|      19200.0|              5|         9.93|             407.29|  Sep-2017| Fully Paid|debt_consolidation|  Debt consolidation|2024-08-10 15:18:...|\n",
       "|118209104|e599af63f1a06e96d...|    40000.0|      40000.0|              5|        15.05|             952.65|  Sep-2017|    Current|             other|               Other|2024-08-10 15:18:...|\n",
       "|118193433|d7f76105042a35af5...|    10000.0|      10000.0|              5|         20.0|             264.94|  Sep-2017|    Current|debt_consolidation|  Debt consolidation|2024-08-10 15:18:...|\n",
       "|118188718|d7b8a3478590b59c6...|     8000.0|       8000.0|              3|        14.08|             273.74|  Sep-2017| Fully Paid|       credit_card|Credit card refin...|2024-08-10 15:18:...|\n",
       "|116868788|4885a59f1ae5534c3...|     6000.0|       6000.0|              3|        10.91|             196.18|  Sep-2017|    Current|  home_improvement|    Home improvement|2024-08-10 15:18:...|\n",
       "|116264178|4558ee1fa31903d33...|     7200.0|       7200.0|              3|         7.21|             223.01|  Sep-2017|    Current|debt_consolidation|  Debt consolidation|2024-08-10 15:18:...|\n",
       "|117616063|619b3b7101cf2aeb7...|     6000.0|       6000.0|              3|         7.97|             187.94|  Sep-2017|    Current|debt_consolidation|  Debt consolidation|2024-08-10 15:18:...|\n",
       "+---------+--------------------+-----------+-------------+---------------+-------------+-------------------+----------+-----------+------------------+--------------------+--------------------+\n",
       "only showing top 20 rows"
      ]
     },
     "execution_count": 18,
     "metadata": {},
     "output_type": "execute_result"
    }
   ],
   "source": [
    "spark.sql(\"select * from loans\")"
   ]
  },
  {
   "cell_type": "markdown",
   "id": "7a168ed1",
   "metadata": {},
   "source": [
    "## Classifying important loan purposes and remaining ones as other"
   ]
  },
  {
   "cell_type": "code",
   "execution_count": 19,
   "id": "514e8406",
   "metadata": {},
   "outputs": [
    {
     "data": {
      "text/html": [
       "<table border='1'>\n",
       "<tr><th>loan_purpose</th><th>total</th></tr>\n",
       "<tr><td>debt_consolidation</td><td>1277790</td></tr>\n",
       "<tr><td>credit_card</td><td>516926</td></tr>\n",
       "<tr><td>home_improvement</td><td>150440</td></tr>\n",
       "<tr><td>other</td><td>139413</td></tr>\n",
       "<tr><td>major_purchase</td><td>50429</td></tr>\n",
       "<tr><td>medical</td><td>27481</td></tr>\n",
       "<tr><td>small_business</td><td>24659</td></tr>\n",
       "<tr><td>car</td><td>24009</td></tr>\n",
       "<tr><td>vacation</td><td>15525</td></tr>\n",
       "<tr><td>moving</td><td>15402</td></tr>\n",
       "<tr><td>house</td><td>14131</td></tr>\n",
       "<tr><td>wedding</td><td>2351</td></tr>\n",
       "<tr><td>renewable_energy</td><td>1445</td></tr>\n",
       "<tr><td>educational</td><td>412</td></tr>\n",
       "<tr><td>&lt;br/&gt;&lt;br/&gt;Lending...</td><td>1</td></tr>\n",
       "<tr><td>and if they are a...</td><td>1</td></tr>\n",
       "<tr><td>because of the na...</td><td>1</td></tr>\n",
       "<tr><td>never had any tro...</td><td>1</td></tr>\n",
       "<tr><td>you may feel conf...</td><td>1</td></tr>\n",
       "<tr><td>so I have to pay ...</td><td>1</td></tr>\n",
       "</table>\n",
       "only showing top 20 rows\n"
      ],
      "text/plain": [
       "+--------------------+-------+\n",
       "|        loan_purpose|  total|\n",
       "+--------------------+-------+\n",
       "|  debt_consolidation|1277790|\n",
       "|         credit_card| 516926|\n",
       "|    home_improvement| 150440|\n",
       "|               other| 139413|\n",
       "|      major_purchase|  50429|\n",
       "|             medical|  27481|\n",
       "|      small_business|  24659|\n",
       "|                 car|  24009|\n",
       "|            vacation|  15525|\n",
       "|              moving|  15402|\n",
       "|               house|  14131|\n",
       "|             wedding|   2351|\n",
       "|    renewable_energy|   1445|\n",
       "|         educational|    412|\n",
       "|I became his prim...|      1|\n",
       "|on one of the bus...|      1|\n",
       "|I have eliminated...|      1|\n",
       "|because of the na...|      1|\n",
       "|TutoringOne is a ...|      1|\n",
       "|so I have to pay ...|      1|\n",
       "+--------------------+-------+\n",
       "only showing top 20 rows"
      ]
     },
     "execution_count": 19,
     "metadata": {},
     "output_type": "execute_result"
    }
   ],
   "source": [
    "spark.sql(\"select loan_purpose, count(*) as total from loans group by loan_purpose order by total desc\")"
   ]
  },
  {
   "cell_type": "code",
   "execution_count": 20,
   "id": "79fb2b59",
   "metadata": {},
   "outputs": [],
   "source": [
    "loan_purpose_lookup=[\"debt_consolidation\",\"credit_card\",\"home_improvement\",\"other\",\"major_purchase\",\"medical\",\"small_business\",\n",
    "                     \"car\",\"vacation\",\"moving\",\"house\",\"wedding\",\"renewable_energy\",\"educational\"]"
   ]
  },
  {
   "cell_type": "code",
   "execution_count": 21,
   "id": "a69a425f",
   "metadata": {},
   "outputs": [],
   "source": [
    "loans_purpose_modified = loans_term_modified_df.withColumn(\"loan_purpose\", when(col(\"loan_purpose\") \\\n",
    "                        .isin(loan_purpose_lookup), col(\"loan_purpose\")).otherwise(\"other\"))"
   ]
  },
  {
   "cell_type": "code",
   "execution_count": 22,
   "id": "086436d8",
   "metadata": {},
   "outputs": [
    {
     "data": {
      "text/html": [
       "<table border='1'>\n",
       "<tr><th>loan_id</th><th>member_id</th><th>loan_amount</th><th>funded_amount</th><th>loan_term_years</th><th>interest_rate</th><th>monthly_installment</th><th>issue_date</th><th>loan_status</th><th>loan_purpose</th><th>loan_title</th><th>ingest_date</th></tr>\n",
       "<tr><td>118184277</td><td>707271898dcabc8b2...</td><td>4500.0</td><td>4500.0</td><td>3</td><td>7.07</td><td>139.1</td><td>Sep-2017</td><td>Fully Paid</td><td>debt_consolidation</td><td>Debt consolidation</td><td>2024-08-10 15:18:...</td></tr>\n",
       "<tr><td>117289602</td><td>8e1ea10aca3c4ad8f...</td><td>4000.0</td><td>4000.0</td><td>3</td><td>9.93</td><td>128.94</td><td>Sep-2017</td><td>Current</td><td>credit_card</td><td>Credit card refin...</td><td>2024-08-10 15:18:...</td></tr>\n",
       "<tr><td>118216186</td><td>1d6546a2cbc1fd240...</td><td>10000.0</td><td>10000.0</td><td>3</td><td>10.91</td><td>326.97</td><td>Sep-2017</td><td>Current</td><td>debt_consolidation</td><td>Debt consolidation</td><td>2024-08-10 15:18:...</td></tr>\n",
       "<tr><td>117584790</td><td>d6208beced388988f...</td><td>20000.0</td><td>20000.0</td><td>3</td><td>12.62</td><td>670.23</td><td>Sep-2017</td><td>Fully Paid</td><td>home_improvement</td><td>Home improvement</td><td>2024-08-10 15:18:...</td></tr>\n",
       "<tr><td>118208834</td><td>b4af936688c28c165...</td><td>15000.0</td><td>15000.0</td><td>3</td><td>7.97</td><td>469.84</td><td>Sep-2017</td><td>Current</td><td>debt_consolidation</td><td>Debt consolidation</td><td>2024-08-10 15:18:...</td></tr>\n",
       "<tr><td>117566588</td><td>2c04e047879ada04e...</td><td>21000.0</td><td>21000.0</td><td>5</td><td>13.59</td><td>484.19</td><td>Sep-2017</td><td>Current</td><td>home_improvement</td><td>Home improvement</td><td>2024-08-10 15:18:...</td></tr>\n",
       "<tr><td>118221134</td><td>39dfcd293cb7b2c17...</td><td>10000.0</td><td>10000.0</td><td>5</td><td>15.05</td><td>238.17</td><td>Sep-2017</td><td>Current</td><td>debt_consolidation</td><td>Debt consolidation</td><td>2024-08-10 15:18:...</td></tr>\n",
       "<tr><td>118183021</td><td>5e6e1f8ad59c71a0b...</td><td>5600.0</td><td>5600.0</td><td>3</td><td>5.32</td><td>168.65</td><td>Sep-2017</td><td>Current</td><td>debt_consolidation</td><td>Debt consolidation</td><td>2024-08-10 15:18:...</td></tr>\n",
       "<tr><td>118209005</td><td>afd3b57e55eb95ed8...</td><td>16000.0</td><td>16000.0</td><td>3</td><td>7.21</td><td>495.58</td><td>Sep-2017</td><td>Current</td><td>home_improvement</td><td>Home improvement</td><td>2024-08-10 15:18:...</td></tr>\n",
       "<tr><td>118214952</td><td>8b5eed45ac53a0238...</td><td>7000.0</td><td>7000.0</td><td>3</td><td>7.97</td><td>219.26</td><td>Sep-2017</td><td>Current</td><td>car</td><td>Car financing</td><td>2024-08-10 15:18:...</td></tr>\n",
       "<tr><td>117566851</td><td>f9b1d34c3edcb893e...</td><td>18000.0</td><td>18000.0</td><td>5</td><td>20.0</td><td>476.89</td><td>Sep-2017</td><td>Current</td><td>major_purchase</td><td>Major purchase</td><td>2024-08-10 15:18:...</td></tr>\n",
       "<tr><td>115648172</td><td>1ad9eaf0cd017b07b...</td><td>14000.0</td><td>14000.0</td><td>3</td><td>10.42</td><td>454.51</td><td>Sep-2017</td><td>Current</td><td>debt_consolidation</td><td>Debt consolidation</td><td>2024-08-10 15:18:...</td></tr>\n",
       "<tr><td>115354924</td><td>319d1b9f0f8262a44...</td><td>28000.0</td><td>28000.0</td><td>3</td><td>11.99</td><td>929.87</td><td>Sep-2017</td><td>Fully Paid</td><td>debt_consolidation</td><td>Debt consolidation</td><td>2024-08-10 15:18:...</td></tr>\n",
       "<tr><td>118216367</td><td>f8d7c9355352667eb...</td><td>19200.0</td><td>19200.0</td><td>5</td><td>9.93</td><td>407.29</td><td>Sep-2017</td><td>Fully Paid</td><td>debt_consolidation</td><td>Debt consolidation</td><td>2024-08-10 15:18:...</td></tr>\n",
       "<tr><td>118209104</td><td>e599af63f1a06e96d...</td><td>40000.0</td><td>40000.0</td><td>5</td><td>15.05</td><td>952.65</td><td>Sep-2017</td><td>Current</td><td>other</td><td>Other</td><td>2024-08-10 15:18:...</td></tr>\n",
       "<tr><td>118193433</td><td>d7f76105042a35af5...</td><td>10000.0</td><td>10000.0</td><td>5</td><td>20.0</td><td>264.94</td><td>Sep-2017</td><td>Current</td><td>debt_consolidation</td><td>Debt consolidation</td><td>2024-08-10 15:18:...</td></tr>\n",
       "<tr><td>118188718</td><td>d7b8a3478590b59c6...</td><td>8000.0</td><td>8000.0</td><td>3</td><td>14.08</td><td>273.74</td><td>Sep-2017</td><td>Fully Paid</td><td>credit_card</td><td>Credit card refin...</td><td>2024-08-10 15:18:...</td></tr>\n",
       "<tr><td>116868788</td><td>4885a59f1ae5534c3...</td><td>6000.0</td><td>6000.0</td><td>3</td><td>10.91</td><td>196.18</td><td>Sep-2017</td><td>Current</td><td>home_improvement</td><td>Home improvement</td><td>2024-08-10 15:18:...</td></tr>\n",
       "<tr><td>116264178</td><td>4558ee1fa31903d33...</td><td>7200.0</td><td>7200.0</td><td>3</td><td>7.21</td><td>223.01</td><td>Sep-2017</td><td>Current</td><td>debt_consolidation</td><td>Debt consolidation</td><td>2024-08-10 15:18:...</td></tr>\n",
       "<tr><td>117616063</td><td>619b3b7101cf2aeb7...</td><td>6000.0</td><td>6000.0</td><td>3</td><td>7.97</td><td>187.94</td><td>Sep-2017</td><td>Current</td><td>debt_consolidation</td><td>Debt consolidation</td><td>2024-08-10 15:18:...</td></tr>\n",
       "</table>\n",
       "only showing top 20 rows\n"
      ],
      "text/plain": [
       "+---------+--------------------+-----------+-------------+---------------+-------------+-------------------+----------+-----------+------------------+--------------------+--------------------+\n",
       "|  loan_id|           member_id|loan_amount|funded_amount|loan_term_years|interest_rate|monthly_installment|issue_date|loan_status|      loan_purpose|          loan_title|         ingest_date|\n",
       "+---------+--------------------+-----------+-------------+---------------+-------------+-------------------+----------+-----------+------------------+--------------------+--------------------+\n",
       "|118184277|707271898dcabc8b2...|     4500.0|       4500.0|              3|         7.07|              139.1|  Sep-2017| Fully Paid|debt_consolidation|  Debt consolidation|2024-08-10 15:18:...|\n",
       "|117289602|8e1ea10aca3c4ad8f...|     4000.0|       4000.0|              3|         9.93|             128.94|  Sep-2017|    Current|       credit_card|Credit card refin...|2024-08-10 15:18:...|\n",
       "|118216186|1d6546a2cbc1fd240...|    10000.0|      10000.0|              3|        10.91|             326.97|  Sep-2017|    Current|debt_consolidation|  Debt consolidation|2024-08-10 15:18:...|\n",
       "|117584790|d6208beced388988f...|    20000.0|      20000.0|              3|        12.62|             670.23|  Sep-2017| Fully Paid|  home_improvement|    Home improvement|2024-08-10 15:18:...|\n",
       "|118208834|b4af936688c28c165...|    15000.0|      15000.0|              3|         7.97|             469.84|  Sep-2017|    Current|debt_consolidation|  Debt consolidation|2024-08-10 15:18:...|\n",
       "|117566588|2c04e047879ada04e...|    21000.0|      21000.0|              5|        13.59|             484.19|  Sep-2017|    Current|  home_improvement|    Home improvement|2024-08-10 15:18:...|\n",
       "|118221134|39dfcd293cb7b2c17...|    10000.0|      10000.0|              5|        15.05|             238.17|  Sep-2017|    Current|debt_consolidation|  Debt consolidation|2024-08-10 15:18:...|\n",
       "|118183021|5e6e1f8ad59c71a0b...|     5600.0|       5600.0|              3|         5.32|             168.65|  Sep-2017|    Current|debt_consolidation|  Debt consolidation|2024-08-10 15:18:...|\n",
       "|118209005|afd3b57e55eb95ed8...|    16000.0|      16000.0|              3|         7.21|             495.58|  Sep-2017|    Current|  home_improvement|    Home improvement|2024-08-10 15:18:...|\n",
       "|118214952|8b5eed45ac53a0238...|     7000.0|       7000.0|              3|         7.97|             219.26|  Sep-2017|    Current|               car|       Car financing|2024-08-10 15:18:...|\n",
       "|117566851|f9b1d34c3edcb893e...|    18000.0|      18000.0|              5|         20.0|             476.89|  Sep-2017|    Current|    major_purchase|      Major purchase|2024-08-10 15:18:...|\n",
       "|115648172|1ad9eaf0cd017b07b...|    14000.0|      14000.0|              3|        10.42|             454.51|  Sep-2017|    Current|debt_consolidation|  Debt consolidation|2024-08-10 15:18:...|\n",
       "|115354924|319d1b9f0f8262a44...|    28000.0|      28000.0|              3|        11.99|             929.87|  Sep-2017| Fully Paid|debt_consolidation|  Debt consolidation|2024-08-10 15:18:...|\n",
       "|118216367|f8d7c9355352667eb...|    19200.0|      19200.0|              5|         9.93|             407.29|  Sep-2017| Fully Paid|debt_consolidation|  Debt consolidation|2024-08-10 15:18:...|\n",
       "|118209104|e599af63f1a06e96d...|    40000.0|      40000.0|              5|        15.05|             952.65|  Sep-2017|    Current|             other|               Other|2024-08-10 15:18:...|\n",
       "|118193433|d7f76105042a35af5...|    10000.0|      10000.0|              5|         20.0|             264.94|  Sep-2017|    Current|debt_consolidation|  Debt consolidation|2024-08-10 15:18:...|\n",
       "|118188718|d7b8a3478590b59c6...|     8000.0|       8000.0|              3|        14.08|             273.74|  Sep-2017| Fully Paid|       credit_card|Credit card refin...|2024-08-10 15:18:...|\n",
       "|116868788|4885a59f1ae5534c3...|     6000.0|       6000.0|              3|        10.91|             196.18|  Sep-2017|    Current|  home_improvement|    Home improvement|2024-08-10 15:18:...|\n",
       "|116264178|4558ee1fa31903d33...|     7200.0|       7200.0|              3|         7.21|             223.01|  Sep-2017|    Current|debt_consolidation|  Debt consolidation|2024-08-10 15:18:...|\n",
       "|117616063|619b3b7101cf2aeb7...|     6000.0|       6000.0|              3|         7.97|             187.94|  Sep-2017|    Current|debt_consolidation|  Debt consolidation|2024-08-10 15:18:...|\n",
       "+---------+--------------------+-----------+-------------+---------------+-------------+-------------------+----------+-----------+------------------+--------------------+--------------------+\n",
       "only showing top 20 rows"
      ]
     },
     "execution_count": 22,
     "metadata": {},
     "output_type": "execute_result"
    }
   ],
   "source": [
    "loans_purpose_modified"
   ]
  },
  {
   "cell_type": "code",
   "execution_count": 23,
   "id": "10564a0f",
   "metadata": {},
   "outputs": [],
   "source": [
    "loans_purpose_modified.createOrReplaceTempView(\"loans\")"
   ]
  },
  {
   "cell_type": "code",
   "execution_count": 25,
   "id": "f49f11f5",
   "metadata": {},
   "outputs": [
    {
     "data": {
      "text/html": [
       "<table border='1'>\n",
       "<tr><th>loan_purpose</th><th>total</th></tr>\n",
       "<tr><td>debt_consolidation</td><td>1277790</td></tr>\n",
       "<tr><td>credit_card</td><td>516926</td></tr>\n",
       "<tr><td>home_improvement</td><td>150440</td></tr>\n",
       "<tr><td>other</td><td>139667</td></tr>\n",
       "<tr><td>major_purchase</td><td>50429</td></tr>\n",
       "<tr><td>medical</td><td>27481</td></tr>\n",
       "<tr><td>small_business</td><td>24659</td></tr>\n",
       "<tr><td>car</td><td>24009</td></tr>\n",
       "<tr><td>vacation</td><td>15525</td></tr>\n",
       "<tr><td>moving</td><td>15402</td></tr>\n",
       "<tr><td>house</td><td>14131</td></tr>\n",
       "<tr><td>wedding</td><td>2351</td></tr>\n",
       "<tr><td>renewable_energy</td><td>1445</td></tr>\n",
       "<tr><td>educational</td><td>412</td></tr>\n",
       "</table>\n"
      ],
      "text/plain": [
       "+------------------+-------+\n",
       "|      loan_purpose|  total|\n",
       "+------------------+-------+\n",
       "|debt_consolidation|1277790|\n",
       "|       credit_card| 516926|\n",
       "|  home_improvement| 150440|\n",
       "|             other| 139667|\n",
       "|    major_purchase|  50429|\n",
       "|           medical|  27481|\n",
       "|    small_business|  24659|\n",
       "|               car|  24009|\n",
       "|          vacation|  15525|\n",
       "|            moving|  15402|\n",
       "|             house|  14131|\n",
       "|           wedding|   2351|\n",
       "|  renewable_energy|   1445|\n",
       "|       educational|    412|\n",
       "+------------------+-------+"
      ]
     },
     "execution_count": 25,
     "metadata": {},
     "output_type": "execute_result"
    }
   ],
   "source": [
    "spark.sql(\"select loan_purpose, count(*) as total from loans group by loan_purpose order by total desc\")"
   ]
  },
  {
   "cell_type": "code",
   "execution_count": 26,
   "id": "c2acf896",
   "metadata": {},
   "outputs": [
    {
     "data": {
      "text/html": [
       "<table border='1'>\n",
       "<tr><th>loan_purpose</th><th>total</th></tr>\n",
       "<tr><td>debt_consolidation</td><td>1277790</td></tr>\n",
       "<tr><td>credit_card</td><td>516926</td></tr>\n",
       "<tr><td>home_improvement</td><td>150440</td></tr>\n",
       "<tr><td>other</td><td>139667</td></tr>\n",
       "<tr><td>major_purchase</td><td>50429</td></tr>\n",
       "<tr><td>medical</td><td>27481</td></tr>\n",
       "<tr><td>small_business</td><td>24659</td></tr>\n",
       "<tr><td>car</td><td>24009</td></tr>\n",
       "<tr><td>vacation</td><td>15525</td></tr>\n",
       "<tr><td>moving</td><td>15402</td></tr>\n",
       "<tr><td>house</td><td>14131</td></tr>\n",
       "<tr><td>wedding</td><td>2351</td></tr>\n",
       "<tr><td>renewable_energy</td><td>1445</td></tr>\n",
       "<tr><td>educational</td><td>412</td></tr>\n",
       "</table>\n"
      ],
      "text/plain": [
       "+------------------+-------+\n",
       "|      loan_purpose|  total|\n",
       "+------------------+-------+\n",
       "|debt_consolidation|1277790|\n",
       "|       credit_card| 516926|\n",
       "|  home_improvement| 150440|\n",
       "|             other| 139667|\n",
       "|    major_purchase|  50429|\n",
       "|           medical|  27481|\n",
       "|    small_business|  24659|\n",
       "|               car|  24009|\n",
       "|          vacation|  15525|\n",
       "|            moving|  15402|\n",
       "|             house|  14131|\n",
       "|           wedding|   2351|\n",
       "|  renewable_energy|   1445|\n",
       "|       educational|    412|\n",
       "+------------------+-------+"
      ]
     },
     "execution_count": 26,
     "metadata": {},
     "output_type": "execute_result"
    }
   ],
   "source": [
    "loans_purpose_modified.groupBy(\"loan_purpose\").agg(count(\"*\").alias(\"total\")).orderBy(col(\"total\").desc())"
   ]
  },
  {
   "cell_type": "markdown",
   "id": "640a436c",
   "metadata": {},
   "source": [
    "## Writing the data back to hdfs in parquet and csv format for further use"
   ]
  },
  {
   "cell_type": "code",
   "execution_count": 28,
   "id": "89ea054c",
   "metadata": {},
   "outputs": [],
   "source": [
    "loans_purpose_modified.write \\\n",
    ".option(\"header\", True) \\\n",
    ".format(\"csv\") \\\n",
    ".mode(\"overwrite\") \\\n",
    ".option(\"path\", \"/user/itv012713/lendingclubproject/clean_data/loans_cleaned_csv\").save()"
   ]
  },
  {
   "cell_type": "code",
   "execution_count": 29,
   "id": "74d729c3",
   "metadata": {},
   "outputs": [],
   "source": [
    "loans_purpose_modified.write \\\n",
    ".option(\"header\", True) \\\n",
    ".format(\"parquet\") \\\n",
    ".mode(\"overwrite\") \\\n",
    ".option(\"path\", \"/user/itv012713/lendingclubproject/clean_data/loans_cleaned\").save()"
   ]
  },
  {
   "cell_type": "code",
   "execution_count": null,
   "id": "c18513fb",
   "metadata": {},
   "outputs": [],
   "source": []
  }
 ],
 "metadata": {
  "kernelspec": {
   "display_name": "Pyspark 3",
   "language": "python",
   "name": "pyspark3"
  },
  "language_info": {
   "codemirror_mode": {
    "name": "ipython",
    "version": 3
   },
   "file_extension": ".py",
   "mimetype": "text/x-python",
   "name": "python",
   "nbconvert_exporter": "python",
   "pygments_lexer": "ipython3",
   "version": "3.6.12"
  }
 },
 "nbformat": 4,
 "nbformat_minor": 5
}
