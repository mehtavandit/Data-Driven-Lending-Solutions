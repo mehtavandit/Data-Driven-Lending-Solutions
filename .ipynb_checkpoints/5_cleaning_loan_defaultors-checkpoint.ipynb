{
 "cells": [
  {
   "cell_type": "code",
   "execution_count": 4,
   "id": "1941b271",
   "metadata": {},
   "outputs": [],
   "source": [
    "from pyspark.sql import SparkSession\n",
    "spark=SparkSession.\\\n",
    "builder.\\\n",
    "config('spark.shuffle.useOldFetchProtocol','true').\\\n",
    "config('spark.ui.port','0').\\\n",
    "config(\"spark.sql.warehouse.dir\",\"/user/itv012713/warehouse\").\\\n",
    "enableHiveSupport().\\\n",
    "master('yarn').\\\n",
    "getOrCreate()\n",
    "\n"
   ]
  },
  {
   "cell_type": "code",
   "execution_count": 5,
   "id": "e1b7bdda",
   "metadata": {},
   "outputs": [],
   "source": [
    "from pyspark.sql.functions import current_timestamp, when, col"
   ]
  },
  {
   "cell_type": "markdown",
   "id": "c454d73a",
   "metadata": {},
   "source": [
    "## Generating a Dataframe with proper datatypes"
   ]
  },
  {
   "cell_type": "code",
   "execution_count": 6,
   "id": "6c3f70c2",
   "metadata": {},
   "outputs": [],
   "source": [
    "defaulter_schema=\"member_id string,delinq_2yrs float,delinq_amnt float,pub_rec float,pub_rec_bankruptcies float,inq_last_6mths float,total_rec_late_fee float,mths_since_last_delinq float,mths_since_last_record float\""
   ]
  },
  {
   "cell_type": "code",
   "execution_count": 19,
   "id": "162d2e9f",
   "metadata": {},
   "outputs": [],
   "source": [
    "loans_def_raw_df = spark.read.format(\"csv\").option(\"header\",True).schema(defaulter_schema).load(\"/public/trendytech/lendingclubproject/raw/loans_defaulters_csv\")"
   ]
  },
  {
   "cell_type": "code",
   "execution_count": 20,
   "id": "6d8643e3",
   "metadata": {},
   "outputs": [
    {
     "data": {
      "text/html": [
       "<table border='1'>\n",
       "<tr><th>member_id</th><th>delinq_2yrs</th><th>delinq_amnt</th><th>pub_rec</th><th>pub_rec_bankruptcies</th><th>inq_last_6mths</th><th>total_rec_late_fee</th><th>mths_since_last_delinq</th><th>mths_since_last_record</th></tr>\n",
       "<tr><td>9cb79aa7323e81be1...</td><td>2.0</td><td>0.0</td><td>0.0</td><td>0.0</td><td>0.0</td><td>0.0</td><td>11.0</td><td>null</td></tr>\n",
       "<tr><td>0dd2bbc517e3c8f9e...</td><td>0.0</td><td>0.0</td><td>1.0</td><td>1.0</td><td>3.0</td><td>0.0</td><td>null</td><td>115.0</td></tr>\n",
       "<tr><td>458458599d3df3bfc...</td><td>0.0</td><td>0.0</td><td>1.0</td><td>1.0</td><td>1.0</td><td>0.0</td><td>null</td><td>76.0</td></tr>\n",
       "<tr><td>05ea141ec28b5c7f7...</td><td>0.0</td><td>0.0</td><td>0.0</td><td>0.0</td><td>0.0</td><td>0.0</td><td>null</td><td>null</td></tr>\n",
       "<tr><td>aac68850fdac09fd0...</td><td>1.0</td><td>0.0</td><td>0.0</td><td>0.0</td><td>0.0</td><td>0.0</td><td>21.0</td><td>null</td></tr>\n",
       "<tr><td>3a423e4589e89f429...</td><td>0.0</td><td>0.0</td><td>0.0</td><td>0.0</td><td>0.0</td><td>0.0</td><td>null</td><td>null</td></tr>\n",
       "<tr><td>f1efcf7dfbfef21be...</td><td>0.0</td><td>0.0</td><td>0.0</td><td>0.0</td><td>1.0</td><td>0.0</td><td>null</td><td>null</td></tr>\n",
       "<tr><td>c89986155a070db2e...</td><td>1.0</td><td>0.0</td><td>0.0</td><td>0.0</td><td>1.0</td><td>15.0</td><td>5.0</td><td>null</td></tr>\n",
       "<tr><td>118dc629b6e134419...</td><td>0.0</td><td>0.0</td><td>0.0</td><td>0.0</td><td>0.0</td><td>0.0</td><td>null</td><td>null</td></tr>\n",
       "<tr><td>a86fa4b7493708333...</td><td>0.0</td><td>0.0</td><td>0.0</td><td>0.0</td><td>0.0</td><td>0.0</td><td>null</td><td>null</td></tr>\n",
       "<tr><td>6e8d94bf446e97025...</td><td>0.0</td><td>0.0</td><td>0.0</td><td>0.0</td><td>0.0</td><td>0.0</td><td>36.0</td><td>null</td></tr>\n",
       "<tr><td>3de585156dc6b73f6...</td><td>0.0</td><td>0.0</td><td>0.0</td><td>0.0</td><td>0.0</td><td>0.0</td><td>null</td><td>null</td></tr>\n",
       "<tr><td>e88945f86a96f8d71...</td><td>0.0</td><td>0.0</td><td>0.0</td><td>0.0</td><td>1.0</td><td>0.0</td><td>null</td><td>null</td></tr>\n",
       "<tr><td>42f73fd8a01f1c475...</td><td>0.0</td><td>0.0</td><td>0.0</td><td>0.0</td><td>0.0</td><td>0.0</td><td>46.0</td><td>null</td></tr>\n",
       "<tr><td>c680bca32456530e6...</td><td>0.0</td><td>0.0</td><td>0.0</td><td>0.0</td><td>0.0</td><td>0.0</td><td>null</td><td>null</td></tr>\n",
       "<tr><td>3c36e35bcc0379690...</td><td>0.0</td><td>0.0</td><td>0.0</td><td>0.0</td><td>0.0</td><td>0.0</td><td>null</td><td>null</td></tr>\n",
       "<tr><td>4e1c30a5dfe9f1e20...</td><td>0.0</td><td>0.0</td><td>0.0</td><td>0.0</td><td>1.0</td><td>34.68</td><td>null</td><td>null</td></tr>\n",
       "<tr><td>1eef79a0e79b72c7a...</td><td>1.0</td><td>0.0</td><td>0.0</td><td>0.0</td><td>0.0</td><td>0.0</td><td>21.0</td><td>null</td></tr>\n",
       "<tr><td>89d42771f79636d22...</td><td>0.0</td><td>0.0</td><td>0.0</td><td>0.0</td><td>0.0</td><td>0.0</td><td>null</td><td>null</td></tr>\n",
       "<tr><td>1dd1d1b51473d4993...</td><td>0.0</td><td>0.0</td><td>0.0</td><td>0.0</td><td>0.0</td><td>0.0</td><td>44.0</td><td>null</td></tr>\n",
       "</table>\n",
       "only showing top 20 rows\n"
      ],
      "text/plain": [
       "+--------------------+-----------+-----------+-------+--------------------+--------------+------------------+----------------------+----------------------+\n",
       "|           member_id|delinq_2yrs|delinq_amnt|pub_rec|pub_rec_bankruptcies|inq_last_6mths|total_rec_late_fee|mths_since_last_delinq|mths_since_last_record|\n",
       "+--------------------+-----------+-----------+-------+--------------------+--------------+------------------+----------------------+----------------------+\n",
       "|9cb79aa7323e81be1...|        2.0|        0.0|    0.0|                 0.0|           0.0|               0.0|                  11.0|                  null|\n",
       "|0dd2bbc517e3c8f9e...|        0.0|        0.0|    1.0|                 1.0|           3.0|               0.0|                  null|                 115.0|\n",
       "|458458599d3df3bfc...|        0.0|        0.0|    1.0|                 1.0|           1.0|               0.0|                  null|                  76.0|\n",
       "|05ea141ec28b5c7f7...|        0.0|        0.0|    0.0|                 0.0|           0.0|               0.0|                  null|                  null|\n",
       "|aac68850fdac09fd0...|        1.0|        0.0|    0.0|                 0.0|           0.0|               0.0|                  21.0|                  null|\n",
       "|3a423e4589e89f429...|        0.0|        0.0|    0.0|                 0.0|           0.0|               0.0|                  null|                  null|\n",
       "|f1efcf7dfbfef21be...|        0.0|        0.0|    0.0|                 0.0|           1.0|               0.0|                  null|                  null|\n",
       "|c89986155a070db2e...|        1.0|        0.0|    0.0|                 0.0|           1.0|              15.0|                   5.0|                  null|\n",
       "|118dc629b6e134419...|        0.0|        0.0|    0.0|                 0.0|           0.0|               0.0|                  null|                  null|\n",
       "|a86fa4b7493708333...|        0.0|        0.0|    0.0|                 0.0|           0.0|               0.0|                  null|                  null|\n",
       "|6e8d94bf446e97025...|        0.0|        0.0|    0.0|                 0.0|           0.0|               0.0|                  36.0|                  null|\n",
       "|3de585156dc6b73f6...|        0.0|        0.0|    0.0|                 0.0|           0.0|               0.0|                  null|                  null|\n",
       "|e88945f86a96f8d71...|        0.0|        0.0|    0.0|                 0.0|           1.0|               0.0|                  null|                  null|\n",
       "|42f73fd8a01f1c475...|        0.0|        0.0|    0.0|                 0.0|           0.0|               0.0|                  46.0|                  null|\n",
       "|c680bca32456530e6...|        0.0|        0.0|    0.0|                 0.0|           0.0|               0.0|                  null|                  null|\n",
       "|3c36e35bcc0379690...|        0.0|        0.0|    0.0|                 0.0|           0.0|               0.0|                  null|                  null|\n",
       "|4e1c30a5dfe9f1e20...|        0.0|        0.0|    0.0|                 0.0|           1.0|             34.68|                  null|                  null|\n",
       "|1eef79a0e79b72c7a...|        1.0|        0.0|    0.0|                 0.0|           0.0|               0.0|                  21.0|                  null|\n",
       "|89d42771f79636d22...|        0.0|        0.0|    0.0|                 0.0|           0.0|               0.0|                  null|                  null|\n",
       "|1dd1d1b51473d4993...|        0.0|        0.0|    0.0|                 0.0|           0.0|               0.0|                  44.0|                  null|\n",
       "+--------------------+-----------+-----------+-------+--------------------+--------------+------------------+----------------------+----------------------+\n",
       "only showing top 20 rows"
      ]
     },
     "execution_count": 20,
     "metadata": {},
     "output_type": "execute_result"
    }
   ],
   "source": [
    "loans_def_raw_df"
   ]
  },
  {
   "cell_type": "code",
   "execution_count": 21,
   "id": "6f382644",
   "metadata": {},
   "outputs": [
    {
     "name": "stdout",
     "output_type": "stream",
     "text": [
      "root\n",
      " |-- member_id: string (nullable = true)\n",
      " |-- delinq_2yrs: float (nullable = true)\n",
      " |-- delinq_amnt: float (nullable = true)\n",
      " |-- pub_rec: float (nullable = true)\n",
      " |-- pub_rec_bankruptcies: float (nullable = true)\n",
      " |-- inq_last_6mths: float (nullable = true)\n",
      " |-- total_rec_late_fee: float (nullable = true)\n",
      " |-- mths_since_last_delinq: float (nullable = true)\n",
      " |-- mths_since_last_record: float (nullable = true)\n",
      "\n"
     ]
    }
   ],
   "source": [
    "loans_def_raw_df.printSchema()"
   ]
  },
  {
   "cell_type": "code",
   "execution_count": 22,
   "id": "8aa236df",
   "metadata": {},
   "outputs": [],
   "source": [
    "loans_def_raw_df.createOrReplaceTempView(\"loan_defaultors\")"
   ]
  },
  {
   "cell_type": "code",
   "execution_count": 23,
   "id": "99a0e9b5",
   "metadata": {},
   "outputs": [
    {
     "name": "stdout",
     "output_type": "stream",
     "text": [
      "+-----------+-------+\n",
      "|delinq_2yrs|  total|\n",
      "+-----------+-------+\n",
      "|        0.0|1838878|\n",
      "|        1.0| 281335|\n",
      "|        2.0|  81285|\n",
      "|        3.0|  29539|\n",
      "|        4.0|  13179|\n",
      "|        5.0|   6599|\n",
      "|        6.0|   3717|\n",
      "|        7.0|   2062|\n",
      "|        8.0|   1223|\n",
      "|        9.0|    818|\n",
      "|       10.0|    556|\n",
      "|       11.0|    363|\n",
      "|       12.0|    264|\n",
      "|       null|    261|\n",
      "|       13.0|    165|\n",
      "|       14.0|    120|\n",
      "|       15.0|     87|\n",
      "|       16.0|     55|\n",
      "|       17.0|     30|\n",
      "|       18.0|     30|\n",
      "|       19.0|     23|\n",
      "|       20.0|     17|\n",
      "|       21.0|     12|\n",
      "|       22.0|      5|\n",
      "|       24.0|      4|\n",
      "|       26.0|      3|\n",
      "|       23.0|      2|\n",
      "|       29.0|      2|\n",
      "|       25.0|      2|\n",
      "|       30.0|      2|\n",
      "|       3.44|      2|\n",
      "|      18.53|      1|\n",
      "|      26.24|      1|\n",
      "|      17.17|      1|\n",
      "|       39.0|      1|\n",
      "|       1.37|      1|\n",
      "|       58.0|      1|\n",
      "|      13.76|      1|\n",
      "|       9.44|      1|\n",
      "|       5.52|      1|\n",
      "+-----------+-------+\n",
      "only showing top 40 rows\n",
      "\n"
     ]
    }
   ],
   "source": [
    "spark.sql(\"select delinq_2yrs, count(*) as total from loan_defaultors group by delinq_2yrs order by total desc\").show(40)"
   ]
  },
  {
   "cell_type": "markdown",
   "id": "a86e3a8f",
   "metadata": {},
   "source": [
    "## Converting deling_2yrs column to integer, and nulls to 0"
   ]
  },
  {
   "cell_type": "code",
   "execution_count": 24,
   "id": "377ae834",
   "metadata": {},
   "outputs": [],
   "source": [
    "loans_def_processed_df = loans_def_raw_df.withColumn(\"delinq_2yrs\", col(\"delinq_2yrs\").cast(\"integer\")).fillna(0, subset = [\"delinq_2yrs\"])"
   ]
  },
  {
   "cell_type": "code",
   "execution_count": 25,
   "id": "41175ac4",
   "metadata": {},
   "outputs": [],
   "source": [
    "loans_def_processed_df.createOrReplaceTempView(\"loan_defaultors\")"
   ]
  },
  {
   "cell_type": "code",
   "execution_count": 26,
   "id": "c62e2d77",
   "metadata": {},
   "outputs": [
    {
     "data": {
      "text/html": [
       "<table border='1'>\n",
       "<tr><th>count(1)</th></tr>\n",
       "<tr><td>0</td></tr>\n",
       "</table>\n"
      ],
      "text/plain": [
       "+--------+\n",
       "|count(1)|\n",
       "+--------+\n",
       "|       0|\n",
       "+--------+"
      ]
     },
     "execution_count": 26,
     "metadata": {},
     "output_type": "execute_result"
    }
   ],
   "source": [
    "spark.sql(\"select count(*) from loan_defaultors where delinq_2yrs is null\")"
   ]
  },
  {
   "cell_type": "code",
   "execution_count": 27,
   "id": "3bb7dff9",
   "metadata": {},
   "outputs": [
    {
     "name": "stdout",
     "output_type": "stream",
     "text": [
      "+-----------+-------+\n",
      "|delinq_2yrs|  total|\n",
      "+-----------+-------+\n",
      "|          0|1839141|\n",
      "|          1| 281337|\n",
      "|          2|  81285|\n",
      "|          3|  29545|\n",
      "|          4|  13180|\n",
      "|          5|   6601|\n",
      "|          6|   3719|\n",
      "|          7|   2063|\n",
      "|          8|   1226|\n",
      "|          9|    821|\n",
      "|         10|    558|\n",
      "|         11|    363|\n",
      "|         12|    266|\n",
      "|         13|    167|\n",
      "|         14|    123|\n",
      "|         15|     90|\n",
      "|         16|     56|\n",
      "|         17|     33|\n",
      "|         18|     32|\n",
      "|         19|     24|\n",
      "|         20|     19|\n",
      "|         21|     16|\n",
      "|         22|      7|\n",
      "|         24|      6|\n",
      "|         23|      5|\n",
      "|         26|      4|\n",
      "|         25|      2|\n",
      "|         30|      2|\n",
      "|         29|      2|\n",
      "|         27|      1|\n",
      "|         35|      1|\n",
      "|         28|      1|\n",
      "|         42|      1|\n",
      "|         39|      1|\n",
      "|         58|      1|\n",
      "|         36|      1|\n",
      "|         32|      1|\n",
      "+-----------+-------+\n",
      "\n"
     ]
    }
   ],
   "source": [
    "spark.sql(\"select delinq_2yrs, count(*) as total from loan_defaultors group by delinq_2yrs order by total desc\").show(40)"
   ]
  },
  {
   "cell_type": "code",
   "execution_count": 28,
   "id": "eb8ae63f",
   "metadata": {},
   "outputs": [
    {
     "data": {
      "text/html": [
       "<table border='1'>\n",
       "<tr><th>member_id</th><th>delinq_2yrs</th><th>delinq_amnt</th><th>pub_rec</th><th>pub_rec_bankruptcies</th><th>inq_last_6mths</th><th>total_rec_late_fee</th><th>mths_since_last_delinq</th><th>mths_since_last_record</th></tr>\n",
       "<tr><td>0dd2bbc517e3c8f9e...</td><td>0</td><td>0.0</td><td>1.0</td><td>1.0</td><td>3.0</td><td>0.0</td><td>null</td><td>115.0</td></tr>\n",
       "<tr><td>458458599d3df3bfc...</td><td>0</td><td>0.0</td><td>1.0</td><td>1.0</td><td>1.0</td><td>0.0</td><td>null</td><td>76.0</td></tr>\n",
       "<tr><td>05ea141ec28b5c7f7...</td><td>0</td><td>0.0</td><td>0.0</td><td>0.0</td><td>0.0</td><td>0.0</td><td>null</td><td>null</td></tr>\n",
       "<tr><td>3a423e4589e89f429...</td><td>0</td><td>0.0</td><td>0.0</td><td>0.0</td><td>0.0</td><td>0.0</td><td>null</td><td>null</td></tr>\n",
       "<tr><td>f1efcf7dfbfef21be...</td><td>0</td><td>0.0</td><td>0.0</td><td>0.0</td><td>1.0</td><td>0.0</td><td>null</td><td>null</td></tr>\n",
       "<tr><td>118dc629b6e134419...</td><td>0</td><td>0.0</td><td>0.0</td><td>0.0</td><td>0.0</td><td>0.0</td><td>null</td><td>null</td></tr>\n",
       "<tr><td>a86fa4b7493708333...</td><td>0</td><td>0.0</td><td>0.0</td><td>0.0</td><td>0.0</td><td>0.0</td><td>null</td><td>null</td></tr>\n",
       "<tr><td>6e8d94bf446e97025...</td><td>0</td><td>0.0</td><td>0.0</td><td>0.0</td><td>0.0</td><td>0.0</td><td>36.0</td><td>null</td></tr>\n",
       "<tr><td>3de585156dc6b73f6...</td><td>0</td><td>0.0</td><td>0.0</td><td>0.0</td><td>0.0</td><td>0.0</td><td>null</td><td>null</td></tr>\n",
       "<tr><td>e88945f86a96f8d71...</td><td>0</td><td>0.0</td><td>0.0</td><td>0.0</td><td>1.0</td><td>0.0</td><td>null</td><td>null</td></tr>\n",
       "<tr><td>42f73fd8a01f1c475...</td><td>0</td><td>0.0</td><td>0.0</td><td>0.0</td><td>0.0</td><td>0.0</td><td>46.0</td><td>null</td></tr>\n",
       "<tr><td>c680bca32456530e6...</td><td>0</td><td>0.0</td><td>0.0</td><td>0.0</td><td>0.0</td><td>0.0</td><td>null</td><td>null</td></tr>\n",
       "<tr><td>3c36e35bcc0379690...</td><td>0</td><td>0.0</td><td>0.0</td><td>0.0</td><td>0.0</td><td>0.0</td><td>null</td><td>null</td></tr>\n",
       "<tr><td>4e1c30a5dfe9f1e20...</td><td>0</td><td>0.0</td><td>0.0</td><td>0.0</td><td>1.0</td><td>34.68</td><td>null</td><td>null</td></tr>\n",
       "<tr><td>89d42771f79636d22...</td><td>0</td><td>0.0</td><td>0.0</td><td>0.0</td><td>0.0</td><td>0.0</td><td>null</td><td>null</td></tr>\n",
       "<tr><td>1dd1d1b51473d4993...</td><td>0</td><td>0.0</td><td>0.0</td><td>0.0</td><td>0.0</td><td>0.0</td><td>44.0</td><td>null</td></tr>\n",
       "<tr><td>a34e7ded2e7ce53e7...</td><td>0</td><td>0.0</td><td>0.0</td><td>0.0</td><td>0.0</td><td>0.0</td><td>null</td><td>null</td></tr>\n",
       "<tr><td>76cbefe31f7834f47...</td><td>0</td><td>0.0</td><td>0.0</td><td>0.0</td><td>1.0</td><td>0.0</td><td>null</td><td>null</td></tr>\n",
       "<tr><td>cbf0ef4df1d36d3af...</td><td>0</td><td>0.0</td><td>0.0</td><td>0.0</td><td>0.0</td><td>0.0</td><td>null</td><td>null</td></tr>\n",
       "<tr><td>8241a6bb3a9350fb8...</td><td>0</td><td>0.0</td><td>0.0</td><td>0.0</td><td>0.0</td><td>0.0</td><td>57.0</td><td>null</td></tr>\n",
       "</table>\n",
       "only showing top 20 rows\n"
      ],
      "text/plain": [
       "+--------------------+-----------+-----------+-------+--------------------+--------------+------------------+----------------------+----------------------+\n",
       "|           member_id|delinq_2yrs|delinq_amnt|pub_rec|pub_rec_bankruptcies|inq_last_6mths|total_rec_late_fee|mths_since_last_delinq|mths_since_last_record|\n",
       "+--------------------+-----------+-----------+-------+--------------------+--------------+------------------+----------------------+----------------------+\n",
       "|0dd2bbc517e3c8f9e...|          0|        0.0|    1.0|                 1.0|           3.0|               0.0|                  null|                 115.0|\n",
       "|458458599d3df3bfc...|          0|        0.0|    1.0|                 1.0|           1.0|               0.0|                  null|                  76.0|\n",
       "|05ea141ec28b5c7f7...|          0|        0.0|    0.0|                 0.0|           0.0|               0.0|                  null|                  null|\n",
       "|3a423e4589e89f429...|          0|        0.0|    0.0|                 0.0|           0.0|               0.0|                  null|                  null|\n",
       "|f1efcf7dfbfef21be...|          0|        0.0|    0.0|                 0.0|           1.0|               0.0|                  null|                  null|\n",
       "|118dc629b6e134419...|          0|        0.0|    0.0|                 0.0|           0.0|               0.0|                  null|                  null|\n",
       "|a86fa4b7493708333...|          0|        0.0|    0.0|                 0.0|           0.0|               0.0|                  null|                  null|\n",
       "|6e8d94bf446e97025...|          0|        0.0|    0.0|                 0.0|           0.0|               0.0|                  36.0|                  null|\n",
       "|3de585156dc6b73f6...|          0|        0.0|    0.0|                 0.0|           0.0|               0.0|                  null|                  null|\n",
       "|e88945f86a96f8d71...|          0|        0.0|    0.0|                 0.0|           1.0|               0.0|                  null|                  null|\n",
       "|42f73fd8a01f1c475...|          0|        0.0|    0.0|                 0.0|           0.0|               0.0|                  46.0|                  null|\n",
       "|c680bca32456530e6...|          0|        0.0|    0.0|                 0.0|           0.0|               0.0|                  null|                  null|\n",
       "|3c36e35bcc0379690...|          0|        0.0|    0.0|                 0.0|           0.0|               0.0|                  null|                  null|\n",
       "|4e1c30a5dfe9f1e20...|          0|        0.0|    0.0|                 0.0|           1.0|             34.68|                  null|                  null|\n",
       "|89d42771f79636d22...|          0|        0.0|    0.0|                 0.0|           0.0|               0.0|                  null|                  null|\n",
       "|1dd1d1b51473d4993...|          0|        0.0|    0.0|                 0.0|           0.0|               0.0|                  44.0|                  null|\n",
       "|a34e7ded2e7ce53e7...|          0|        0.0|    0.0|                 0.0|           0.0|               0.0|                  null|                  null|\n",
       "|76cbefe31f7834f47...|          0|        0.0|    0.0|                 0.0|           1.0|               0.0|                  null|                  null|\n",
       "|cbf0ef4df1d36d3af...|          0|        0.0|    0.0|                 0.0|           0.0|               0.0|                  null|                  null|\n",
       "|8241a6bb3a9350fb8...|          0|        0.0|    0.0|                 0.0|           0.0|               0.0|                  57.0|                  null|\n",
       "+--------------------+-----------+-----------+-------+--------------------+--------------+------------------+----------------------+----------------------+\n",
       "only showing top 20 rows"
      ]
     },
     "execution_count": 28,
     "metadata": {},
     "output_type": "execute_result"
    }
   ],
   "source": [
    "spark.sql(\"select * from loan_defaultors where delinq_2yrs = 0\")"
   ]
  },
  {
   "cell_type": "markdown",
   "id": "cbc56fd4",
   "metadata": {},
   "source": [
    "## Divinding two seperate datasets. One for deling and other for public inquiries"
   ]
  },
  {
   "cell_type": "code",
   "execution_count": 39,
   "id": "bad91a1b",
   "metadata": {},
   "outputs": [],
   "source": [
    "loans_def_deling_df = spark.sql(\"select member_id, delinq_2yrs, int(mths_since_last_delinq) from loan_defaultors where delinq_2yrs > 0 or mths_since_last_delinq > 0\")"
   ]
  },
  {
   "cell_type": "code",
   "execution_count": 40,
   "id": "17aa2271",
   "metadata": {},
   "outputs": [
    {
     "data": {
      "text/html": [
       "<table border='1'>\n",
       "<tr><th>member_id</th><th>delinq_2yrs</th><th>mths_since_last_delinq</th></tr>\n",
       "<tr><td>9cb79aa7323e81be1...</td><td>2</td><td>11</td></tr>\n",
       "<tr><td>aac68850fdac09fd0...</td><td>1</td><td>21</td></tr>\n",
       "<tr><td>c89986155a070db2e...</td><td>1</td><td>5</td></tr>\n",
       "<tr><td>6e8d94bf446e97025...</td><td>0</td><td>36</td></tr>\n",
       "<tr><td>42f73fd8a01f1c475...</td><td>0</td><td>46</td></tr>\n",
       "<tr><td>1eef79a0e79b72c7a...</td><td>1</td><td>21</td></tr>\n",
       "<tr><td>1dd1d1b51473d4993...</td><td>0</td><td>44</td></tr>\n",
       "<tr><td>ec1953dba2cfb89ad...</td><td>2</td><td>13</td></tr>\n",
       "<tr><td>8241a6bb3a9350fb8...</td><td>0</td><td>57</td></tr>\n",
       "<tr><td>cdc94fa1c29a6a70a...</td><td>0</td><td>44</td></tr>\n",
       "<tr><td>3712c9da85e54b7b1...</td><td>1</td><td>19</td></tr>\n",
       "<tr><td>6ebc82410b3dc9dcb...</td><td>0</td><td>43</td></tr>\n",
       "<tr><td>d25f6d6da5a92a401...</td><td>0</td><td>45</td></tr>\n",
       "<tr><td>657a760b1d52967fb...</td><td>0</td><td>36</td></tr>\n",
       "<tr><td>030e5c9c411c936c5...</td><td>2</td><td>6</td></tr>\n",
       "<tr><td>7fd6a504a6486e061...</td><td>0</td><td>45</td></tr>\n",
       "<tr><td>a67f439593858be7c...</td><td>0</td><td>28</td></tr>\n",
       "<tr><td>252736f8401b6b046...</td><td>2</td><td>5</td></tr>\n",
       "<tr><td>bf7c24ada32d968a6...</td><td>0</td><td>49</td></tr>\n",
       "<tr><td>a36b7198a8d922b0c...</td><td>0</td><td>75</td></tr>\n",
       "</table>\n",
       "only showing top 20 rows\n"
      ],
      "text/plain": [
       "+--------------------+-----------+----------------------+\n",
       "|           member_id|delinq_2yrs|mths_since_last_delinq|\n",
       "+--------------------+-----------+----------------------+\n",
       "|9cb79aa7323e81be1...|          2|                    11|\n",
       "|aac68850fdac09fd0...|          1|                    21|\n",
       "|c89986155a070db2e...|          1|                     5|\n",
       "|6e8d94bf446e97025...|          0|                    36|\n",
       "|42f73fd8a01f1c475...|          0|                    46|\n",
       "|1eef79a0e79b72c7a...|          1|                    21|\n",
       "|1dd1d1b51473d4993...|          0|                    44|\n",
       "|ec1953dba2cfb89ad...|          2|                    13|\n",
       "|8241a6bb3a9350fb8...|          0|                    57|\n",
       "|cdc94fa1c29a6a70a...|          0|                    44|\n",
       "|3712c9da85e54b7b1...|          1|                    19|\n",
       "|6ebc82410b3dc9dcb...|          0|                    43|\n",
       "|d25f6d6da5a92a401...|          0|                    45|\n",
       "|657a760b1d52967fb...|          0|                    36|\n",
       "|030e5c9c411c936c5...|          2|                     6|\n",
       "|7fd6a504a6486e061...|          0|                    45|\n",
       "|a67f439593858be7c...|          0|                    28|\n",
       "|252736f8401b6b046...|          2|                     5|\n",
       "|bf7c24ada32d968a6...|          0|                    49|\n",
       "|a36b7198a8d922b0c...|          0|                    75|\n",
       "+--------------------+-----------+----------------------+\n",
       "only showing top 20 rows"
      ]
     },
     "execution_count": 40,
     "metadata": {},
     "output_type": "execute_result"
    }
   ],
   "source": [
    "loans_def_deling_df"
   ]
  },
  {
   "cell_type": "code",
   "execution_count": 43,
   "id": "e91054e2",
   "metadata": {},
   "outputs": [],
   "source": [
    "loans_def_records_enq_df = spark.sql(\"select member_id from loan_defaultors where pub_rec > 0.0 or pub_rec_bankruptcies > 0.0 or inq_last_6mths > 0\")"
   ]
  },
  {
   "cell_type": "code",
   "execution_count": 44,
   "id": "1453bd65",
   "metadata": {},
   "outputs": [
    {
     "data": {
      "text/html": [
       "<table border='1'>\n",
       "<tr><th>member_id</th></tr>\n",
       "<tr><td>0dd2bbc517e3c8f9e...</td></tr>\n",
       "<tr><td>458458599d3df3bfc...</td></tr>\n",
       "<tr><td>f1efcf7dfbfef21be...</td></tr>\n",
       "<tr><td>c89986155a070db2e...</td></tr>\n",
       "<tr><td>e88945f86a96f8d71...</td></tr>\n",
       "<tr><td>4e1c30a5dfe9f1e20...</td></tr>\n",
       "<tr><td>76cbefe31f7834f47...</td></tr>\n",
       "<tr><td>47d002f59a274c6f2...</td></tr>\n",
       "<tr><td>09a1c6855801dad88...</td></tr>\n",
       "<tr><td>56d4375718ad6940d...</td></tr>\n",
       "<tr><td>6ebc82410b3dc9dcb...</td></tr>\n",
       "<tr><td>41a307b3c2c66aad8...</td></tr>\n",
       "<tr><td>d168c599b8aea3c0b...</td></tr>\n",
       "<tr><td>657a760b1d52967fb...</td></tr>\n",
       "<tr><td>b7d9da217c8256cfd...</td></tr>\n",
       "<tr><td>a67f439593858be7c...</td></tr>\n",
       "<tr><td>3a4aac093cddcdb0c...</td></tr>\n",
       "<tr><td>23bb4e7a5ed15c1fc...</td></tr>\n",
       "<tr><td>0b55b1efb75760dc3...</td></tr>\n",
       "<tr><td>04eedd3c6357df852...</td></tr>\n",
       "</table>\n",
       "only showing top 20 rows\n"
      ],
      "text/plain": [
       "+--------------------+\n",
       "|           member_id|\n",
       "+--------------------+\n",
       "|0dd2bbc517e3c8f9e...|\n",
       "|458458599d3df3bfc...|\n",
       "|f1efcf7dfbfef21be...|\n",
       "|c89986155a070db2e...|\n",
       "|e88945f86a96f8d71...|\n",
       "|4e1c30a5dfe9f1e20...|\n",
       "|76cbefe31f7834f47...|\n",
       "|47d002f59a274c6f2...|\n",
       "|09a1c6855801dad88...|\n",
       "|56d4375718ad6940d...|\n",
       "|6ebc82410b3dc9dcb...|\n",
       "|41a307b3c2c66aad8...|\n",
       "|d168c599b8aea3c0b...|\n",
       "|657a760b1d52967fb...|\n",
       "|b7d9da217c8256cfd...|\n",
       "|a67f439593858be7c...|\n",
       "|3a4aac093cddcdb0c...|\n",
       "|23bb4e7a5ed15c1fc...|\n",
       "|0b55b1efb75760dc3...|\n",
       "|04eedd3c6357df852...|\n",
       "+--------------------+\n",
       "only showing top 20 rows"
      ]
     },
     "execution_count": 44,
     "metadata": {},
     "output_type": "execute_result"
    }
   ],
   "source": [
    "loans_def_records_enq_df"
   ]
  },
  {
   "cell_type": "markdown",
   "id": "9299dad5",
   "metadata": {},
   "source": [
    "## Writing the data back to hdfs in parquet and csv format for further use"
   ]
  },
  {
   "cell_type": "code",
   "execution_count": null,
   "id": "daafb181",
   "metadata": {},
   "outputs": [],
   "source": [
    "loans_def_deling_df.write \\\n",
    ".option(\"header\", True) \\\n",
    ".format(\"csv\") \\\n",
    ".mode(\"overwrite\") \\\n",
    ".option(\"path\", \"/user/itv012713/lendingclubproject/clean_data/loans_defaultors_deling_csv\").save()"
   ]
  },
  {
   "cell_type": "code",
   "execution_count": null,
   "id": "0ea84ff4",
   "metadata": {},
   "outputs": [],
   "source": []
  }
 ],
 "metadata": {
  "kernelspec": {
   "display_name": "Pyspark 3",
   "language": "python",
   "name": "pyspark3"
  },
  "language_info": {
   "codemirror_mode": {
    "name": "ipython",
    "version": 3
   },
   "file_extension": ".py",
   "mimetype": "text/x-python",
   "name": "python",
   "nbconvert_exporter": "python",
   "pygments_lexer": "ipython3",
   "version": "3.6.12"
  }
 },
 "nbformat": 4,
 "nbformat_minor": 5
}
