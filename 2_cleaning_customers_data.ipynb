{
 "cells": [
  {
   "cell_type": "code",
   "execution_count": 1,
   "id": "9e7a7a6b",
   "metadata": {},
   "outputs": [],
   "source": [
    "from pyspark.sql import SparkSession\n",
    "spark=SparkSession.\\\n",
    "builder.\\\n",
    "config('spark.shuffle.useOldFetchProtocol','true').\\\n",
    "config('spark.ui.port','0').\\\n",
    "config(\"spark.sql.warehouse.dir\",\"/user/itv012713/warehouse\").\\\n",
    "enableHiveSupport().\\\n",
    "master('yarn').\\\n",
    "getOrCreate()\n",
    "\n"
   ]
  },
  {
   "cell_type": "code",
   "execution_count": 35,
   "id": "fa3b7c56",
   "metadata": {},
   "outputs": [],
   "source": [
    "from pyspark.sql.functions import current_timestamp, regexp_replace, col, when, length"
   ]
  },
  {
   "cell_type": "markdown",
   "id": "f989f4cc",
   "metadata": {},
   "source": [
    "## Generating a Dataframe with proper datatypes"
   ]
  },
  {
   "cell_type": "code",
   "execution_count": 3,
   "id": "e68ab62a",
   "metadata": {},
   "outputs": [],
   "source": [
    "customers_schema = \"member_id string,emp_title string,emp_length string,home_ownership string,annual_inc float,addr_state string,zip_code string,country string,grade string,sub_grade string,verification_status string,tot_hi_cred_lim float,application_type string,annual_inc_joint float,verification_status_joint string\""
   ]
  },
  {
   "cell_type": "code",
   "execution_count": 4,
   "id": "fa911732",
   "metadata": {},
   "outputs": [],
   "source": [
    "customers_raw_df = spark.read.format(\"csv\").option(\"header\",True).schema(customers_schema).load(\"/user/itv012713/lendingclubproject/raw/customers_data_csv\")"
   ]
  },
  {
   "cell_type": "code",
   "execution_count": 5,
   "id": "8430ba1c",
   "metadata": {},
   "outputs": [
    {
     "data": {
      "text/html": [
       "<table border='1'>\n",
       "<tr><th>member_id</th><th>emp_title</th><th>emp_length</th><th>home_ownership</th><th>annual_inc</th><th>addr_state</th><th>zip_code</th><th>country</th><th>grade</th><th>sub_grade</th><th>verification_status</th><th>tot_hi_cred_lim</th><th>application_type</th><th>annual_inc_joint</th><th>verification_status_joint</th></tr>\n",
       "<tr><td>9cb79aa7323e81be1...</td><td>Supervisor</td><td>10+ years</td><td>MORTGAGE</td><td>125000.0</td><td>KY</td><td>424xx</td><td>USA</td><td>E</td><td>E3</td><td>Verified</td><td>594540.0</td><td>Individual</td><td>null</td><td>null</td></tr>\n",
       "<tr><td>0dd2bbc517e3c8f9e...</td><td>Security</td><td>&lt; 1 year</td><td>RENT</td><td>54000.0</td><td>WI</td><td>532xx</td><td>USA</td><td>A</td><td>A4</td><td>Not Verified</td><td>57729.0</td><td>Individual</td><td>null</td><td>null</td></tr>\n",
       "<tr><td>458458599d3df3bfc...</td><td>Manager</td><td>5 years</td><td>MORTGAGE</td><td>28000.0</td><td>AR</td><td>721xx</td><td>USA</td><td>C</td><td>C4</td><td>Verified</td><td>82780.0</td><td>Individual</td><td>null</td><td>null</td></tr>\n",
       "<tr><td>05ea141ec28b5c7f7...</td><td>Teller</td><td>3 years</td><td>RENT</td><td>26000.0</td><td>WI</td><td>532xx</td><td>USA</td><td>A</td><td>A5</td><td>Not Verified</td><td>41114.0</td><td>Individual</td><td>null</td><td>null</td></tr>\n",
       "<tr><td>aac68850fdac09fd0...</td><td>Quality Control A...</td><td>3 years</td><td>RENT</td><td>67000.0</td><td>TX</td><td>760xx</td><td>USA</td><td>F</td><td>F2</td><td>Verified</td><td>43449.0</td><td>Individual</td><td>null</td><td>null</td></tr>\n",
       "<tr><td>3a423e4589e89f429...</td><td>Technician</td><td>2 years</td><td>RENT</td><td>65000.0</td><td>CA</td><td>900xx</td><td>USA</td><td>C</td><td>C3</td><td>Verified</td><td>127916.0</td><td>Joint App</td><td>118000.0</td><td>Verified</td></tr>\n",
       "<tr><td>f1efcf7dfbfef21be...</td><td>Host</td><td>&lt; 1 year</td><td>MORTGAGE</td><td>325000.0</td><td>NY</td><td>111xx</td><td>USA</td><td>B</td><td>B5</td><td>Source Verified</td><td>41000.0</td><td>Individual</td><td>null</td><td>null</td></tr>\n",
       "<tr><td>c89986155a070db2e...</td><td>Guest Services Su...</td><td>2 years</td><td>MORTGAGE</td><td>60000.0</td><td>AZ</td><td>850xx</td><td>USA</td><td>C</td><td>C2</td><td>Source Verified</td><td>280890.0</td><td>Individual</td><td>null</td><td>null</td></tr>\n",
       "<tr><td>118dc629b6e134419...</td><td>general manager</td><td>10+ years</td><td>MORTGAGE</td><td>74000.0</td><td>GA</td><td>310xx</td><td>USA</td><td>A</td><td>A3</td><td>Source Verified</td><td>306897.0</td><td>Individual</td><td>null</td><td>null</td></tr>\n",
       "<tr><td>a86fa4b7493708333...</td><td>Sheet Metal Mechanic</td><td>9 years</td><td>MORTGAGE</td><td>54496.0</td><td>GA</td><td>307xx</td><td>USA</td><td>B</td><td>B1</td><td>Verified</td><td>153345.0</td><td>Joint App</td><td>119496.0</td><td>Verified</td></tr>\n",
       "<tr><td>6e8d94bf446e97025...</td><td>Owner</td><td>10+ years</td><td>RENT</td><td>60000.0</td><td>TX</td><td>762xx</td><td>USA</td><td>C</td><td>C2</td><td>Source Verified</td><td>64104.0</td><td>Individual</td><td>null</td><td>null</td></tr>\n",
       "<tr><td>3de585156dc6b73f6...</td><td>Business Manager</td><td>10+ years</td><td>MORTGAGE</td><td>53000.0</td><td>IL</td><td>618xx</td><td>USA</td><td>B</td><td>B2</td><td>Source Verified</td><td>117200.0</td><td>Individual</td><td>null</td><td>null</td></tr>\n",
       "<tr><td>e88945f86a96f8d71...</td><td>Custodian</td><td>10+ years</td><td>MORTGAGE</td><td>465000.0</td><td>RI</td><td>028xx</td><td>USA</td><td>B</td><td>B5</td><td>Not Verified</td><td>365133.0</td><td>Individual</td><td>null</td><td>null</td></tr>\n",
       "<tr><td>42f73fd8a01f1c475...</td><td>Service provider</td><td>10+ years</td><td>MORTGAGE</td><td>110000.0</td><td>CA</td><td>945xx</td><td>USA</td><td>A</td><td>A4</td><td>Source Verified</td><td>524699.0</td><td>Individual</td><td>null</td><td>null</td></tr>\n",
       "<tr><td>c680bca32456530e6...</td><td>Relationship Manager</td><td>3 years</td><td>RENT</td><td>150000.0</td><td>NY</td><td>111xx</td><td>USA</td><td>B</td><td>B2</td><td>Not Verified</td><td>136683.0</td><td>Individual</td><td>null</td><td>null</td></tr>\n",
       "<tr><td>3c36e35bcc0379690...</td><td>Flight attendant</td><td>1 year</td><td>RENT</td><td>40000.0</td><td>CO</td><td>800xx</td><td>USA</td><td>A</td><td>A1</td><td>Source Verified</td><td>62200.0</td><td>Individual</td><td>null</td><td>null</td></tr>\n",
       "<tr><td>4e1c30a5dfe9f1e20...</td><td>Pilot</td><td>2 years</td><td>MORTGAGE</td><td>106000.0</td><td>AL</td><td>356xx</td><td>USA</td><td>C</td><td>C3</td><td>Verified</td><td>95200.0</td><td>Individual</td><td>null</td><td>null</td></tr>\n",
       "<tr><td>1eef79a0e79b72c7a...</td><td>null</td><td>&lt; 1 year</td><td>MORTGAGE</td><td>76000.0</td><td>OR</td><td>973xx</td><td>USA</td><td>B</td><td>B2</td><td>Not Verified</td><td>7000.0</td><td>Individual</td><td>null</td><td>null</td></tr>\n",
       "<tr><td>89d42771f79636d22...</td><td>Archivist</td><td>5 years</td><td>MORTGAGE</td><td>60000.0</td><td>MA</td><td>020xx</td><td>USA</td><td>A</td><td>A2</td><td>Not Verified</td><td>376785.0</td><td>Joint App</td><td>250000.0</td><td>Not Verified</td></tr>\n",
       "<tr><td>1dd1d1b51473d4993...</td><td>null</td><td>null</td><td>RENT</td><td>45000.0</td><td>NY</td><td>114xx</td><td>USA</td><td>C</td><td>C2</td><td>Not Verified</td><td>47400.0</td><td>Individual</td><td>null</td><td>null</td></tr>\n",
       "</table>\n",
       "only showing top 20 rows\n"
      ],
      "text/plain": [
       "+--------------------+--------------------+----------+--------------+----------+----------+--------+-------+-----+---------+-------------------+---------------+----------------+----------------+-------------------------+\n",
       "|           member_id|           emp_title|emp_length|home_ownership|annual_inc|addr_state|zip_code|country|grade|sub_grade|verification_status|tot_hi_cred_lim|application_type|annual_inc_joint|verification_status_joint|\n",
       "+--------------------+--------------------+----------+--------------+----------+----------+--------+-------+-----+---------+-------------------+---------------+----------------+----------------+-------------------------+\n",
       "|9cb79aa7323e81be1...|          Supervisor| 10+ years|      MORTGAGE|  125000.0|        KY|   424xx|    USA|    E|       E3|           Verified|       594540.0|      Individual|            null|                     null|\n",
       "|0dd2bbc517e3c8f9e...|            Security|  < 1 year|          RENT|   54000.0|        WI|   532xx|    USA|    A|       A4|       Not Verified|        57729.0|      Individual|            null|                     null|\n",
       "|458458599d3df3bfc...|             Manager|   5 years|      MORTGAGE|   28000.0|        AR|   721xx|    USA|    C|       C4|           Verified|        82780.0|      Individual|            null|                     null|\n",
       "|05ea141ec28b5c7f7...|              Teller|   3 years|          RENT|   26000.0|        WI|   532xx|    USA|    A|       A5|       Not Verified|        41114.0|      Individual|            null|                     null|\n",
       "|aac68850fdac09fd0...|Quality Control A...|   3 years|          RENT|   67000.0|        TX|   760xx|    USA|    F|       F2|           Verified|        43449.0|      Individual|            null|                     null|\n",
       "|3a423e4589e89f429...|          Technician|   2 years|          RENT|   65000.0|        CA|   900xx|    USA|    C|       C3|           Verified|       127916.0|       Joint App|        118000.0|                 Verified|\n",
       "|f1efcf7dfbfef21be...|                Host|  < 1 year|      MORTGAGE|  325000.0|        NY|   111xx|    USA|    B|       B5|    Source Verified|        41000.0|      Individual|            null|                     null|\n",
       "|c89986155a070db2e...|Guest Services Su...|   2 years|      MORTGAGE|   60000.0|        AZ|   850xx|    USA|    C|       C2|    Source Verified|       280890.0|      Individual|            null|                     null|\n",
       "|118dc629b6e134419...|     general manager| 10+ years|      MORTGAGE|   74000.0|        GA|   310xx|    USA|    A|       A3|    Source Verified|       306897.0|      Individual|            null|                     null|\n",
       "|a86fa4b7493708333...|Sheet Metal Mechanic|   9 years|      MORTGAGE|   54496.0|        GA|   307xx|    USA|    B|       B1|           Verified|       153345.0|       Joint App|        119496.0|                 Verified|\n",
       "|6e8d94bf446e97025...|               Owner| 10+ years|          RENT|   60000.0|        TX|   762xx|    USA|    C|       C2|    Source Verified|        64104.0|      Individual|            null|                     null|\n",
       "|3de585156dc6b73f6...|    Business Manager| 10+ years|      MORTGAGE|   53000.0|        IL|   618xx|    USA|    B|       B2|    Source Verified|       117200.0|      Individual|            null|                     null|\n",
       "|e88945f86a96f8d71...|           Custodian| 10+ years|      MORTGAGE|  465000.0|        RI|   028xx|    USA|    B|       B5|       Not Verified|       365133.0|      Individual|            null|                     null|\n",
       "|42f73fd8a01f1c475...|    Service provider| 10+ years|      MORTGAGE|  110000.0|        CA|   945xx|    USA|    A|       A4|    Source Verified|       524699.0|      Individual|            null|                     null|\n",
       "|c680bca32456530e6...|Relationship Manager|   3 years|          RENT|  150000.0|        NY|   111xx|    USA|    B|       B2|       Not Verified|       136683.0|      Individual|            null|                     null|\n",
       "|3c36e35bcc0379690...|    Flight attendant|    1 year|          RENT|   40000.0|        CO|   800xx|    USA|    A|       A1|    Source Verified|        62200.0|      Individual|            null|                     null|\n",
       "|4e1c30a5dfe9f1e20...|               Pilot|   2 years|      MORTGAGE|  106000.0|        AL|   356xx|    USA|    C|       C3|           Verified|        95200.0|      Individual|            null|                     null|\n",
       "|1eef79a0e79b72c7a...|                null|  < 1 year|      MORTGAGE|   76000.0|        OR|   973xx|    USA|    B|       B2|       Not Verified|         7000.0|      Individual|            null|                     null|\n",
       "|89d42771f79636d22...|           Archivist|   5 years|      MORTGAGE|   60000.0|        MA|   020xx|    USA|    A|       A2|       Not Verified|       376785.0|       Joint App|        250000.0|             Not Verified|\n",
       "|1dd1d1b51473d4993...|                null|      null|          RENT|   45000.0|        NY|   114xx|    USA|    C|       C2|       Not Verified|        47400.0|      Individual|            null|                     null|\n",
       "+--------------------+--------------------+----------+--------------+----------+----------+--------+-------+-----+---------+-------------------+---------------+----------------+----------------+-------------------------+\n",
       "only showing top 20 rows"
      ]
     },
     "execution_count": 5,
     "metadata": {},
     "output_type": "execute_result"
    }
   ],
   "source": [
    "customers_raw_df"
   ]
  },
  {
   "cell_type": "code",
   "execution_count": 8,
   "id": "8be70900",
   "metadata": {},
   "outputs": [
    {
     "name": "stdout",
     "output_type": "stream",
     "text": [
      "root\n",
      " |-- member_id: string (nullable = true)\n",
      " |-- emp_title: string (nullable = true)\n",
      " |-- emp_length: string (nullable = true)\n",
      " |-- home_ownership: string (nullable = true)\n",
      " |-- annual_inc: float (nullable = true)\n",
      " |-- addr_state: string (nullable = true)\n",
      " |-- zip_code: string (nullable = true)\n",
      " |-- country: string (nullable = true)\n",
      " |-- grade: string (nullable = true)\n",
      " |-- sub_grade: string (nullable = true)\n",
      " |-- verification_status: string (nullable = true)\n",
      " |-- tot_hi_cred_lim: float (nullable = true)\n",
      " |-- application_type: string (nullable = true)\n",
      " |-- annual_inc_joint: float (nullable = true)\n",
      " |-- verification_status_joint: string (nullable = true)\n",
      "\n"
     ]
    }
   ],
   "source": [
    "customers_raw_df.printSchema()"
   ]
  },
  {
   "cell_type": "markdown",
   "id": "8f90025e",
   "metadata": {},
   "source": [
    "## Renaming columns as per business requirment"
   ]
  },
  {
   "cell_type": "code",
   "execution_count": 6,
   "id": "e1db42b4",
   "metadata": {},
   "outputs": [],
   "source": [
    "customers_df_renamed = customers_raw_df.withColumnRenamed(\"annual_inc\", \"annual_income\") \\\n",
    ".withColumnRenamed(\"addr_state\", \"address_state\") \\\n",
    ".withColumnRenamed(\"zip_cod\", \"address_zipcode\" ) \\\n",
    ".withColumnRenamed(\"country\", \"address_country\" ) \\\n",
    ".withColumnRenamed(\"tot_hi_cred_lim\", \"total_high_credit_limit\" ) \\\n",
    ".withColumnRenamed(\"annual_inc_joint\", \"join_annual_income\" )"
   ]
  },
  {
   "cell_type": "code",
   "execution_count": 7,
   "id": "165308f8",
   "metadata": {},
   "outputs": [
    {
     "data": {
      "text/html": [
       "<table border='1'>\n",
       "<tr><th>member_id</th><th>emp_title</th><th>emp_length</th><th>home_ownership</th><th>annual_income</th><th>address_state</th><th>zip_code</th><th>address_country</th><th>grade</th><th>sub_grade</th><th>verification_status</th><th>total_high_credit_limit</th><th>application_type</th><th>join_annual_income</th><th>verification_status_joint</th></tr>\n",
       "<tr><td>9cb79aa7323e81be1...</td><td>Supervisor</td><td>10+ years</td><td>MORTGAGE</td><td>125000.0</td><td>KY</td><td>424xx</td><td>USA</td><td>E</td><td>E3</td><td>Verified</td><td>594540.0</td><td>Individual</td><td>null</td><td>null</td></tr>\n",
       "<tr><td>0dd2bbc517e3c8f9e...</td><td>Security</td><td>&lt; 1 year</td><td>RENT</td><td>54000.0</td><td>WI</td><td>532xx</td><td>USA</td><td>A</td><td>A4</td><td>Not Verified</td><td>57729.0</td><td>Individual</td><td>null</td><td>null</td></tr>\n",
       "<tr><td>458458599d3df3bfc...</td><td>Manager</td><td>5 years</td><td>MORTGAGE</td><td>28000.0</td><td>AR</td><td>721xx</td><td>USA</td><td>C</td><td>C4</td><td>Verified</td><td>82780.0</td><td>Individual</td><td>null</td><td>null</td></tr>\n",
       "<tr><td>05ea141ec28b5c7f7...</td><td>Teller</td><td>3 years</td><td>RENT</td><td>26000.0</td><td>WI</td><td>532xx</td><td>USA</td><td>A</td><td>A5</td><td>Not Verified</td><td>41114.0</td><td>Individual</td><td>null</td><td>null</td></tr>\n",
       "<tr><td>aac68850fdac09fd0...</td><td>Quality Control A...</td><td>3 years</td><td>RENT</td><td>67000.0</td><td>TX</td><td>760xx</td><td>USA</td><td>F</td><td>F2</td><td>Verified</td><td>43449.0</td><td>Individual</td><td>null</td><td>null</td></tr>\n",
       "<tr><td>3a423e4589e89f429...</td><td>Technician</td><td>2 years</td><td>RENT</td><td>65000.0</td><td>CA</td><td>900xx</td><td>USA</td><td>C</td><td>C3</td><td>Verified</td><td>127916.0</td><td>Joint App</td><td>118000.0</td><td>Verified</td></tr>\n",
       "<tr><td>f1efcf7dfbfef21be...</td><td>Host</td><td>&lt; 1 year</td><td>MORTGAGE</td><td>325000.0</td><td>NY</td><td>111xx</td><td>USA</td><td>B</td><td>B5</td><td>Source Verified</td><td>41000.0</td><td>Individual</td><td>null</td><td>null</td></tr>\n",
       "<tr><td>c89986155a070db2e...</td><td>Guest Services Su...</td><td>2 years</td><td>MORTGAGE</td><td>60000.0</td><td>AZ</td><td>850xx</td><td>USA</td><td>C</td><td>C2</td><td>Source Verified</td><td>280890.0</td><td>Individual</td><td>null</td><td>null</td></tr>\n",
       "<tr><td>118dc629b6e134419...</td><td>general manager</td><td>10+ years</td><td>MORTGAGE</td><td>74000.0</td><td>GA</td><td>310xx</td><td>USA</td><td>A</td><td>A3</td><td>Source Verified</td><td>306897.0</td><td>Individual</td><td>null</td><td>null</td></tr>\n",
       "<tr><td>a86fa4b7493708333...</td><td>Sheet Metal Mechanic</td><td>9 years</td><td>MORTGAGE</td><td>54496.0</td><td>GA</td><td>307xx</td><td>USA</td><td>B</td><td>B1</td><td>Verified</td><td>153345.0</td><td>Joint App</td><td>119496.0</td><td>Verified</td></tr>\n",
       "<tr><td>6e8d94bf446e97025...</td><td>Owner</td><td>10+ years</td><td>RENT</td><td>60000.0</td><td>TX</td><td>762xx</td><td>USA</td><td>C</td><td>C2</td><td>Source Verified</td><td>64104.0</td><td>Individual</td><td>null</td><td>null</td></tr>\n",
       "<tr><td>3de585156dc6b73f6...</td><td>Business Manager</td><td>10+ years</td><td>MORTGAGE</td><td>53000.0</td><td>IL</td><td>618xx</td><td>USA</td><td>B</td><td>B2</td><td>Source Verified</td><td>117200.0</td><td>Individual</td><td>null</td><td>null</td></tr>\n",
       "<tr><td>e88945f86a96f8d71...</td><td>Custodian</td><td>10+ years</td><td>MORTGAGE</td><td>465000.0</td><td>RI</td><td>028xx</td><td>USA</td><td>B</td><td>B5</td><td>Not Verified</td><td>365133.0</td><td>Individual</td><td>null</td><td>null</td></tr>\n",
       "<tr><td>42f73fd8a01f1c475...</td><td>Service provider</td><td>10+ years</td><td>MORTGAGE</td><td>110000.0</td><td>CA</td><td>945xx</td><td>USA</td><td>A</td><td>A4</td><td>Source Verified</td><td>524699.0</td><td>Individual</td><td>null</td><td>null</td></tr>\n",
       "<tr><td>c680bca32456530e6...</td><td>Relationship Manager</td><td>3 years</td><td>RENT</td><td>150000.0</td><td>NY</td><td>111xx</td><td>USA</td><td>B</td><td>B2</td><td>Not Verified</td><td>136683.0</td><td>Individual</td><td>null</td><td>null</td></tr>\n",
       "<tr><td>3c36e35bcc0379690...</td><td>Flight attendant</td><td>1 year</td><td>RENT</td><td>40000.0</td><td>CO</td><td>800xx</td><td>USA</td><td>A</td><td>A1</td><td>Source Verified</td><td>62200.0</td><td>Individual</td><td>null</td><td>null</td></tr>\n",
       "<tr><td>4e1c30a5dfe9f1e20...</td><td>Pilot</td><td>2 years</td><td>MORTGAGE</td><td>106000.0</td><td>AL</td><td>356xx</td><td>USA</td><td>C</td><td>C3</td><td>Verified</td><td>95200.0</td><td>Individual</td><td>null</td><td>null</td></tr>\n",
       "<tr><td>1eef79a0e79b72c7a...</td><td>null</td><td>&lt; 1 year</td><td>MORTGAGE</td><td>76000.0</td><td>OR</td><td>973xx</td><td>USA</td><td>B</td><td>B2</td><td>Not Verified</td><td>7000.0</td><td>Individual</td><td>null</td><td>null</td></tr>\n",
       "<tr><td>89d42771f79636d22...</td><td>Archivist</td><td>5 years</td><td>MORTGAGE</td><td>60000.0</td><td>MA</td><td>020xx</td><td>USA</td><td>A</td><td>A2</td><td>Not Verified</td><td>376785.0</td><td>Joint App</td><td>250000.0</td><td>Not Verified</td></tr>\n",
       "<tr><td>1dd1d1b51473d4993...</td><td>null</td><td>null</td><td>RENT</td><td>45000.0</td><td>NY</td><td>114xx</td><td>USA</td><td>C</td><td>C2</td><td>Not Verified</td><td>47400.0</td><td>Individual</td><td>null</td><td>null</td></tr>\n",
       "</table>\n",
       "only showing top 20 rows\n"
      ],
      "text/plain": [
       "+--------------------+--------------------+----------+--------------+-------------+-------------+--------+---------------+-----+---------+-------------------+-----------------------+----------------+------------------+-------------------------+\n",
       "|           member_id|           emp_title|emp_length|home_ownership|annual_income|address_state|zip_code|address_country|grade|sub_grade|verification_status|total_high_credit_limit|application_type|join_annual_income|verification_status_joint|\n",
       "+--------------------+--------------------+----------+--------------+-------------+-------------+--------+---------------+-----+---------+-------------------+-----------------------+----------------+------------------+-------------------------+\n",
       "|9cb79aa7323e81be1...|          Supervisor| 10+ years|      MORTGAGE|     125000.0|           KY|   424xx|            USA|    E|       E3|           Verified|               594540.0|      Individual|              null|                     null|\n",
       "|0dd2bbc517e3c8f9e...|            Security|  < 1 year|          RENT|      54000.0|           WI|   532xx|            USA|    A|       A4|       Not Verified|                57729.0|      Individual|              null|                     null|\n",
       "|458458599d3df3bfc...|             Manager|   5 years|      MORTGAGE|      28000.0|           AR|   721xx|            USA|    C|       C4|           Verified|                82780.0|      Individual|              null|                     null|\n",
       "|05ea141ec28b5c7f7...|              Teller|   3 years|          RENT|      26000.0|           WI|   532xx|            USA|    A|       A5|       Not Verified|                41114.0|      Individual|              null|                     null|\n",
       "|aac68850fdac09fd0...|Quality Control A...|   3 years|          RENT|      67000.0|           TX|   760xx|            USA|    F|       F2|           Verified|                43449.0|      Individual|              null|                     null|\n",
       "|3a423e4589e89f429...|          Technician|   2 years|          RENT|      65000.0|           CA|   900xx|            USA|    C|       C3|           Verified|               127916.0|       Joint App|          118000.0|                 Verified|\n",
       "|f1efcf7dfbfef21be...|                Host|  < 1 year|      MORTGAGE|     325000.0|           NY|   111xx|            USA|    B|       B5|    Source Verified|                41000.0|      Individual|              null|                     null|\n",
       "|c89986155a070db2e...|Guest Services Su...|   2 years|      MORTGAGE|      60000.0|           AZ|   850xx|            USA|    C|       C2|    Source Verified|               280890.0|      Individual|              null|                     null|\n",
       "|118dc629b6e134419...|     general manager| 10+ years|      MORTGAGE|      74000.0|           GA|   310xx|            USA|    A|       A3|    Source Verified|               306897.0|      Individual|              null|                     null|\n",
       "|a86fa4b7493708333...|Sheet Metal Mechanic|   9 years|      MORTGAGE|      54496.0|           GA|   307xx|            USA|    B|       B1|           Verified|               153345.0|       Joint App|          119496.0|                 Verified|\n",
       "|6e8d94bf446e97025...|               Owner| 10+ years|          RENT|      60000.0|           TX|   762xx|            USA|    C|       C2|    Source Verified|                64104.0|      Individual|              null|                     null|\n",
       "|3de585156dc6b73f6...|    Business Manager| 10+ years|      MORTGAGE|      53000.0|           IL|   618xx|            USA|    B|       B2|    Source Verified|               117200.0|      Individual|              null|                     null|\n",
       "|e88945f86a96f8d71...|           Custodian| 10+ years|      MORTGAGE|     465000.0|           RI|   028xx|            USA|    B|       B5|       Not Verified|               365133.0|      Individual|              null|                     null|\n",
       "|42f73fd8a01f1c475...|    Service provider| 10+ years|      MORTGAGE|     110000.0|           CA|   945xx|            USA|    A|       A4|    Source Verified|               524699.0|      Individual|              null|                     null|\n",
       "|c680bca32456530e6...|Relationship Manager|   3 years|          RENT|     150000.0|           NY|   111xx|            USA|    B|       B2|       Not Verified|               136683.0|      Individual|              null|                     null|\n",
       "|3c36e35bcc0379690...|    Flight attendant|    1 year|          RENT|      40000.0|           CO|   800xx|            USA|    A|       A1|    Source Verified|                62200.0|      Individual|              null|                     null|\n",
       "|4e1c30a5dfe9f1e20...|               Pilot|   2 years|      MORTGAGE|     106000.0|           AL|   356xx|            USA|    C|       C3|           Verified|                95200.0|      Individual|              null|                     null|\n",
       "|1eef79a0e79b72c7a...|                null|  < 1 year|      MORTGAGE|      76000.0|           OR|   973xx|            USA|    B|       B2|       Not Verified|                 7000.0|      Individual|              null|                     null|\n",
       "|89d42771f79636d22...|           Archivist|   5 years|      MORTGAGE|      60000.0|           MA|   020xx|            USA|    A|       A2|       Not Verified|               376785.0|       Joint App|          250000.0|             Not Verified|\n",
       "|1dd1d1b51473d4993...|                null|      null|          RENT|      45000.0|           NY|   114xx|            USA|    C|       C2|       Not Verified|                47400.0|      Individual|              null|                     null|\n",
       "+--------------------+--------------------+----------+--------------+-------------+-------------+--------+---------------+-----+---------+-------------------+-----------------------+----------------+------------------+-------------------------+\n",
       "only showing top 20 rows"
      ]
     },
     "execution_count": 7,
     "metadata": {},
     "output_type": "execute_result"
    }
   ],
   "source": [
    "customers_df_renamed"
   ]
  },
  {
   "cell_type": "markdown",
   "id": "4826a2e1",
   "metadata": {},
   "source": [
    "## Inserting Ingestion Date for data processing"
   ]
  },
  {
   "cell_type": "code",
   "execution_count": 8,
   "id": "18b5c745",
   "metadata": {},
   "outputs": [],
   "source": [
    "customers_df_ingest_date = customers_df_renamed.withColumn(\"ingest_date\", current_timestamp())"
   ]
  },
  {
   "cell_type": "code",
   "execution_count": 9,
   "id": "a6d44115",
   "metadata": {},
   "outputs": [
    {
     "data": {
      "text/html": [
       "<table border='1'>\n",
       "<tr><th>member_id</th><th>emp_title</th><th>emp_length</th><th>home_ownership</th><th>annual_income</th><th>address_state</th><th>zip_code</th><th>address_country</th><th>grade</th><th>sub_grade</th><th>verification_status</th><th>total_high_credit_limit</th><th>application_type</th><th>join_annual_income</th><th>verification_status_joint</th><th>ingest_date</th></tr>\n",
       "<tr><td>9cb79aa7323e81be1...</td><td>Supervisor</td><td>10+ years</td><td>MORTGAGE</td><td>125000.0</td><td>KY</td><td>424xx</td><td>USA</td><td>E</td><td>E3</td><td>Verified</td><td>594540.0</td><td>Individual</td><td>null</td><td>null</td><td>2024-08-10 11:35:...</td></tr>\n",
       "<tr><td>0dd2bbc517e3c8f9e...</td><td>Security</td><td>&lt; 1 year</td><td>RENT</td><td>54000.0</td><td>WI</td><td>532xx</td><td>USA</td><td>A</td><td>A4</td><td>Not Verified</td><td>57729.0</td><td>Individual</td><td>null</td><td>null</td><td>2024-08-10 11:35:...</td></tr>\n",
       "<tr><td>458458599d3df3bfc...</td><td>Manager</td><td>5 years</td><td>MORTGAGE</td><td>28000.0</td><td>AR</td><td>721xx</td><td>USA</td><td>C</td><td>C4</td><td>Verified</td><td>82780.0</td><td>Individual</td><td>null</td><td>null</td><td>2024-08-10 11:35:...</td></tr>\n",
       "<tr><td>05ea141ec28b5c7f7...</td><td>Teller</td><td>3 years</td><td>RENT</td><td>26000.0</td><td>WI</td><td>532xx</td><td>USA</td><td>A</td><td>A5</td><td>Not Verified</td><td>41114.0</td><td>Individual</td><td>null</td><td>null</td><td>2024-08-10 11:35:...</td></tr>\n",
       "<tr><td>aac68850fdac09fd0...</td><td>Quality Control A...</td><td>3 years</td><td>RENT</td><td>67000.0</td><td>TX</td><td>760xx</td><td>USA</td><td>F</td><td>F2</td><td>Verified</td><td>43449.0</td><td>Individual</td><td>null</td><td>null</td><td>2024-08-10 11:35:...</td></tr>\n",
       "<tr><td>3a423e4589e89f429...</td><td>Technician</td><td>2 years</td><td>RENT</td><td>65000.0</td><td>CA</td><td>900xx</td><td>USA</td><td>C</td><td>C3</td><td>Verified</td><td>127916.0</td><td>Joint App</td><td>118000.0</td><td>Verified</td><td>2024-08-10 11:35:...</td></tr>\n",
       "<tr><td>f1efcf7dfbfef21be...</td><td>Host</td><td>&lt; 1 year</td><td>MORTGAGE</td><td>325000.0</td><td>NY</td><td>111xx</td><td>USA</td><td>B</td><td>B5</td><td>Source Verified</td><td>41000.0</td><td>Individual</td><td>null</td><td>null</td><td>2024-08-10 11:35:...</td></tr>\n",
       "<tr><td>c89986155a070db2e...</td><td>Guest Services Su...</td><td>2 years</td><td>MORTGAGE</td><td>60000.0</td><td>AZ</td><td>850xx</td><td>USA</td><td>C</td><td>C2</td><td>Source Verified</td><td>280890.0</td><td>Individual</td><td>null</td><td>null</td><td>2024-08-10 11:35:...</td></tr>\n",
       "<tr><td>118dc629b6e134419...</td><td>general manager</td><td>10+ years</td><td>MORTGAGE</td><td>74000.0</td><td>GA</td><td>310xx</td><td>USA</td><td>A</td><td>A3</td><td>Source Verified</td><td>306897.0</td><td>Individual</td><td>null</td><td>null</td><td>2024-08-10 11:35:...</td></tr>\n",
       "<tr><td>a86fa4b7493708333...</td><td>Sheet Metal Mechanic</td><td>9 years</td><td>MORTGAGE</td><td>54496.0</td><td>GA</td><td>307xx</td><td>USA</td><td>B</td><td>B1</td><td>Verified</td><td>153345.0</td><td>Joint App</td><td>119496.0</td><td>Verified</td><td>2024-08-10 11:35:...</td></tr>\n",
       "<tr><td>6e8d94bf446e97025...</td><td>Owner</td><td>10+ years</td><td>RENT</td><td>60000.0</td><td>TX</td><td>762xx</td><td>USA</td><td>C</td><td>C2</td><td>Source Verified</td><td>64104.0</td><td>Individual</td><td>null</td><td>null</td><td>2024-08-10 11:35:...</td></tr>\n",
       "<tr><td>3de585156dc6b73f6...</td><td>Business Manager</td><td>10+ years</td><td>MORTGAGE</td><td>53000.0</td><td>IL</td><td>618xx</td><td>USA</td><td>B</td><td>B2</td><td>Source Verified</td><td>117200.0</td><td>Individual</td><td>null</td><td>null</td><td>2024-08-10 11:35:...</td></tr>\n",
       "<tr><td>e88945f86a96f8d71...</td><td>Custodian</td><td>10+ years</td><td>MORTGAGE</td><td>465000.0</td><td>RI</td><td>028xx</td><td>USA</td><td>B</td><td>B5</td><td>Not Verified</td><td>365133.0</td><td>Individual</td><td>null</td><td>null</td><td>2024-08-10 11:35:...</td></tr>\n",
       "<tr><td>42f73fd8a01f1c475...</td><td>Service provider</td><td>10+ years</td><td>MORTGAGE</td><td>110000.0</td><td>CA</td><td>945xx</td><td>USA</td><td>A</td><td>A4</td><td>Source Verified</td><td>524699.0</td><td>Individual</td><td>null</td><td>null</td><td>2024-08-10 11:35:...</td></tr>\n",
       "<tr><td>c680bca32456530e6...</td><td>Relationship Manager</td><td>3 years</td><td>RENT</td><td>150000.0</td><td>NY</td><td>111xx</td><td>USA</td><td>B</td><td>B2</td><td>Not Verified</td><td>136683.0</td><td>Individual</td><td>null</td><td>null</td><td>2024-08-10 11:35:...</td></tr>\n",
       "<tr><td>3c36e35bcc0379690...</td><td>Flight attendant</td><td>1 year</td><td>RENT</td><td>40000.0</td><td>CO</td><td>800xx</td><td>USA</td><td>A</td><td>A1</td><td>Source Verified</td><td>62200.0</td><td>Individual</td><td>null</td><td>null</td><td>2024-08-10 11:35:...</td></tr>\n",
       "<tr><td>4e1c30a5dfe9f1e20...</td><td>Pilot</td><td>2 years</td><td>MORTGAGE</td><td>106000.0</td><td>AL</td><td>356xx</td><td>USA</td><td>C</td><td>C3</td><td>Verified</td><td>95200.0</td><td>Individual</td><td>null</td><td>null</td><td>2024-08-10 11:35:...</td></tr>\n",
       "<tr><td>1eef79a0e79b72c7a...</td><td>null</td><td>&lt; 1 year</td><td>MORTGAGE</td><td>76000.0</td><td>OR</td><td>973xx</td><td>USA</td><td>B</td><td>B2</td><td>Not Verified</td><td>7000.0</td><td>Individual</td><td>null</td><td>null</td><td>2024-08-10 11:35:...</td></tr>\n",
       "<tr><td>89d42771f79636d22...</td><td>Archivist</td><td>5 years</td><td>MORTGAGE</td><td>60000.0</td><td>MA</td><td>020xx</td><td>USA</td><td>A</td><td>A2</td><td>Not Verified</td><td>376785.0</td><td>Joint App</td><td>250000.0</td><td>Not Verified</td><td>2024-08-10 11:35:...</td></tr>\n",
       "<tr><td>1dd1d1b51473d4993...</td><td>null</td><td>null</td><td>RENT</td><td>45000.0</td><td>NY</td><td>114xx</td><td>USA</td><td>C</td><td>C2</td><td>Not Verified</td><td>47400.0</td><td>Individual</td><td>null</td><td>null</td><td>2024-08-10 11:35:...</td></tr>\n",
       "</table>\n",
       "only showing top 20 rows\n"
      ],
      "text/plain": [
       "+--------------------+--------------------+----------+--------------+-------------+-------------+--------+---------------+-----+---------+-------------------+-----------------------+----------------+------------------+-------------------------+--------------------+\n",
       "|           member_id|           emp_title|emp_length|home_ownership|annual_income|address_state|zip_code|address_country|grade|sub_grade|verification_status|total_high_credit_limit|application_type|join_annual_income|verification_status_joint|         ingest_date|\n",
       "+--------------------+--------------------+----------+--------------+-------------+-------------+--------+---------------+-----+---------+-------------------+-----------------------+----------------+------------------+-------------------------+--------------------+\n",
       "|9cb79aa7323e81be1...|          Supervisor| 10+ years|      MORTGAGE|     125000.0|           KY|   424xx|            USA|    E|       E3|           Verified|               594540.0|      Individual|              null|                     null|2024-08-10 11:35:...|\n",
       "|0dd2bbc517e3c8f9e...|            Security|  < 1 year|          RENT|      54000.0|           WI|   532xx|            USA|    A|       A4|       Not Verified|                57729.0|      Individual|              null|                     null|2024-08-10 11:35:...|\n",
       "|458458599d3df3bfc...|             Manager|   5 years|      MORTGAGE|      28000.0|           AR|   721xx|            USA|    C|       C4|           Verified|                82780.0|      Individual|              null|                     null|2024-08-10 11:35:...|\n",
       "|05ea141ec28b5c7f7...|              Teller|   3 years|          RENT|      26000.0|           WI|   532xx|            USA|    A|       A5|       Not Verified|                41114.0|      Individual|              null|                     null|2024-08-10 11:35:...|\n",
       "|aac68850fdac09fd0...|Quality Control A...|   3 years|          RENT|      67000.0|           TX|   760xx|            USA|    F|       F2|           Verified|                43449.0|      Individual|              null|                     null|2024-08-10 11:35:...|\n",
       "|3a423e4589e89f429...|          Technician|   2 years|          RENT|      65000.0|           CA|   900xx|            USA|    C|       C3|           Verified|               127916.0|       Joint App|          118000.0|                 Verified|2024-08-10 11:35:...|\n",
       "|f1efcf7dfbfef21be...|                Host|  < 1 year|      MORTGAGE|     325000.0|           NY|   111xx|            USA|    B|       B5|    Source Verified|                41000.0|      Individual|              null|                     null|2024-08-10 11:35:...|\n",
       "|c89986155a070db2e...|Guest Services Su...|   2 years|      MORTGAGE|      60000.0|           AZ|   850xx|            USA|    C|       C2|    Source Verified|               280890.0|      Individual|              null|                     null|2024-08-10 11:35:...|\n",
       "|118dc629b6e134419...|     general manager| 10+ years|      MORTGAGE|      74000.0|           GA|   310xx|            USA|    A|       A3|    Source Verified|               306897.0|      Individual|              null|                     null|2024-08-10 11:35:...|\n",
       "|a86fa4b7493708333...|Sheet Metal Mechanic|   9 years|      MORTGAGE|      54496.0|           GA|   307xx|            USA|    B|       B1|           Verified|               153345.0|       Joint App|          119496.0|                 Verified|2024-08-10 11:35:...|\n",
       "|6e8d94bf446e97025...|               Owner| 10+ years|          RENT|      60000.0|           TX|   762xx|            USA|    C|       C2|    Source Verified|                64104.0|      Individual|              null|                     null|2024-08-10 11:35:...|\n",
       "|3de585156dc6b73f6...|    Business Manager| 10+ years|      MORTGAGE|      53000.0|           IL|   618xx|            USA|    B|       B2|    Source Verified|               117200.0|      Individual|              null|                     null|2024-08-10 11:35:...|\n",
       "|e88945f86a96f8d71...|           Custodian| 10+ years|      MORTGAGE|     465000.0|           RI|   028xx|            USA|    B|       B5|       Not Verified|               365133.0|      Individual|              null|                     null|2024-08-10 11:35:...|\n",
       "|42f73fd8a01f1c475...|    Service provider| 10+ years|      MORTGAGE|     110000.0|           CA|   945xx|            USA|    A|       A4|    Source Verified|               524699.0|      Individual|              null|                     null|2024-08-10 11:35:...|\n",
       "|c680bca32456530e6...|Relationship Manager|   3 years|          RENT|     150000.0|           NY|   111xx|            USA|    B|       B2|       Not Verified|               136683.0|      Individual|              null|                     null|2024-08-10 11:35:...|\n",
       "|3c36e35bcc0379690...|    Flight attendant|    1 year|          RENT|      40000.0|           CO|   800xx|            USA|    A|       A1|    Source Verified|                62200.0|      Individual|              null|                     null|2024-08-10 11:35:...|\n",
       "|4e1c30a5dfe9f1e20...|               Pilot|   2 years|      MORTGAGE|     106000.0|           AL|   356xx|            USA|    C|       C3|           Verified|                95200.0|      Individual|              null|                     null|2024-08-10 11:35:...|\n",
       "|1eef79a0e79b72c7a...|                null|  < 1 year|      MORTGAGE|      76000.0|           OR|   973xx|            USA|    B|       B2|       Not Verified|                 7000.0|      Individual|              null|                     null|2024-08-10 11:35:...|\n",
       "|89d42771f79636d22...|           Archivist|   5 years|      MORTGAGE|      60000.0|           MA|   020xx|            USA|    A|       A2|       Not Verified|               376785.0|       Joint App|          250000.0|             Not Verified|2024-08-10 11:35:...|\n",
       "|1dd1d1b51473d4993...|                null|      null|          RENT|      45000.0|           NY|   114xx|            USA|    C|       C2|       Not Verified|                47400.0|      Individual|              null|                     null|2024-08-10 11:35:...|\n",
       "+--------------------+--------------------+----------+--------------+-------------+-------------+--------+---------------+-----+---------+-------------------+-----------------------+----------------+------------------+-------------------------+--------------------+\n",
       "only showing top 20 rows"
      ]
     },
     "execution_count": 9,
     "metadata": {},
     "output_type": "execute_result"
    }
   ],
   "source": [
    "customers_df_ingest_date"
   ]
  },
  {
   "cell_type": "markdown",
   "id": "2dfa5581",
   "metadata": {},
   "source": [
    "## Removing duplicate Rows"
   ]
  },
  {
   "cell_type": "code",
   "execution_count": 10,
   "id": "6601f932",
   "metadata": {},
   "outputs": [
    {
     "data": {
      "text/plain": [
       "2260701"
      ]
     },
     "execution_count": 10,
     "metadata": {},
     "output_type": "execute_result"
    }
   ],
   "source": [
    "customers_df_ingest_date.count()"
   ]
  },
  {
   "cell_type": "code",
   "execution_count": 11,
   "id": "3938203e",
   "metadata": {},
   "outputs": [],
   "source": [
    "customers_distinct = customers_df_ingest_date.distinct()"
   ]
  },
  {
   "cell_type": "code",
   "execution_count": 12,
   "id": "d954c3b7",
   "metadata": {},
   "outputs": [
    {
     "data": {
      "text/plain": [
       "2260638"
      ]
     },
     "execution_count": 12,
     "metadata": {},
     "output_type": "execute_result"
    }
   ],
   "source": [
    "customers_distinct.count()"
   ]
  },
  {
   "cell_type": "code",
   "execution_count": 13,
   "id": "c60dfab5",
   "metadata": {},
   "outputs": [],
   "source": [
    "customers_distinct.createOrReplaceTempView(\"customers\")"
   ]
  },
  {
   "cell_type": "code",
   "execution_count": 14,
   "id": "db9f7874",
   "metadata": {},
   "outputs": [
    {
     "data": {
      "text/html": [
       "<table border='1'>\n",
       "<tr><th>member_id</th><th>emp_title</th><th>emp_length</th><th>home_ownership</th><th>annual_income</th><th>address_state</th><th>zip_code</th><th>address_country</th><th>grade</th><th>sub_grade</th><th>verification_status</th><th>total_high_credit_limit</th><th>application_type</th><th>join_annual_income</th><th>verification_status_joint</th><th>ingest_date</th></tr>\n",
       "<tr><td>4eeed44617131f494...</td><td>casino royale</td><td>1 year</td><td>RENT</td><td>36000.0</td><td>CA</td><td>946xx</td><td>USA</td><td>C</td><td>C1</td><td>Not Verified</td><td>null</td><td>Individual</td><td>null</td><td>null</td><td>2024-08-10 11:35:...</td></tr>\n",
       "<tr><td>7d1266398e6b4459e...</td><td>Sonix, Inc.</td><td>10+ years</td><td>MORTGAGE</td><td>220000.0</td><td>CA</td><td>926xx</td><td>USA</td><td>C</td><td>C2</td><td>Verified</td><td>null</td><td>Individual</td><td>null</td><td>null</td><td>2024-08-10 11:35:...</td></tr>\n",
       "<tr><td>aa482bda797428cdf...</td><td>null</td><td>5 years</td><td>RENT</td><td>100000.0</td><td>CA</td><td>925xx</td><td>USA</td><td>A</td><td>A3</td><td>Not Verified</td><td>null</td><td>Individual</td><td>null</td><td>null</td><td>2024-08-10 11:35:...</td></tr>\n",
       "<tr><td>d2b7b3d7cf5a1581f...</td><td>US Army</td><td>9 years</td><td>RENT</td><td>58116.0</td><td>FL</td><td>328xx</td><td>USA</td><td>D</td><td>D4</td><td>Source Verified</td><td>null</td><td>Individual</td><td>null</td><td>null</td><td>2024-08-10 11:35:...</td></tr>\n",
       "<tr><td>07cab3d75a364f0ad...</td><td>Sacramento County</td><td>7 years</td><td>MORTGAGE</td><td>85000.0</td><td>CA</td><td>957xx</td><td>USA</td><td>B</td><td>B3</td><td>Source Verified</td><td>null</td><td>Individual</td><td>null</td><td>null</td><td>2024-08-10 11:35:...</td></tr>\n",
       "<tr><td>acf07791be6af87c8...</td><td>Machinist</td><td>10+ years</td><td>MORTGAGE</td><td>62000.0</td><td>NY</td><td>147xx</td><td>USA</td><td>C</td><td>C2</td><td>Source Verified</td><td>37261.0</td><td>Individual</td><td>null</td><td>null</td><td>2024-08-10 11:35:...</td></tr>\n",
       "<tr><td>f367c16027d68f378...</td><td>lieutenant</td><td>10+ years</td><td>MORTGAGE</td><td>100000.0</td><td>OK</td><td>731xx</td><td>USA</td><td>C</td><td>C1</td><td>Source Verified</td><td>122485.0</td><td>Individual</td><td>null</td><td>null</td><td>2024-08-10 11:35:...</td></tr>\n",
       "<tr><td>a7f6dfe1f6a47a514...</td><td>Legal Assistant</td><td>&lt; 1 year</td><td>MORTGAGE</td><td>24960.0</td><td>VA</td><td>240xx</td><td>USA</td><td>D</td><td>D3</td><td>Verified</td><td>45049.0</td><td>Individual</td><td>null</td><td>null</td><td>2024-08-10 11:35:...</td></tr>\n",
       "<tr><td>8621dad86cecff25f...</td><td>Curriculum Developer</td><td>9 years</td><td>MORTGAGE</td><td>60000.0</td><td>NJ</td><td>080xx</td><td>USA</td><td>D</td><td>D4</td><td>Verified</td><td>270045.0</td><td>Individual</td><td>null</td><td>null</td><td>2024-08-10 11:35:...</td></tr>\n",
       "<tr><td>2f112d41b77db07fc...</td><td>Co Manager</td><td>10+ years</td><td>RENT</td><td>70000.0</td><td>FL</td><td>712xx</td><td>USA</td><td>C</td><td>C5</td><td>Source Verified</td><td>13900.0</td><td>Individual</td><td>null</td><td>null</td><td>2024-08-10 11:35:...</td></tr>\n",
       "<tr><td>72c94b0b21bdba2b5...</td><td>Loan Review Manager</td><td>10+ years</td><td>RENT</td><td>110000.0</td><td>TX</td><td>773xx</td><td>USA</td><td>B</td><td>B1</td><td>Verified</td><td>236600.0</td><td>Individual</td><td>null</td><td>null</td><td>2024-08-10 11:35:...</td></tr>\n",
       "<tr><td>8c2096894477153e1...</td><td>Plumber</td><td>&lt; 1 year</td><td>RENT</td><td>79227.0</td><td>CA</td><td>948xx</td><td>USA</td><td>C</td><td>C2</td><td>Source Verified</td><td>59902.0</td><td>Individual</td><td>null</td><td>null</td><td>2024-08-10 11:35:...</td></tr>\n",
       "<tr><td>af25681e9e6672f61...</td><td>Benefit Advocate</td><td>1 year</td><td>RENT</td><td>45000.0</td><td>NY</td><td>141xx</td><td>USA</td><td>B</td><td>B4</td><td>Source Verified</td><td>97305.0</td><td>Individual</td><td>null</td><td>null</td><td>2024-08-10 11:35:...</td></tr>\n",
       "<tr><td>89d94d1fc0b9eb609...</td><td>LAS III</td><td>10+ years</td><td>MORTGAGE</td><td>52000.0</td><td>WA</td><td>984xx</td><td>USA</td><td>D</td><td>D3</td><td>Verified</td><td>283460.0</td><td>Individual</td><td>null</td><td>null</td><td>2024-08-10 11:35:...</td></tr>\n",
       "<tr><td>ce7b260c3123dcb34...</td><td>Consultant</td><td>2 years</td><td>RENT</td><td>45000.0</td><td>NJ</td><td>071xx</td><td>USA</td><td>D</td><td>D2</td><td>Source Verified</td><td>38835.0</td><td>Individual</td><td>null</td><td>null</td><td>2024-08-10 11:35:...</td></tr>\n",
       "<tr><td>ae17c7d4bb1b3584d...</td><td>Medical Assistant</td><td>3 years</td><td>RENT</td><td>31000.0</td><td>LA</td><td>705xx</td><td>USA</td><td>B</td><td>B4</td><td>Verified</td><td>29169.0</td><td>Individual</td><td>null</td><td>null</td><td>2024-08-10 11:35:...</td></tr>\n",
       "<tr><td>350f516b6ad7e8988...</td><td>Sr. Content Owner</td><td>9 years</td><td>RENT</td><td>78772.0</td><td>WA</td><td>981xx</td><td>USA</td><td>C</td><td>C1</td><td>Not Verified</td><td>41904.0</td><td>Individual</td><td>null</td><td>null</td><td>2024-08-10 11:35:...</td></tr>\n",
       "<tr><td>c61ce4d84dfb19c0d...</td><td>Coordinator</td><td>10+ years</td><td>RENT</td><td>40000.0</td><td>CA</td><td>928xx</td><td>USA</td><td>D</td><td>D4</td><td>Source Verified</td><td>11800.0</td><td>Individual</td><td>null</td><td>null</td><td>2024-08-10 11:35:...</td></tr>\n",
       "<tr><td>8daa750418353f95d...</td><td>VP Relationship M...</td><td>10+ years</td><td>MORTGAGE</td><td>100000.0</td><td>CA</td><td>925xx</td><td>USA</td><td>B</td><td>B5</td><td>Source Verified</td><td>84727.0</td><td>Individual</td><td>null</td><td>null</td><td>2024-08-10 11:35:...</td></tr>\n",
       "<tr><td>72e2a29c7ce0d7196...</td><td>Builder Specialist</td><td>7 years</td><td>MORTGAGE</td><td>56000.0</td><td>NC</td><td>275xx</td><td>USA</td><td>C</td><td>C1</td><td>Not Verified</td><td>148957.0</td><td>Joint App</td><td>96000.0</td><td>Not Verified</td><td>2024-08-10 11:35:...</td></tr>\n",
       "</table>\n",
       "only showing top 20 rows\n"
      ],
      "text/plain": [
       "+--------------------+--------------------+----------+--------------+-------------+-------------+--------+---------------+-----+---------+-------------------+-----------------------+----------------+------------------+-------------------------+--------------------+\n",
       "|           member_id|           emp_title|emp_length|home_ownership|annual_income|address_state|zip_code|address_country|grade|sub_grade|verification_status|total_high_credit_limit|application_type|join_annual_income|verification_status_joint|         ingest_date|\n",
       "+--------------------+--------------------+----------+--------------+-------------+-------------+--------+---------------+-----+---------+-------------------+-----------------------+----------------+------------------+-------------------------+--------------------+\n",
       "|2b1c4cdf7398e3c85...|Assistant supervisor|   7 years|      MORTGAGE|      38689.0|           PA|   180xx|            USA|    C|       C3|           Verified|               223669.0|      Individual|              null|                     null|2024-08-10 11:35:...|\n",
       "|112c39290560e63ba...|            Producer|   4 years|          RENT|      52000.0|           GA|   301xx|            USA|    C|       C4|       Not Verified|               148899.0|      Individual|              null|                     null|2024-08-10 11:35:...|\n",
       "|78a1ce0494e6bd01a...|Criminal Investig...| 10+ years|          RENT|     110000.0|           GA|   302xx|            USA|    A|       A5|    Source Verified|                47319.0|      Individual|              null|                     null|2024-08-10 11:35:...|\n",
       "|4ba2723064eb7f805...|   Associate Manager|  < 1 year|      MORTGAGE|      52500.0|           MA|   018xx|            USA|    B|       B3|    Source Verified|               260440.0|      Individual|              null|                     null|2024-08-10 11:35:...|\n",
       "|5581fee5ed21d1785...|  IT Systems Analyst|   8 years|          RENT|      60500.0|           NV|   891xx|            USA|    C|       C5|           Verified|                77728.0|      Individual|              null|                     null|2024-08-10 11:35:...|\n",
       "|3e77d2c0bd3bd56e7...|           Acct Exec|   3 years|      MORTGAGE|      80000.0|           GA|   300xx|            USA|    B|       B2|       Not Verified|               414786.0|      Individual|              null|                     null|2024-08-10 11:35:...|\n",
       "|a9cb00e439a9bdb4a...|             manager| 10+ years|      MORTGAGE|      60000.0|           NC|   282xx|            USA|    B|       B5|           Verified|               181474.0|      Individual|              null|                     null|2024-08-10 11:35:...|\n",
       "|d55f07d30fd2fbe11...|    Registered Nurse|   6 years|      MORTGAGE|      98000.0|           NJ|   078xx|            USA|    E|       E3|           Verified|               448801.0|      Individual|              null|                     null|2024-08-10 11:35:...|\n",
       "|ed1014295369e5d94...|Business Support ...| 10+ years|      MORTGAGE|     125000.0|           OH|   450xx|            USA|    B|       B3|    Source Verified|               206421.0|      Individual|              null|                     null|2024-08-10 11:35:...|\n",
       "|6898a533c7e0d79d0...|       IT Specialist|   5 years|      MORTGAGE|     130000.0|           VA|   221xx|            USA|    B|       B1|    Source Verified|               689509.0|      Individual|              null|                     null|2024-08-10 11:35:...|\n",
       "|d01b45adf9c914bed...|Warehouse Supervisor|   4 years|          RENT|      53000.0|           IL|   600xx|            USA|    B|       B2|    Source Verified|                49310.0|      Individual|              null|                     null|2024-08-10 11:35:...|\n",
       "|182e85a489f0f7f95...|   Software Engineer|  < 1 year|          RENT|      96000.0|           MD|   210xx|            USA|    A|       A2|    Source Verified|               183700.0|      Individual|              null|                     null|2024-08-10 11:35:...|\n",
       "|e3bc901c5c5a2d711...|            Attorney| 10+ years|      MORTGAGE|     170000.0|           FL|   322xx|            USA|    B|       B5|    Source Verified|               363419.0|      Individual|              null|                     null|2024-08-10 11:35:...|\n",
       "|5f244a8ab38a4f632...|            Clerical| 10+ years|          RENT|     140000.0|           CA|   907xx|            USA|    C|       C4|           Verified|               127498.0|      Individual|              null|                     null|2024-08-10 11:35:...|\n",
       "|d7ac85a884f852b69...|          IT Analyst|   2 years|           OWN|      42000.0|           GA|   302xx|            USA|    B|       B2|       Not Verified|               237602.0|      Individual|              null|                     null|2024-08-10 11:35:...|\n",
       "|a9e5d524565622565...|             Teacher| 10+ years|      MORTGAGE|      75000.0|           CA|   906xx|            USA|    B|       B2|    Source Verified|               477523.0|      Individual|              null|                     null|2024-08-10 11:35:...|\n",
       "|c6da9859f314fb209...|Business Process ...| 10+ years|          RENT|     140000.0|           TX|   770xx|            USA|    B|       B2|           Verified|                64870.0|      Individual|              null|                     null|2024-08-10 11:35:...|\n",
       "|894700fc46e7b659b...|       sales manager| 10+ years|           OWN|      49000.0|           VA|   226xx|            USA|    C|       C4|           Verified|                52929.0|      Individual|              null|                     null|2024-08-10 11:35:...|\n",
       "|db6d360b555a94c88...|    Field Consultant|    1 year|          RENT|      60000.0|           MI|   480xx|            USA|    A|       A2|           Verified|                54400.0|      Individual|              null|                     null|2024-08-10 11:35:...|\n",
       "|98975fa7b82200ebb...|             analyst| 10+ years|      MORTGAGE|     400000.0|           GA|   300xx|            USA|    A|       A4|    Source Verified|              1168955.0|      Individual|              null|                     null|2024-08-10 11:35:...|\n",
       "+--------------------+--------------------+----------+--------------+-------------+-------------+--------+---------------+-----+---------+-------------------+-----------------------+----------------+------------------+-------------------------+--------------------+\n",
       "only showing top 20 rows"
      ]
     },
     "execution_count": 14,
     "metadata": {},
     "output_type": "execute_result"
    }
   ],
   "source": [
    "spark.sql(\"select * from customers\")"
   ]
  },
  {
   "cell_type": "markdown",
   "id": "3d15feb6",
   "metadata": {},
   "source": [
    "## Removing rows where annual income is null"
   ]
  },
  {
   "cell_type": "code",
   "execution_count": 15,
   "id": "5e37e6ac",
   "metadata": {},
   "outputs": [
    {
     "data": {
      "text/html": [
       "<table border='1'>\n",
       "<tr><th>count(1)</th></tr>\n",
       "<tr><td>5</td></tr>\n",
       "</table>\n"
      ],
      "text/plain": [
       "+--------+\n",
       "|count(1)|\n",
       "+--------+\n",
       "|       5|\n",
       "+--------+"
      ]
     },
     "execution_count": 15,
     "metadata": {},
     "output_type": "execute_result"
    }
   ],
   "source": [
    "spark.sql(\"select count(*) from customers where annual_income is null\")"
   ]
  },
  {
   "cell_type": "code",
   "execution_count": 17,
   "id": "f072a2ef",
   "metadata": {},
   "outputs": [],
   "source": [
    "customers_income_filtered = spark.sql(\"select * from customers where annual_income is not null\")"
   ]
  },
  {
   "cell_type": "code",
   "execution_count": 18,
   "id": "9491c527",
   "metadata": {},
   "outputs": [
    {
     "data": {
      "text/html": [
       "<table border='1'>\n",
       "<tr><th>member_id</th><th>emp_title</th><th>emp_length</th><th>home_ownership</th><th>annual_income</th><th>address_state</th><th>zip_code</th><th>address_country</th><th>grade</th><th>sub_grade</th><th>verification_status</th><th>total_high_credit_limit</th><th>application_type</th><th>join_annual_income</th><th>verification_status_joint</th><th>ingest_date</th></tr>\n",
       "<tr><td>9257d8086c1ab441d...</td><td>transit operator</td><td>10+ years</td><td>MORTGAGE</td><td>120000.0</td><td>CA</td><td>945xx</td><td>USA</td><td>B</td><td>B5</td><td>Source Verified</td><td>540904.0</td><td>Individual</td><td>null</td><td>null</td><td>2024-08-10 11:36:...</td></tr>\n",
       "<tr><td>5f853b5865a967372...</td><td>Assistant Directo...</td><td>1 year</td><td>RENT</td><td>50000.0</td><td>NY</td><td>101xx</td><td>USA</td><td>A</td><td>A2</td><td>Not Verified</td><td>40000.0</td><td>Individual</td><td>null</td><td>null</td><td>2024-08-10 11:36:...</td></tr>\n",
       "<tr><td>e8a70bc677730e5c0...</td><td>Table Games Dealer</td><td>2 years</td><td>RENT</td><td>135000.0</td><td>MD</td><td>210xx</td><td>USA</td><td>B</td><td>B4</td><td>Source Verified</td><td>192431.0</td><td>Individual</td><td>null</td><td>null</td><td>2024-08-10 11:36:...</td></tr>\n",
       "<tr><td>a988346674c252adb...</td><td>RN Care Manager</td><td>1 year</td><td>MORTGAGE</td><td>75000.0</td><td>TX</td><td>783xx</td><td>USA</td><td>B</td><td>B2</td><td>Source Verified</td><td>245509.0</td><td>Individual</td><td>null</td><td>null</td><td>2024-08-10 11:36:...</td></tr>\n",
       "<tr><td>a25925fcfcef0b8a7...</td><td>Vice President</td><td>9 years</td><td>MORTGAGE</td><td>72000.0</td><td>IL</td><td>627xx</td><td>USA</td><td>D</td><td>D1</td><td>Not Verified</td><td>338337.0</td><td>Individual</td><td>null</td><td>null</td><td>2024-08-10 11:36:...</td></tr>\n",
       "<tr><td>79beadbca463b206d...</td><td>Customer Interfac...</td><td>10+ years</td><td>MORTGAGE</td><td>70000.0</td><td>TX</td><td>774xx</td><td>USA</td><td>A</td><td>A4</td><td>Not Verified</td><td>228537.0</td><td>Individual</td><td>null</td><td>null</td><td>2024-08-10 11:36:...</td></tr>\n",
       "<tr><td>d2775dd5e2e8e704f...</td><td>null</td><td>10+ years</td><td>MORTGAGE</td><td>56000.0</td><td>NM</td><td>875xx</td><td>USA</td><td>B</td><td>B2</td><td>Source Verified</td><td>32895.0</td><td>Individual</td><td>null</td><td>null</td><td>2024-08-10 11:36:...</td></tr>\n",
       "<tr><td>5c50e86e02ccf4d51...</td><td>Sr. Account Execu...</td><td>&lt; 1 year</td><td>MORTGAGE</td><td>375000.0</td><td>CA</td><td>946xx</td><td>USA</td><td>A</td><td>A1</td><td>Verified</td><td>930874.0</td><td>Individual</td><td>null</td><td>null</td><td>2024-08-10 11:36:...</td></tr>\n",
       "<tr><td>81122aa25bc4083a3...</td><td>Teacher</td><td>2 years</td><td>MORTGAGE</td><td>58000.0</td><td>TX</td><td>761xx</td><td>USA</td><td>C</td><td>C5</td><td>Source Verified</td><td>279078.0</td><td>Individual</td><td>null</td><td>null</td><td>2024-08-10 11:36:...</td></tr>\n",
       "<tr><td>eb0d59ffc6af6d91a...</td><td>Sr OPS Specialist II</td><td>5 years</td><td>MORTGAGE</td><td>31728.0</td><td>TX</td><td>782xx</td><td>USA</td><td>D</td><td>D2</td><td>Verified</td><td>258904.0</td><td>Joint App</td><td>91528.0</td><td>Verified</td><td>2024-08-10 11:36:...</td></tr>\n",
       "<tr><td>f48f49552e563a6fd...</td><td>highway superinte...</td><td>6 years</td><td>MORTGAGE</td><td>73000.0</td><td>NY</td><td>129xx</td><td>USA</td><td>D</td><td>D3</td><td>Verified</td><td>163467.0</td><td>Joint App</td><td>128000.0</td><td>Verified</td><td>2024-08-10 11:36:...</td></tr>\n",
       "<tr><td>9ee33f749d5095d7b...</td><td>Ticket Agent</td><td>10+ years</td><td>RENT</td><td>88000.0</td><td>NJ</td><td>070xx</td><td>USA</td><td>D</td><td>D4</td><td>Verified</td><td>26500.0</td><td>Individual</td><td>null</td><td>null</td><td>2024-08-10 11:36:...</td></tr>\n",
       "<tr><td>467ee59c7345aca96...</td><td>Sr. Business Analyst</td><td>10+ years</td><td>OWN</td><td>105000.0</td><td>NC</td><td>282xx</td><td>USA</td><td>B</td><td>B2</td><td>Source Verified</td><td>66084.0</td><td>Individual</td><td>null</td><td>null</td><td>2024-08-10 11:36:...</td></tr>\n",
       "<tr><td>5623e646a3ada8f55...</td><td>null</td><td>&lt; 1 year</td><td>RENT</td><td>50400.0</td><td>CA</td><td>912xx</td><td>USA</td><td>B</td><td>B2</td><td>Not Verified</td><td>58108.0</td><td>Individual</td><td>null</td><td>null</td><td>2024-08-10 11:36:...</td></tr>\n",
       "<tr><td>855d96eaf881b2dda...</td><td>Guest service rep...</td><td>2 years</td><td>OWN</td><td>52000.0</td><td>MS</td><td>395xx</td><td>USA</td><td>B</td><td>B5</td><td>Source Verified</td><td>55739.0</td><td>Individual</td><td>null</td><td>null</td><td>2024-08-10 11:36:...</td></tr>\n",
       "<tr><td>0efcde04b1f6a5c06...</td><td>porter</td><td>4 years</td><td>RENT</td><td>52450.0</td><td>NY</td><td>112xx</td><td>USA</td><td>D</td><td>D2</td><td>Not Verified</td><td>30900.0</td><td>Joint App</td><td>52450.0</td><td>Not Verified</td><td>2024-08-10 11:36:...</td></tr>\n",
       "<tr><td>d84bae0d97ce06293...</td><td>Class A Truck Driver</td><td>3 years</td><td>MORTGAGE</td><td>67000.0</td><td>GA</td><td>300xx</td><td>USA</td><td>C</td><td>C5</td><td>Verified</td><td>321720.0</td><td>Individual</td><td>null</td><td>null</td><td>2024-08-10 11:36:...</td></tr>\n",
       "<tr><td>63a4a7769e8cd0354...</td><td>Cashier</td><td>10+ years</td><td>OWN</td><td>91000.0</td><td>PA</td><td>191xx</td><td>USA</td><td>B</td><td>B3</td><td>Not Verified</td><td>222975.0</td><td>Individual</td><td>null</td><td>null</td><td>2024-08-10 11:36:...</td></tr>\n",
       "<tr><td>55e4a53c475cdeb44...</td><td>General Manager</td><td>10+ years</td><td>MORTGAGE</td><td>60000.0</td><td>WV</td><td>261xx</td><td>USA</td><td>B</td><td>B4</td><td>Verified</td><td>210222.0</td><td>Joint App</td><td>116000.0</td><td>Verified</td><td>2024-08-10 11:36:...</td></tr>\n",
       "<tr><td>0ab6e04b709891ed3...</td><td>null</td><td>&lt; 1 year</td><td>MORTGAGE</td><td>256000.0</td><td>TX</td><td>750xx</td><td>USA</td><td>D</td><td>D1</td><td>Source Verified</td><td>718950.0</td><td>Individual</td><td>null</td><td>null</td><td>2024-08-10 11:36:...</td></tr>\n",
       "</table>\n",
       "only showing top 20 rows\n"
      ],
      "text/plain": [
       "+--------------------+--------------------+----------+--------------+-------------+-------------+--------+---------------+-----+---------+-------------------+-----------------------+----------------+------------------+-------------------------+--------------------+\n",
       "|           member_id|           emp_title|emp_length|home_ownership|annual_income|address_state|zip_code|address_country|grade|sub_grade|verification_status|total_high_credit_limit|application_type|join_annual_income|verification_status_joint|         ingest_date|\n",
       "+--------------------+--------------------+----------+--------------+-------------+-------------+--------+---------------+-----+---------+-------------------+-----------------------+----------------+------------------+-------------------------+--------------------+\n",
       "|17df2049d163c3b8d...|             Manager|   4 years|      MORTGAGE|     104730.0|           TX|   770xx|            USA|    A|       A4|       Not Verified|               177500.0|      Individual|              null|                     null|2024-08-10 11:36:...|\n",
       "|848d4269cb37220f4...|      Police Officer|   8 years|      MORTGAGE|      85000.0|           WA|   993xx|            USA|    B|       B3|       Not Verified|               257423.0|      Individual|              null|                     null|2024-08-10 11:36:...|\n",
       "|f85ba7a5a245ec012...|   Software Engineer|   2 years|          RENT|      68000.0|           VA|   245xx|            USA|    B|       B2|    Source Verified|                66360.0|      Individual|              null|                     null|2024-08-10 11:36:...|\n",
       "|a2535c8f3a8cd5aef...|Director of Commu...|   6 years|          RENT|      65000.0|           TX|   774xx|            USA|    E|       E3|       Not Verified|                58319.0|      Individual|              null|                     null|2024-08-10 11:36:...|\n",
       "|f550281434adc61b3...|Landscape Estimat...|   4 years|          RENT|      56585.0|           PA|   196xx|            USA|    B|       B2|       Not Verified|                64474.0|      Individual|              null|                     null|2024-08-10 11:36:...|\n",
       "|82e5417e2f3e5e311...|       Area Mangaeer|   2 years|           OWN|      68000.0|           FL|   338xx|            USA|    C|       C4|           Verified|                41242.0|      Individual|              null|                     null|2024-08-10 11:36:...|\n",
       "|6e2643106ecb20556...|                null|      null|          RENT|      43500.0|           IN|   464xx|            USA|    B|       B5|           Verified|                61981.0|      Individual|              null|                     null|2024-08-10 11:36:...|\n",
       "|e587026edbefec7b8...|               sales| 10+ years|      MORTGAGE|      55000.0|           CT|   060xx|            USA|    B|       B2|       Not Verified|               174627.0|      Individual|              null|                     null|2024-08-10 11:36:...|\n",
       "|c4d4b6f4665a8f8e3...| Executive Assistant|  < 1 year|          RENT|      93000.0|           NY|   114xx|            USA|    B|       B3|       Not Verified|                74138.0|      Individual|              null|                     null|2024-08-10 11:36:...|\n",
       "|5c8b2c414696e2583...|International log...|   8 years|      MORTGAGE|      72000.0|           OH|   454xx|            USA|    A|       A3|    Source Verified|               108546.0|      Individual|              null|                     null|2024-08-10 11:36:...|\n",
       "|1231b47b4eb263f6d...|    District Manager|   2 years|      MORTGAGE|     134000.0|           FL|   346xx|            USA|    C|       C4|           Verified|               514642.0|      Individual|              null|                     null|2024-08-10 11:36:...|\n",
       "|36799c70cc8e5f644...|Chief Science and...|   2 years|      MORTGAGE|     170000.0|           GA|   301xx|            USA|    C|       C2|           Verified|               309778.0|      Individual|              null|                     null|2024-08-10 11:36:...|\n",
       "|748066dabf07a09c9...| Surgery Coordinator|   4 years|          RENT|      64000.0|           NJ|   070xx|            USA|    B|       B2|    Source Verified|                42672.0|      Individual|              null|                     null|2024-08-10 11:36:...|\n",
       "|6804788e07babdab5...|Lead Technical Su...| 10+ years|          RENT|      78000.0|           CA|   917xx|            USA|    A|       A5|       Not Verified|               107399.0|      Individual|              null|                     null|2024-08-10 11:36:...|\n",
       "|e242c01439b0380e9...|           Detective|   8 years|          RENT|     115000.0|           WA|   981xx|            USA|    C|       C1|    Source Verified|               116089.0|      Individual|              null|                     null|2024-08-10 11:36:...|\n",
       "|507921d00ffc2fe32...|  Compliance Analyst| 10+ years|          RENT|      50000.0|           DE|   198xx|            USA|    F|       F2|       Not Verified|                55125.0|      Individual|              null|                     null|2024-08-10 11:36:...|\n",
       "|c3ea503604305ecd7...|               Coder|   2 years|      MORTGAGE|      95000.0|           AR|   720xx|            USA|    D|       D4|    Source Verified|               260679.0|      Individual|              null|                     null|2024-08-10 11:36:...|\n",
       "|27a3fd1f935a1aeea...|             Teacher| 10+ years|      MORTGAGE|      60000.0|           TN|   378xx|            USA|    B|       B2|           Verified|               172945.0|      Individual|              null|                     null|2024-08-10 11:36:...|\n",
       "|fa5ee40cbf169cec4...|         UNDERWRITER|   7 years|          RENT|      86600.0|           GA|   303xx|            USA|    A|       A4|    Source Verified|               120471.0|      Individual|              null|                     null|2024-08-10 11:36:...|\n",
       "|1ae1cfb5adea7a7f1...|             Manager|   6 years|          RENT|      78000.0|           CA|   959xx|            USA|    E|       E1|           Verified|                24500.0|      Individual|              null|                     null|2024-08-10 11:36:...|\n",
       "+--------------------+--------------------+----------+--------------+-------------+-------------+--------+---------------+-----+---------+-------------------+-----------------------+----------------+------------------+-------------------------+--------------------+\n",
       "only showing top 20 rows"
      ]
     },
     "execution_count": 18,
     "metadata": {},
     "output_type": "execute_result"
    }
   ],
   "source": [
    "customers_income_filtered"
   ]
  },
  {
   "cell_type": "markdown",
   "id": "0b812ba6",
   "metadata": {},
   "source": [
    "## Convert emp_length to an integer format to enable performing operations in integer steps."
   ]
  },
  {
   "cell_type": "code",
   "execution_count": 19,
   "id": "2891f304",
   "metadata": {},
   "outputs": [],
   "source": [
    "customers_income_filtered.createOrReplaceTempView(\"customers\")"
   ]
  },
  {
   "cell_type": "code",
   "execution_count": 20,
   "id": "f41a0b14",
   "metadata": {},
   "outputs": [
    {
     "data": {
      "text/html": [
       "<table border='1'>\n",
       "<tr><th>emp_length</th></tr>\n",
       "<tr><td>9 years</td></tr>\n",
       "<tr><td>5 years</td></tr>\n",
       "<tr><td>null</td></tr>\n",
       "<tr><td>1 year</td></tr>\n",
       "<tr><td>2 years</td></tr>\n",
       "<tr><td>7 years</td></tr>\n",
       "<tr><td>8 years</td></tr>\n",
       "<tr><td>4 years</td></tr>\n",
       "<tr><td>6 years</td></tr>\n",
       "<tr><td>3 years</td></tr>\n",
       "<tr><td>10+ years</td></tr>\n",
       "<tr><td>&lt; 1 year</td></tr>\n",
       "</table>\n"
      ],
      "text/plain": [
       "+----------+\n",
       "|emp_length|\n",
       "+----------+\n",
       "|   5 years|\n",
       "|   9 years|\n",
       "|      null|\n",
       "|    1 year|\n",
       "|   2 years|\n",
       "|   7 years|\n",
       "|   8 years|\n",
       "|   4 years|\n",
       "|   6 years|\n",
       "|   3 years|\n",
       "| 10+ years|\n",
       "|  < 1 year|\n",
       "+----------+"
      ]
     },
     "execution_count": 20,
     "metadata": {},
     "output_type": "execute_result"
    }
   ],
   "source": [
    "spark.sql(\"select distinct(emp_length) from customers\")"
   ]
  },
  {
   "cell_type": "code",
   "execution_count": 21,
   "id": "6b2020d5",
   "metadata": {},
   "outputs": [],
   "source": [
    "customers_emplength_clean = customers_income_filtered.withColumn(\"emp_length\", regexp_replace(col(\"emp_length\"), \"(\\D)\",\"\"))"
   ]
  },
  {
   "cell_type": "code",
   "execution_count": 23,
   "id": "c361f12c",
   "metadata": {},
   "outputs": [
    {
     "data": {
      "text/html": [
       "<table border='1'>\n",
       "<tr><th>member_id</th><th>emp_title</th><th>emp_length</th><th>home_ownership</th><th>annual_income</th><th>address_state</th><th>zip_code</th><th>address_country</th><th>grade</th><th>sub_grade</th><th>verification_status</th><th>total_high_credit_limit</th><th>application_type</th><th>join_annual_income</th><th>verification_status_joint</th><th>ingest_date</th></tr>\n",
       "<tr><td>2c581585139aba3dd...</td><td>Business Management</td><td>7</td><td>RENT</td><td>92000.0</td><td>NY</td><td>100xx</td><td>USA</td><td>B</td><td>B2</td><td>Not Verified</td><td>32500.0</td><td>Individual</td><td>null</td><td>null</td><td>2024-08-10 11:36:...</td></tr>\n",
       "<tr><td>52b28e40efcf66b85...</td><td>General Manager</td><td>1</td><td>MORTGAGE</td><td>57500.0</td><td>OH</td><td>445xx</td><td>USA</td><td>C</td><td>C1</td><td>Not Verified</td><td>273596.0</td><td>Joint App</td><td>103500.0</td><td>Not Verified</td><td>2024-08-10 11:36:...</td></tr>\n",
       "<tr><td>61e5b62b29898efcc...</td><td>Program Manager</td><td>1</td><td>RENT</td><td>40000.0</td><td>CA</td><td>906xx</td><td>USA</td><td>A</td><td>A5</td><td>Source Verified</td><td>33400.0</td><td>Joint App</td><td>70000.0</td><td>Source Verified</td><td>2024-08-10 11:36:...</td></tr>\n",
       "<tr><td>06e7969255b74de35...</td><td>National Sales As...</td><td>10</td><td>OWN</td><td>36000.0</td><td>FL</td><td>328xx</td><td>USA</td><td>C</td><td>C4</td><td>Source Verified</td><td>36301.0</td><td>Individual</td><td>null</td><td>null</td><td>2024-08-10 11:36:...</td></tr>\n",
       "<tr><td>0dc855834741e8e57...</td><td>General Manager</td><td>5</td><td>RENT</td><td>55000.0</td><td>NJ</td><td>077xx</td><td>USA</td><td>B</td><td>B3</td><td>Not Verified</td><td>54262.0</td><td>Individual</td><td>null</td><td>null</td><td>2024-08-10 11:36:...</td></tr>\n",
       "<tr><td>6b032b1955bc41b75...</td><td>Marketing Associate</td><td>1</td><td>MORTGAGE</td><td>60000.0</td><td>KS</td><td>667xx</td><td>USA</td><td>C</td><td>C5</td><td>Verified</td><td>239161.0</td><td>Joint App</td><td>132000.0</td><td>Verified</td><td>2024-08-10 11:36:...</td></tr>\n",
       "<tr><td>f71983c40e1f686cd...</td><td>null</td><td>null</td><td>MORTGAGE</td><td>41000.0</td><td>SC</td><td>299xx</td><td>USA</td><td>C</td><td>C4</td><td>Verified</td><td>71988.0</td><td>Individual</td><td>null</td><td>null</td><td>2024-08-10 11:36:...</td></tr>\n",
       "<tr><td>efd6a896f3fd1663e...</td><td>OFFICE DEPUTY</td><td>10</td><td>MORTGAGE</td><td>38900.0</td><td>NC</td><td>286xx</td><td>USA</td><td>C</td><td>C5</td><td>Source Verified</td><td>16600.0</td><td>Joint App</td><td>77380.0</td><td>Source Verified</td><td>2024-08-10 11:36:...</td></tr>\n",
       "<tr><td>df0ebef9305bdc3c7...</td><td>Sr. Staff Engineer</td><td>10</td><td>MORTGAGE</td><td>111500.0</td><td>RI</td><td>028xx</td><td>USA</td><td>C</td><td>C4</td><td>Source Verified</td><td>512457.0</td><td>Individual</td><td>null</td><td>null</td><td>2024-08-10 11:36:...</td></tr>\n",
       "<tr><td>c9d893348cd43dbb1...</td><td>manager</td><td>1</td><td>MORTGAGE</td><td>150000.0</td><td>FL</td><td>347xx</td><td>USA</td><td>D</td><td>D2</td><td>Not Verified</td><td>312995.0</td><td>Joint App</td><td>250000.0</td><td>Not Verified</td><td>2024-08-10 11:36:...</td></tr>\n",
       "<tr><td>40cfcb55c2b742d48...</td><td>Manager</td><td>5</td><td>MORTGAGE</td><td>90000.0</td><td>MA</td><td>021xx</td><td>USA</td><td>C</td><td>C2</td><td>Not Verified</td><td>68349.0</td><td>Individual</td><td>null</td><td>null</td><td>2024-08-10 11:36:...</td></tr>\n",
       "<tr><td>46c17b8a534b1348c...</td><td>Sales</td><td>1</td><td>OWN</td><td>90000.0</td><td>RI</td><td>029xx</td><td>USA</td><td>B</td><td>B5</td><td>Verified</td><td>102118.0</td><td>Individual</td><td>null</td><td>null</td><td>2024-08-10 11:36:...</td></tr>\n",
       "<tr><td>f8de8497cf6f13ff0...</td><td>ADMIN ASST</td><td>2</td><td>OWN</td><td>32000.0</td><td>FL</td><td>328xx</td><td>USA</td><td>D</td><td>D3</td><td>Not Verified</td><td>28200.0</td><td>Individual</td><td>null</td><td>null</td><td>2024-08-10 11:36:...</td></tr>\n",
       "<tr><td>e9d75b6674696d2d0...</td><td>Quality Assurance...</td><td>4</td><td>RENT</td><td>52200.0</td><td>FL</td><td>330xx</td><td>USA</td><td>C</td><td>C2</td><td>Not Verified</td><td>100210.0</td><td>Individual</td><td>null</td><td>null</td><td>2024-08-10 11:36:...</td></tr>\n",
       "<tr><td>8e8579c40ea5822d2...</td><td>Journeyman wireman</td><td>4</td><td>MORTGAGE</td><td>70000.0</td><td>IN</td><td>479xx</td><td>USA</td><td>B</td><td>B2</td><td>Source Verified</td><td>134233.0</td><td>Individual</td><td>null</td><td>null</td><td>2024-08-10 11:36:...</td></tr>\n",
       "<tr><td>ee785099bea2772dc...</td><td>null</td><td>null</td><td>RENT</td><td>60000.0</td><td>IL</td><td>601xx</td><td>USA</td><td>B</td><td>B2</td><td>Source Verified</td><td>25765.0</td><td>Individual</td><td>null</td><td>null</td><td>2024-08-10 11:36:...</td></tr>\n",
       "<tr><td>5a9087ed81a117668...</td><td>Shippin manager</td><td>10</td><td>MORTGAGE</td><td>35000.0</td><td>NC</td><td>286xx</td><td>USA</td><td>B</td><td>B4</td><td>Source Verified</td><td>41615.0</td><td>Individual</td><td>null</td><td>null</td><td>2024-08-10 11:36:...</td></tr>\n",
       "<tr><td>f1d41f74b36b1e09e...</td><td>Project Manager</td><td>1</td><td>MORTGAGE</td><td>137500.0</td><td>TN</td><td>371xx</td><td>USA</td><td>B</td><td>B2</td><td>Source Verified</td><td>186729.0</td><td>Joint App</td><td>237000.0</td><td>Source Verified</td><td>2024-08-10 11:36:...</td></tr>\n",
       "<tr><td>0e8da52b8e4a6ffd7...</td><td>Hair stylist</td><td>9</td><td>MORTGAGE</td><td>40000.0</td><td>CA</td><td>920xx</td><td>USA</td><td>C</td><td>C2</td><td>Not Verified</td><td>74796.0</td><td>Individual</td><td>null</td><td>null</td><td>2024-08-10 11:36:...</td></tr>\n",
       "<tr><td>02cbabf2ed828df8a...</td><td>janitor</td><td>1</td><td>RENT</td><td>20000.0</td><td>CA</td><td>953xx</td><td>USA</td><td>B</td><td>B3</td><td>Verified</td><td>26631.0</td><td>Joint App</td><td>47000.0</td><td>Source Verified</td><td>2024-08-10 11:36:...</td></tr>\n",
       "</table>\n",
       "only showing top 20 rows\n"
      ],
      "text/plain": [
       "DataFrame[member_id: string, emp_title: string, emp_length: string, home_ownership: string, annual_income: float, address_state: string, zip_code: string, address_country: string, grade: string, sub_grade: string, verification_status: string, total_high_credit_limit: float, application_type: string, join_annual_income: float, verification_status_joint: string, ingest_date: timestamp]"
      ]
     },
     "execution_count": 23,
     "metadata": {},
     "output_type": "execute_result"
    }
   ],
   "source": [
    "customers_emplength_clean"
   ]
  },
  {
   "cell_type": "code",
   "execution_count": 32,
   "id": "704148c7",
   "metadata": {},
   "outputs": [
    {
     "name": "stdout",
     "output_type": "stream",
     "text": [
      "root\n",
      " |-- member_id: string (nullable = true)\n",
      " |-- emp_title: string (nullable = true)\n",
      " |-- emp_length: string (nullable = true)\n",
      " |-- home_ownership: string (nullable = true)\n",
      " |-- annual_income: float (nullable = true)\n",
      " |-- address_state: string (nullable = true)\n",
      " |-- zip_code: string (nullable = true)\n",
      " |-- address_country: string (nullable = true)\n",
      " |-- grade: string (nullable = true)\n",
      " |-- sub_grade: string (nullable = true)\n",
      " |-- verification_status: string (nullable = true)\n",
      " |-- total_high_credit_limit: float (nullable = true)\n",
      " |-- application_type: string (nullable = true)\n",
      " |-- join_annual_income: float (nullable = true)\n",
      " |-- verification_status_joint: string (nullable = true)\n",
      " |-- ingest_date: timestamp (nullable = false)\n",
      "\n"
     ]
    }
   ],
   "source": [
    "customers_emplength_clean.printSchema()"
   ]
  },
  {
   "cell_type": "code",
   "execution_count": 24,
   "id": "39ce9d5b",
   "metadata": {},
   "outputs": [],
   "source": [
    "customers_emplength_casted = customers_emplength_clean.withColumn(\"emp_length\", customers_emplength_clean.emp_length.cast('int'))"
   ]
  },
  {
   "cell_type": "code",
   "execution_count": 35,
   "id": "c3ebed87",
   "metadata": {},
   "outputs": [
    {
     "name": "stdout",
     "output_type": "stream",
     "text": [
      "root\n",
      " |-- member_id: string (nullable = true)\n",
      " |-- emp_title: string (nullable = true)\n",
      " |-- emp_length: integer (nullable = true)\n",
      " |-- home_ownership: string (nullable = true)\n",
      " |-- annual_income: float (nullable = true)\n",
      " |-- address_state: string (nullable = true)\n",
      " |-- zip_code: string (nullable = true)\n",
      " |-- address_country: string (nullable = true)\n",
      " |-- grade: string (nullable = true)\n",
      " |-- sub_grade: string (nullable = true)\n",
      " |-- verification_status: string (nullable = true)\n",
      " |-- total_high_credit_limit: float (nullable = true)\n",
      " |-- application_type: string (nullable = true)\n",
      " |-- join_annual_income: float (nullable = true)\n",
      " |-- verification_status_joint: string (nullable = true)\n",
      " |-- ingest_date: timestamp (nullable = false)\n",
      "\n"
     ]
    }
   ],
   "source": [
    "customers_emplength_casted.printSchema()"
   ]
  },
  {
   "cell_type": "markdown",
   "id": "232d39a5",
   "metadata": {},
   "source": [
    "## Replacing all the nulls in the emp_length with average of that column"
   ]
  },
  {
   "cell_type": "code",
   "execution_count": 25,
   "id": "d8b9985f",
   "metadata": {},
   "outputs": [
    {
     "data": {
      "text/plain": [
       "146903"
      ]
     },
     "execution_count": 25,
     "metadata": {},
     "output_type": "execute_result"
    }
   ],
   "source": [
    "customers_emplength_casted.filter(\"emp_length is null\").count()"
   ]
  },
  {
   "cell_type": "code",
   "execution_count": 26,
   "id": "094a921c",
   "metadata": {},
   "outputs": [],
   "source": [
    "customers_emplength_casted.createOrReplaceTempView(\"customers\")"
   ]
  },
  {
   "cell_type": "code",
   "execution_count": 27,
   "id": "84a725a5",
   "metadata": {},
   "outputs": [],
   "source": [
    "avg_emp_length = spark.sql(\"select floor(avg(emp_length)) as avg_emplength from customers\").collect()"
   ]
  },
  {
   "cell_type": "code",
   "execution_count": 28,
   "id": "b92c434c",
   "metadata": {},
   "outputs": [],
   "source": [
    "avg_emp_duration = avg_emp_length[0][0]"
   ]
  },
  {
   "cell_type": "code",
   "execution_count": 29,
   "id": "de02ed65",
   "metadata": {},
   "outputs": [],
   "source": [
    "customers_emplength_replaced = customers_emplength_casted.na.fill(avg_emp_duration, subset = ['emp_length'])"
   ]
  },
  {
   "cell_type": "code",
   "execution_count": 30,
   "id": "7ae0c3e5",
   "metadata": {},
   "outputs": [
    {
     "data": {
      "text/html": [
       "<table border='1'>\n",
       "<tr><th>member_id</th><th>emp_title</th><th>emp_length</th><th>home_ownership</th><th>annual_income</th><th>address_state</th><th>zip_code</th><th>address_country</th><th>grade</th><th>sub_grade</th><th>verification_status</th><th>total_high_credit_limit</th><th>application_type</th><th>join_annual_income</th><th>verification_status_joint</th><th>ingest_date</th></tr>\n",
       "<tr><td>08e881d7d87001ee9...</td><td>Duquesne University</td><td>1</td><td>RENT</td><td>25855.2</td><td>PA</td><td>152xx</td><td>USA</td><td>B</td><td>B3</td><td>Source Verified</td><td>null</td><td>Individual</td><td>null</td><td>null</td><td>2024-08-10 11:37:...</td></tr>\n",
       "<tr><td>d4b8ab477c6594a46...</td><td>Phoenix American</td><td>10</td><td>MORTGAGE</td><td>50062.74</td><td>FL</td><td>330xx</td><td>USA</td><td>B</td><td>B5</td><td>Verified</td><td>null</td><td>Individual</td><td>null</td><td>null</td><td>2024-08-10 11:37:...</td></tr>\n",
       "<tr><td>baa80f4b69b13f51d...</td><td>Rockland NY Medic...</td><td>2</td><td>RENT</td><td>60000.0</td><td>NY</td><td>109xx</td><td>USA</td><td>C</td><td>C4</td><td>Not Verified</td><td>null</td><td>Individual</td><td>null</td><td>null</td><td>2024-08-10 11:37:...</td></tr>\n",
       "<tr><td>c59019c41d7945c37...</td><td>TODD WENZEL CHEVR...</td><td>10</td><td>MORTGAGE</td><td>96600.0</td><td>MI</td><td>493xx</td><td>USA</td><td>C</td><td>C1</td><td>Verified</td><td>null</td><td>Individual</td><td>null</td><td>null</td><td>2024-08-10 11:37:...</td></tr>\n",
       "<tr><td>a670c18c8dd2e05c4...</td><td>PAYLESS SHOE SOURCE</td><td>10</td><td>RENT</td><td>60000.0</td><td>NY</td><td>113xx</td><td>USA</td><td>A</td><td>A5</td><td>Not Verified</td><td>null</td><td>Individual</td><td>null</td><td>null</td><td>2024-08-10 11:37:...</td></tr>\n",
       "<tr><td>9f753267d0d34485d...</td><td>State Farm</td><td>1</td><td>RENT</td><td>27000.0</td><td>CA</td><td>933xx</td><td>USA</td><td>C</td><td>C1</td><td>Verified</td><td>null</td><td>Individual</td><td>null</td><td>null</td><td>2024-08-10 11:37:...</td></tr>\n",
       "<tr><td>714163185928c0c7a...</td><td>NYC Department of...</td><td>10</td><td>RENT</td><td>75500.0</td><td>NY</td><td>113xx</td><td>USA</td><td>C</td><td>C2</td><td>Verified</td><td>null</td><td>Individual</td><td>null</td><td>null</td><td>2024-08-10 11:37:...</td></tr>\n",
       "<tr><td>1edd408274fe9f5af...</td><td>Stein5 LLC</td><td>1</td><td>MORTGAGE</td><td>40000.0</td><td>NC</td><td>286xx</td><td>USA</td><td>E</td><td>E3</td><td>Verified</td><td>null</td><td>Individual</td><td>null</td><td>null</td><td>2024-08-10 11:37:...</td></tr>\n",
       "<tr><td>f8263ea709c7f477c...</td><td>U.S. ARMY</td><td>10</td><td>RENT</td><td>38307.6</td><td>WA</td><td>983xx</td><td>USA</td><td>D</td><td>D4</td><td>Verified</td><td>null</td><td>Individual</td><td>null</td><td>null</td><td>2024-08-10 11:37:...</td></tr>\n",
       "<tr><td>9c6a9d08ea5a203ed...</td><td>null</td><td>6</td><td>RENT</td><td>30000.0</td><td>MD</td><td>208xx</td><td>USA</td><td>A</td><td>A1</td><td>Source Verified</td><td>null</td><td>Individual</td><td>null</td><td>null</td><td>2024-08-10 11:37:...</td></tr>\n",
       "<tr><td>1a532f73b4631d0ac...</td><td>Operations manager</td><td>5</td><td>MORTGAGE</td><td>74000.0</td><td>FL</td><td>334xx</td><td>USA</td><td>D</td><td>D3</td><td>Not Verified</td><td>221448.0</td><td>Individual</td><td>null</td><td>null</td><td>2024-08-10 11:37:...</td></tr>\n",
       "<tr><td>6a284f8402e7c98e9...</td><td>Manager</td><td>8</td><td>MORTGAGE</td><td>75000.0</td><td>TN</td><td>371xx</td><td>USA</td><td>C</td><td>C4</td><td>Source Verified</td><td>190468.0</td><td>Individual</td><td>null</td><td>null</td><td>2024-08-10 11:37:...</td></tr>\n",
       "<tr><td>3781e78de01bcec99...</td><td>Executive Assistant</td><td>3</td><td>RENT</td><td>78000.0</td><td>CA</td><td>935xx</td><td>USA</td><td>B</td><td>B3</td><td>Not Verified</td><td>36039.0</td><td>Individual</td><td>null</td><td>null</td><td>2024-08-10 11:37:...</td></tr>\n",
       "<tr><td>c85fe9e2b4140c286...</td><td>Registered nurse</td><td>9</td><td>MORTGAGE</td><td>140000.0</td><td>CA</td><td>945xx</td><td>USA</td><td>B</td><td>B1</td><td>Source Verified</td><td>501650.0</td><td>Individual</td><td>null</td><td>null</td><td>2024-08-10 11:37:...</td></tr>\n",
       "<tr><td>73d45a66c8dcc8a3b...</td><td>Regional Director</td><td>10</td><td>RENT</td><td>215000.0</td><td>IL</td><td>607xx</td><td>USA</td><td>C</td><td>C1</td><td>Source Verified</td><td>161342.0</td><td>Individual</td><td>null</td><td>null</td><td>2024-08-10 11:37:...</td></tr>\n",
       "<tr><td>7896d5b8720d4aa87...</td><td>Dispatcher</td><td>2</td><td>RENT</td><td>20000.0</td><td>NC</td><td>283xx</td><td>USA</td><td>B</td><td>B3</td><td>Not Verified</td><td>6700.0</td><td>Individual</td><td>null</td><td>null</td><td>2024-08-10 11:37:...</td></tr>\n",
       "<tr><td>a11061ec1c785139b...</td><td>Sales Manager</td><td>1</td><td>MORTGAGE</td><td>100000.0</td><td>NY</td><td>117xx</td><td>USA</td><td>B</td><td>B2</td><td>Verified</td><td>555391.0</td><td>Individual</td><td>null</td><td>null</td><td>2024-08-10 11:37:...</td></tr>\n",
       "<tr><td>00309884e6405bd4f...</td><td>Professional Diver</td><td>2</td><td>OWN</td><td>60000.0</td><td>KS</td><td>669xx</td><td>USA</td><td>D</td><td>D3</td><td>Source Verified</td><td>35249.0</td><td>Joint App</td><td>72000.0</td><td>Not Verified</td><td>2024-08-10 11:37:...</td></tr>\n",
       "<tr><td>59416ec4b7f4c884e...</td><td>Engineering Manager</td><td>5</td><td>MORTGAGE</td><td>85000.0</td><td>MO</td><td>658xx</td><td>USA</td><td>B</td><td>B4</td><td>Source Verified</td><td>201253.0</td><td>Individual</td><td>null</td><td>null</td><td>2024-08-10 11:37:...</td></tr>\n",
       "<tr><td>0004066d8ab6cb5dc...</td><td>Truck driver</td><td>2</td><td>MORTGAGE</td><td>80000.0</td><td>KY</td><td>427xx</td><td>USA</td><td>A</td><td>A5</td><td>Not Verified</td><td>67107.0</td><td>Individual</td><td>null</td><td>null</td><td>2024-08-10 11:37:...</td></tr>\n",
       "</table>\n",
       "only showing top 20 rows\n"
      ],
      "text/plain": [
       "+--------------------+--------------------+----------+--------------+-------------+-------------+--------+---------------+-----+---------+-------------------+-----------------------+----------------+------------------+-------------------------+--------------------+\n",
       "|           member_id|           emp_title|emp_length|home_ownership|annual_income|address_state|zip_code|address_country|grade|sub_grade|verification_status|total_high_credit_limit|application_type|join_annual_income|verification_status_joint|         ingest_date|\n",
       "+--------------------+--------------------+----------+--------------+-------------+-------------+--------+---------------+-----+---------+-------------------+-----------------------+----------------+------------------+-------------------------+--------------------+\n",
       "|d496f5010c490dd94...|    Customer Service|         3|      MORTGAGE|      40000.0|           CA|   917xx|            USA|    C|       C1|    Source Verified|                34940.0|      Individual|              null|                     null|2024-08-10 11:37:...|\n",
       "|dfb093802d84638f5...|      Lead Line Cook|         1|          RENT|      30000.0|           CO|   804xx|            USA|    A|       A3|       Not Verified|                76191.0|      Individual|              null|                     null|2024-08-10 11:37:...|\n",
       "|cb0bd31779a1883fb...|Payroll Administr...|         4|      MORTGAGE|      52000.0|           WI|   540xx|            USA|    A|       A1|       Not Verified|               177567.0|      Individual|              null|                     null|2024-08-10 11:37:...|\n",
       "|1ad3ddbffd1b32cf0...|     ER CHARGE NURSE|         3|      MORTGAGE|      79000.0|           TX|   794xx|            USA|    E|       E2|       Not Verified|               226385.0|      Individual|              null|                     null|2024-08-10 11:37:...|\n",
       "|681ad477d307bd72f...|       Fleet Manager|         5|      MORTGAGE|     110000.0|           CA|   925xx|            USA|    B|       B3|    Source Verified|               495090.0|      Individual|              null|                     null|2024-08-10 11:37:...|\n",
       "|ddc30bbc396b7ce7f...|      Office Manager|         1|          RENT|      35000.0|           CA|   906xx|            USA|    B|       B1|       Not Verified|                38200.0|      Individual|              null|                     null|2024-08-10 11:37:...|\n",
       "|af1e9826898b96c75...|Senior Migration ...|         5|      MORTGAGE|     102500.0|           TX|   765xx|            USA|    B|       B5|           Verified|               155620.0|      Individual|              null|                     null|2024-08-10 11:37:...|\n",
       "|83c9ccef59de29106...|     Deal Specialist|         4|          RENT|     120000.0|           IL|   605xx|            USA|    D|       D2|           Verified|               283618.0|      Individual|              null|                     null|2024-08-10 11:37:...|\n",
       "|faf0e3be71e415851...|Operations Specia...|         7|          RENT|      48000.0|           CA|   924xx|            USA|    D|       D3|    Source Verified|                51492.0|      Individual|              null|                     null|2024-08-10 11:37:...|\n",
       "|dfa85174b886f5a4a...|Process support s...|         6|      MORTGAGE|      40000.0|           MI|   485xx|            USA|    C|       C5|    Source Verified|               134098.0|      Individual|              null|                     null|2024-08-10 11:37:...|\n",
       "|5f8035b87d8d551bb...|    Support Engineer|         1|          RENT|      77500.0|           CA|   959xx|            USA|    A|       A2|       Not Verified|               102204.0|      Individual|              null|                     null|2024-08-10 11:37:...|\n",
       "|3b560c496c713b786...|           Bartender|         3|          RENT|      25000.0|           IL|   606xx|            USA|    C|       C2|           Verified|                33780.0|      Individual|              null|                     null|2024-08-10 11:37:...|\n",
       "|cfb3298d1ec05c118...|               sales|        10|           OWN|      85000.0|           DE|   199xx|            USA|    B|       B1|       Not Verified|               213528.0|      Individual|              null|                     null|2024-08-10 11:37:...|\n",
       "|7fe894838ab1de743...|             teacher|        10|           OWN|      70000.0|           NM|   882xx|            USA|    A|       A2|       Not Verified|                89735.0|      Individual|              null|                     null|2024-08-10 11:37:...|\n",
       "|3efe37fb632488fcb...| Procurement Systems|        10|      MORTGAGE|     110000.0|           WA|   993xx|            USA|    C|       C5|    Source Verified|               347449.0|      Individual|              null|                     null|2024-08-10 11:37:...|\n",
       "|ff89d534090183d3c...|             laborer|         7|      MORTGAGE|      45000.0|           OH|   453xx|            USA|    C|       C3|           Verified|               201576.0|       Joint App|          102000.0|             Not Verified|2024-08-10 11:37:...|\n",
       "|098bbc990f26be7db...|  production manager|         1|      MORTGAGE|     100000.0|           CA|   945xx|            USA|    A|       A1|           Verified|               558430.0|      Individual|              null|                     null|2024-08-10 11:37:...|\n",
       "|75d11f3453c06cd2d...|           Lietenant|        10|          RENT|      73000.0|           TX|   754xx|            USA|    B|       B2|    Source Verified|                53696.0|      Individual|              null|                     null|2024-08-10 11:37:...|\n",
       "|b4159d32e6fa85842...|                null|         6|           OWN|      18443.0|           ME|   044xx|            USA|    D|       D1|           Verified|                41819.0|      Individual|              null|                     null|2024-08-10 11:37:...|\n",
       "|526967d84f9aa84cb...|    registered nurse|        10|      MORTGAGE|     165000.0|           CA|   933xx|            USA|    C|       C5|           Verified|               327761.0|      Individual|              null|                     null|2024-08-10 11:37:...|\n",
       "+--------------------+--------------------+----------+--------------+-------------+-------------+--------+---------------+-----+---------+-------------------+-----------------------+----------------+------------------+-------------------------+--------------------+\n",
       "only showing top 20 rows"
      ]
     },
     "execution_count": 30,
     "metadata": {},
     "output_type": "execute_result"
    }
   ],
   "source": [
    "customers_emplength_replaced"
   ]
  },
  {
   "cell_type": "code",
   "execution_count": 31,
   "id": "0d91dda7",
   "metadata": {},
   "outputs": [
    {
     "data": {
      "text/plain": [
       "0"
      ]
     },
     "execution_count": 31,
     "metadata": {},
     "output_type": "execute_result"
    }
   ],
   "source": [
    "customers_emplength_replaced.filter(\"emp_length is null\").count()"
   ]
  },
  {
   "cell_type": "markdown",
   "id": "3852a88c",
   "metadata": {},
   "source": [
    "## Cleaning the column address_state"
   ]
  },
  {
   "cell_type": "code",
   "execution_count": 32,
   "id": "21ba4cb3",
   "metadata": {},
   "outputs": [],
   "source": [
    "customers_emplength_replaced.createOrReplaceTempView(\"customers\")"
   ]
  },
  {
   "cell_type": "code",
   "execution_count": 33,
   "id": "113687f5",
   "metadata": {},
   "outputs": [
    {
     "data": {
      "text/html": [
       "<table border='1'>\n",
       "<tr><th>address_state</th></tr>\n",
       "<tr><td>Helping Kenya&#x27;s D...</td></tr>\n",
       "<tr><td>175 (total projec...</td></tr>\n",
       "<tr><td>223xx</td></tr>\n",
       "<tr><td>AZ</td></tr>\n",
       "<tr><td>SC</td></tr>\n",
       "<tr><td>I am 56 yrs. old ...</td></tr>\n",
       "<tr><td>so Plan &quot;&quot;C&quot;&quot; is ...</td></tr>\n",
       "<tr><td>financially I mad...</td></tr>\n",
       "<tr><td>but no one will l...</td></tr>\n",
       "<tr><td>LA</td></tr>\n",
       "<tr><td>etc.  First</td></tr>\n",
       "<tr><td>MN</td></tr>\n",
       "<tr><td>499xx</td></tr>\n",
       "<tr><td>yet Capital One n...</td></tr>\n",
       "<tr><td>850xx</td></tr>\n",
       "<tr><td>and MBA&#x27;s are ove...</td></tr>\n",
       "<tr><td>Advocate business...</td></tr>\n",
       "<tr><td>Eliminating Credi...</td></tr>\n",
       "<tr><td>I the credit card...</td></tr>\n",
       "<tr><td>662xx</td></tr>\n",
       "</table>\n",
       "only showing top 20 rows\n"
      ],
      "text/plain": [
       "+--------------------+\n",
       "|       address_state|\n",
       "+--------------------+\n",
       "|Helping Kenya's D...|\n",
       "|               223xx|\n",
       "|175 (total projec...|\n",
       "|                  AZ|\n",
       "|                  SC|\n",
       "|I am 56 yrs. old ...|\n",
       "|so Plan \"\"C\"\" is ...|\n",
       "|financially I mad...|\n",
       "|but no one will l...|\n",
       "|                  LA|\n",
       "|         etc.  First|\n",
       "|                  MN|\n",
       "|               850xx|\n",
       "|               499xx|\n",
       "|yet Capital One n...|\n",
       "|Eliminating Credi...|\n",
       "|Advocate business...|\n",
       "|and MBA's are ove...|\n",
       "|I the credit card...|\n",
       "|               951xx|\n",
       "+--------------------+\n",
       "only showing top 20 rows"
      ]
     },
     "execution_count": 33,
     "metadata": {},
     "output_type": "execute_result"
    }
   ],
   "source": [
    "spark.sql(\"select distinct(address_state) from customers\")"
   ]
  },
  {
   "cell_type": "code",
   "execution_count": 34,
   "id": "0cca04c2",
   "metadata": {},
   "outputs": [
    {
     "data": {
      "text/html": [
       "<table border='1'>\n",
       "<tr><th>count(address_state)</th></tr>\n",
       "<tr><td>254</td></tr>\n",
       "</table>\n"
      ],
      "text/plain": [
       "+--------------------+\n",
       "|count(address_state)|\n",
       "+--------------------+\n",
       "|                 254|\n",
       "+--------------------+"
      ]
     },
     "execution_count": 34,
     "metadata": {},
     "output_type": "execute_result"
    }
   ],
   "source": [
    "spark.sql(\"select count(address_state) from customers where length(address_state) > 2\")"
   ]
  },
  {
   "cell_type": "code",
   "execution_count": 37,
   "id": "ccb7c691",
   "metadata": {},
   "outputs": [],
   "source": [
    "customers_state_cleaned = customers_emplength_replaced.withColumn(\n",
    "    \"address_state\",\n",
    "    when(length(col(\"address_state\")) > 2, \"NA\").otherwise(col(\"address_state\"))\n",
    ")"
   ]
  },
  {
   "cell_type": "code",
   "execution_count": 38,
   "id": "d0cb6ccf",
   "metadata": {},
   "outputs": [
    {
     "data": {
      "text/html": [
       "<table border='1'>\n",
       "<tr><th>member_id</th><th>emp_title</th><th>emp_length</th><th>home_ownership</th><th>annual_income</th><th>address_state</th><th>zip_code</th><th>address_country</th><th>grade</th><th>sub_grade</th><th>verification_status</th><th>total_high_credit_limit</th><th>application_type</th><th>join_annual_income</th><th>verification_status_joint</th><th>ingest_date</th></tr>\n",
       "<tr><td>9aeca2e75d537c2cf...</td><td>null</td><td>6</td><td>MORTGAGE</td><td>85000.0</td><td>NC</td><td>283xx</td><td>USA</td><td>C</td><td>C2</td><td>Verified</td><td>209717.0</td><td>Individual</td><td>null</td><td>null</td><td>2024-08-10 11:46:...</td></tr>\n",
       "<tr><td>9e87986e2dbcca9b0...</td><td>Head Sushi Chef</td><td>3</td><td>RENT</td><td>95000.0</td><td>CA</td><td>926xx</td><td>USA</td><td>B</td><td>B1</td><td>Source Verified</td><td>56922.0</td><td>Individual</td><td>null</td><td>null</td><td>2024-08-10 11:46:...</td></tr>\n",
       "<tr><td>7cdd9cc4cd6e3643d...</td><td>Administrative As...</td><td>5</td><td>MORTGAGE</td><td>35500.0</td><td>MO</td><td>654xx</td><td>USA</td><td>C</td><td>C1</td><td>Verified</td><td>151546.0</td><td>Individual</td><td>null</td><td>null</td><td>2024-08-10 11:46:...</td></tr>\n",
       "<tr><td>3be6c6c8d242f2acf...</td><td>nurse</td><td>9</td><td>RENT</td><td>64255.0</td><td>NJ</td><td>076xx</td><td>USA</td><td>B</td><td>B4</td><td>Source Verified</td><td>71221.0</td><td>Individual</td><td>null</td><td>null</td><td>2024-08-10 11:46:...</td></tr>\n",
       "<tr><td>b275eefd4f558165b...</td><td>General  manager</td><td>10</td><td>MORTGAGE</td><td>75000.0</td><td>IL</td><td>612xx</td><td>USA</td><td>A</td><td>A1</td><td>Not Verified</td><td>203110.0</td><td>Individual</td><td>null</td><td>null</td><td>2024-08-10 11:46:...</td></tr>\n",
       "<tr><td>c2844610743c6e127...</td><td>Trader/CSR</td><td>10</td><td>MORTGAGE</td><td>72000.0</td><td>NV</td><td>894xx</td><td>USA</td><td>A</td><td>A2</td><td>Source Verified</td><td>164262.0</td><td>Individual</td><td>null</td><td>null</td><td>2024-08-10 11:46:...</td></tr>\n",
       "<tr><td>51464a0ff83587565...</td><td>General Manager</td><td>6</td><td>MORTGAGE</td><td>50000.0</td><td>WV</td><td>254xx</td><td>USA</td><td>A</td><td>A1</td><td>Not Verified</td><td>197049.0</td><td>Individual</td><td>null</td><td>null</td><td>2024-08-10 11:46:...</td></tr>\n",
       "<tr><td>fb1305d7b392c344c...</td><td>LPN</td><td>1</td><td>OWN</td><td>40000.0</td><td>FL</td><td>344xx</td><td>USA</td><td>A</td><td>A3</td><td>Source Verified</td><td>48066.0</td><td>Individual</td><td>null</td><td>null</td><td>2024-08-10 11:46:...</td></tr>\n",
       "<tr><td>f56844281329a3888...</td><td>Finance Manager</td><td>1</td><td>RENT</td><td>100000.0</td><td>NY</td><td>100xx</td><td>USA</td><td>A</td><td>A1</td><td>Source Verified</td><td>83107.0</td><td>Individual</td><td>null</td><td>null</td><td>2024-08-10 11:46:...</td></tr>\n",
       "<tr><td>ed2a881b04878ae26...</td><td>Labor Relations S...</td><td>10</td><td>MORTGAGE</td><td>165000.0</td><td>NY</td><td>105xx</td><td>USA</td><td>B</td><td>B4</td><td>Not Verified</td><td>864505.0</td><td>Individual</td><td>null</td><td>null</td><td>2024-08-10 11:46:...</td></tr>\n",
       "<tr><td>1cbade413306327fa...</td><td>ramp service</td><td>10</td><td>MORTGAGE</td><td>55700.0</td><td>IL</td><td>608xx</td><td>USA</td><td>B</td><td>B5</td><td>Not Verified</td><td>301342.0</td><td>Individual</td><td>null</td><td>null</td><td>2024-08-10 11:46:...</td></tr>\n",
       "<tr><td>cd6adeec0d42923d1...</td><td>Sales Manager</td><td>10</td><td>MORTGAGE</td><td>153000.0</td><td>OH</td><td>452xx</td><td>USA</td><td>A</td><td>A3</td><td>Not Verified</td><td>196665.0</td><td>Individual</td><td>null</td><td>null</td><td>2024-08-10 11:46:...</td></tr>\n",
       "<tr><td>96406b59b691fa1d3...</td><td>Fiscal Analyst</td><td>10</td><td>MORTGAGE</td><td>59000.0</td><td>VA</td><td>221xx</td><td>USA</td><td>A</td><td>A2</td><td>Not Verified</td><td>320144.0</td><td>Individual</td><td>null</td><td>null</td><td>2024-08-10 11:46:...</td></tr>\n",
       "<tr><td>2907e222c26308d41...</td><td>Project Manager</td><td>3</td><td>RENT</td><td>83500.0</td><td>WI</td><td>532xx</td><td>USA</td><td>A</td><td>A5</td><td>Source Verified</td><td>76220.0</td><td>Individual</td><td>null</td><td>null</td><td>2024-08-10 11:46:...</td></tr>\n",
       "<tr><td>585705e53dd0d296d...</td><td>Electrician</td><td>3</td><td>RENT</td><td>48000.0</td><td>CA</td><td>920xx</td><td>USA</td><td>B</td><td>B1</td><td>Not Verified</td><td>39235.0</td><td>Individual</td><td>null</td><td>null</td><td>2024-08-10 11:46:...</td></tr>\n",
       "<tr><td>52e479abd5f02e046...</td><td>Store Manager</td><td>1</td><td>RENT</td><td>36000.0</td><td>CO</td><td>802xx</td><td>USA</td><td>A</td><td>A3</td><td>Source Verified</td><td>21100.0</td><td>Individual</td><td>null</td><td>null</td><td>2024-08-10 11:46:...</td></tr>\n",
       "<tr><td>06ca096d92b4d939f...</td><td>Claims Specialist</td><td>6</td><td>MORTGAGE</td><td>103000.0</td><td>NJ</td><td>073xx</td><td>USA</td><td>A</td><td>A1</td><td>Source Verified</td><td>430967.0</td><td>Individual</td><td>null</td><td>null</td><td>2024-08-10 11:46:...</td></tr>\n",
       "<tr><td>05c64f186a59a50e8...</td><td>Legal Assistant</td><td>6</td><td>RENT</td><td>49500.0</td><td>NC</td><td>282xx</td><td>USA</td><td>A</td><td>A2</td><td>Not Verified</td><td>55100.0</td><td>Individual</td><td>null</td><td>null</td><td>2024-08-10 11:46:...</td></tr>\n",
       "<tr><td>cfffdf685e5a49d42...</td><td>Small Business Re...</td><td>3</td><td>MORTGAGE</td><td>92500.0</td><td>NJ</td><td>070xx</td><td>USA</td><td>A</td><td>A2</td><td>Not Verified</td><td>398623.0</td><td>Individual</td><td>null</td><td>null</td><td>2024-08-10 11:46:...</td></tr>\n",
       "<tr><td>5ce079e4be122f2c9...</td><td>Technician</td><td>3</td><td>RENT</td><td>45000.0</td><td>NH</td><td>031xx</td><td>USA</td><td>A</td><td>A1</td><td>Verified</td><td>26000.0</td><td>Individual</td><td>null</td><td>null</td><td>2024-08-10 11:46:...</td></tr>\n",
       "</table>\n",
       "only showing top 20 rows\n"
      ],
      "text/plain": [
       "+--------------------+--------------------+----------+--------------+-------------+-------------+--------+---------------+-----+---------+-------------------+-----------------------+----------------+------------------+-------------------------+--------------------+\n",
       "|           member_id|           emp_title|emp_length|home_ownership|annual_income|address_state|zip_code|address_country|grade|sub_grade|verification_status|total_high_credit_limit|application_type|join_annual_income|verification_status_joint|         ingest_date|\n",
       "+--------------------+--------------------+----------+--------------+-------------+-------------+--------+---------------+-----+---------+-------------------+-----------------------+----------------+------------------+-------------------------+--------------------+\n",
       "|996460a815d752f51...|  Associate Director|         8|      MORTGAGE|     100000.0|           NV|   890xx|            USA|    D|       D4|    Source Verified|               255361.0|      Individual|              null|                     null|2024-08-10 11:46:...|\n",
       "|2cd7cc59a9e258164...|          IT Analyst|        10|      MORTGAGE|      64000.0|           CA|   957xx|            USA|    B|       B3|       Not Verified|               244307.0|      Individual|              null|                     null|2024-08-10 11:46:...|\n",
       "|88b57b7a1251a30cb...|             Officer|        10|      MORTGAGE|      74000.0|           PA|   166xx|            USA|    B|       B2|       Not Verified|                42100.0|      Individual|              null|                     null|2024-08-10 11:46:...|\n",
       "|bfa7252b3401e67dc...|          Landscaper|         5|          RENT|      39000.0|           CA|   921xx|            USA|    E|       E1|           Verified|                34320.0|      Individual|              null|                     null|2024-08-10 11:46:...|\n",
       "|ccdc9603616f435e3...|  tool and die maker|        10|           OWN|     110000.0|           OH|   442xx|            USA|    A|       A3|       Not Verified|               198163.0|      Individual|              null|                     null|2024-08-10 11:46:...|\n",
       "|9dde9fd87d5dc818a...|                null|         6|      MORTGAGE|      65000.0|           CA|   956xx|            USA|    B|       B2|           Verified|               342500.0|      Individual|              null|                     null|2024-08-10 11:46:...|\n",
       "|54bb5a304878b0d2b...|    Registered Nurse|         6|      MORTGAGE|      69000.0|           AZ|   852xx|            USA|    D|       D1|           Verified|               274825.0|      Individual|              null|                     null|2024-08-10 11:46:...|\n",
       "|ba5375c73df73a571...|              Driver|         7|      MORTGAGE|      78000.0|           NY|   124xx|            USA|    A|       A5|           Verified|               186114.0|      Individual|              null|                     null|2024-08-10 11:46:...|\n",
       "|ba7e671c796891ed0...|                  RN|         1|      MORTGAGE|      80000.0|           NY|   138xx|            USA|    A|       A2|    Source Verified|               228685.0|      Individual|              null|                     null|2024-08-10 11:46:...|\n",
       "|2aed88c206a00fc81...|                null|         6|          RENT|      30540.0|           FL|   335xx|            USA|    D|       D3|           Verified|                36712.0|      Individual|              null|                     null|2024-08-10 11:46:...|\n",
       "|b51228d6119e955a4...|      travel manager|        10|      MORTGAGE|      68200.0|           NY|   119xx|            USA|    B|       B4|           Verified|                92607.0|      Individual|              null|                     null|2024-08-10 11:46:...|\n",
       "|197a27ffd403236e0...|     Account Manager|         1|      MORTGAGE|      60000.0|           IL|   606xx|            USA|    B|       B3|       Not Verified|               111356.0|      Individual|              null|                     null|2024-08-10 11:46:...|\n",
       "|7845b46dbaaba6389...|   Pest Control Tech|        10|          RENT|      43000.0|           NY|   145xx|            USA|    C|       C4|           Verified|                64914.0|      Individual|              null|                     null|2024-08-10 11:46:...|\n",
       "|156521bd7a03ce0dd...|      BRANCH MANAGER|         2|      MORTGAGE|      50000.0|           OH|   456xx|            USA|    A|       A5|       Not Verified|               203461.0|      Individual|              null|                     null|2024-08-10 11:46:...|\n",
       "|48b96281c6995dfa9...|             Manager|         3|          RENT|      36000.0|           CA|   927xx|            USA|    C|       C1|       Not Verified|                66788.0|      Individual|              null|                     null|2024-08-10 11:46:...|\n",
       "|daaf6fad7cd47691f...|Business Operatio...|         8|          RENT|      40000.0|           CA|   945xx|            USA|    C|       C3|           Verified|                22478.0|      Individual|              null|                     null|2024-08-10 11:46:...|\n",
       "|a01f63ba79bfc4f10...|Nurse Practitione...|         8|      MORTGAGE|      86000.0|           FL|   328xx|            USA|    D|       D4|           Verified|               294428.0|      Individual|              null|                     null|2024-08-10 11:46:...|\n",
       "|240e2b3dadb6775c2...|                shop|         8|      MORTGAGE|      40000.0|           OH|   453xx|            USA|    A|       A2|           Verified|               242006.0|      Individual|              null|                     null|2024-08-10 11:46:...|\n",
       "|a2dac97a7ca75bb91...|                null|         6|      MORTGAGE|      50000.0|           FL|   349xx|            USA|    C|       C1|    Source Verified|               251500.0|      Individual|              null|                     null|2024-08-10 11:46:...|\n",
       "|62652ba7f030c029c...|          Management|        10|      MORTGAGE|     189000.0|           VA|   226xx|            USA|    A|       A5|           Verified|               417083.0|      Individual|              null|                     null|2024-08-10 11:46:...|\n",
       "+--------------------+--------------------+----------+--------------+-------------+-------------+--------+---------------+-----+---------+-------------------+-----------------------+----------------+------------------+-------------------------+--------------------+\n",
       "only showing top 20 rows"
      ]
     },
     "execution_count": 38,
     "metadata": {},
     "output_type": "execute_result"
    }
   ],
   "source": [
    "customers_state_cleaned"
   ]
  },
  {
   "cell_type": "code",
   "execution_count": 39,
   "id": "fd2eeaeb",
   "metadata": {},
   "outputs": [
    {
     "data": {
      "text/html": [
       "<table border='1'>\n",
       "<tr><th>address_state</th></tr>\n",
       "<tr><td>AZ</td></tr>\n",
       "<tr><td>SC</td></tr>\n",
       "<tr><td>LA</td></tr>\n",
       "<tr><td>MN</td></tr>\n",
       "<tr><td>NJ</td></tr>\n",
       "<tr><td>DC</td></tr>\n",
       "<tr><td>OR</td></tr>\n",
       "<tr><td>NA</td></tr>\n",
       "<tr><td>VA</td></tr>\n",
       "<tr><td>null</td></tr>\n",
       "<tr><td>RI</td></tr>\n",
       "<tr><td>KY</td></tr>\n",
       "<tr><td>WY</td></tr>\n",
       "<tr><td>NH</td></tr>\n",
       "<tr><td>MI</td></tr>\n",
       "<tr><td>NV</td></tr>\n",
       "<tr><td>WI</td></tr>\n",
       "<tr><td>ID</td></tr>\n",
       "<tr><td>CA</td></tr>\n",
       "<tr><td>CT</td></tr>\n",
       "</table>\n",
       "only showing top 20 rows\n"
      ],
      "text/plain": [
       "+-------------+\n",
       "|address_state|\n",
       "+-------------+\n",
       "|           AZ|\n",
       "|           SC|\n",
       "|           LA|\n",
       "|           MN|\n",
       "|           NJ|\n",
       "|           DC|\n",
       "|           OR|\n",
       "|           NA|\n",
       "|           VA|\n",
       "|         null|\n",
       "|           RI|\n",
       "|           KY|\n",
       "|           WY|\n",
       "|           NH|\n",
       "|           MI|\n",
       "|           NV|\n",
       "|           WI|\n",
       "|           ID|\n",
       "|           CA|\n",
       "|           CT|\n",
       "+-------------+\n",
       "only showing top 20 rows"
      ]
     },
     "execution_count": 39,
     "metadata": {},
     "output_type": "execute_result"
    }
   ],
   "source": [
    "customers_state_cleaned.select(\"address_state\").distinct()"
   ]
  },
  {
   "cell_type": "markdown",
   "id": "264ff97d",
   "metadata": {},
   "source": [
    "## Writing the data back to hdfs in parquet and csv format for further use"
   ]
  },
  {
   "cell_type": "code",
   "execution_count": 41,
   "id": "d4393b93",
   "metadata": {},
   "outputs": [],
   "source": [
    "customers_state_cleaned.write.format(\"parquet\").mode(\"overwrite\").option(\"path\", \"/user/itv012713/lendingclubproject/clean_data/customers_cleaned\").save()"
   ]
  },
  {
   "cell_type": "code",
   "execution_count": 42,
   "id": "3578c257",
   "metadata": {},
   "outputs": [],
   "source": [
    "customers_state_cleaned.write.option(\"header\",True).format(\"csv\").mode(\"overwrite\").option(\"path\", \"/user/itv012713/lendingclubproject/clean_data/customers_cleaned_csv\").save()"
   ]
  },
  {
   "cell_type": "code",
   "execution_count": null,
   "id": "03f0a8c7",
   "metadata": {},
   "outputs": [],
   "source": []
  }
 ],
 "metadata": {
  "kernelspec": {
   "display_name": "Pyspark 3",
   "language": "python",
   "name": "pyspark3"
  },
  "language_info": {
   "codemirror_mode": {
    "name": "ipython",
    "version": 3
   },
   "file_extension": ".py",
   "mimetype": "text/x-python",
   "name": "python",
   "nbconvert_exporter": "python",
   "pygments_lexer": "ipython3",
   "version": "3.6.12"
  }
 },
 "nbformat": 4,
 "nbformat_minor": 5
}
