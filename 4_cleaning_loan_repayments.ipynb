{
 "cells": [
  {
   "cell_type": "code",
   "execution_count": 2,
   "id": "5e1006f8",
   "metadata": {},
   "outputs": [],
   "source": [
    "from pyspark.sql import SparkSession\n",
    "spark=SparkSession.\\\n",
    "builder.\\\n",
    "config('spark.shuffle.useOldFetchProtocol','true').\\\n",
    "config('spark.ui.port','0').\\\n",
    "config(\"spark.sql.warehouse.dir\",\"/user/itv012713/warehouse\").\\\n",
    "enableHiveSupport().\\\n",
    "master('yarn').\\\n",
    "getOrCreate()\n",
    "\n"
   ]
  },
  {
   "cell_type": "code",
   "execution_count": 3,
   "id": "13f90df3",
   "metadata": {},
   "outputs": [],
   "source": [
    "from pyspark.sql.functions import current_timestamp, when, col"
   ]
  },
  {
   "cell_type": "markdown",
   "id": "0c348392",
   "metadata": {},
   "source": [
    "## Generating a Dataframe with proper datatypes"
   ]
  },
  {
   "cell_type": "code",
   "execution_count": 4,
   "id": "5d7bafbe",
   "metadata": {},
   "outputs": [],
   "source": [
    "loan_repayments_schema = 'loan_id string,total_principal_received float,total_interest_received float,total_late_fee_received float,total_payment_received float,last_payment_amount float,last_payment_date string,next_payment_date string'"
   ]
  },
  {
   "cell_type": "code",
   "execution_count": 5,
   "id": "74f61e4b",
   "metadata": {},
   "outputs": [],
   "source": [
    "loans_repay_raw_df = spark.read.format(\"csv\").option(\"header\",True).schema(loan_repayments_schema).load(\"/user/itv012713/lendingclubproject/raw/loans_repayments_csv\")"
   ]
  },
  {
   "cell_type": "markdown",
   "id": "b4772e83",
   "metadata": {},
   "source": [
    "loans_repay_raw_df"
   ]
  },
  {
   "cell_type": "markdown",
   "id": "101e49da",
   "metadata": {},
   "source": [
    "## Inserting Ingestion Date for data processing"
   ]
  },
  {
   "cell_type": "code",
   "execution_count": 6,
   "id": "06498abd",
   "metadata": {},
   "outputs": [],
   "source": [
    "loans_repay_df_ingestd = loans_repay_raw_df.withColumn(\"ingest_date\", current_timestamp())"
   ]
  },
  {
   "cell_type": "code",
   "execution_count": 7,
   "id": "8cdb4608",
   "metadata": {},
   "outputs": [
    {
     "data": {
      "text/html": [
       "<table border='1'>\n",
       "<tr><th>loan_id</th><th>total_principal_received</th><th>total_interest_received</th><th>total_late_fee_received</th><th>total_payment_received</th><th>last_payment_amount</th><th>last_payment_date</th><th>next_payment_date</th><th>ingest_date</th></tr>\n",
       "<tr><td>109653473</td><td>8582.03</td><td>4166.19</td><td>0.0</td><td>12748.22</td><td>198.22</td><td>Nov-2018</td><td>Apr-2019</td><td>2024-08-10 16:27:...</td></tr>\n",
       "<tr><td>109677516</td><td>7736.13</td><td>2402.89</td><td>0.0</td><td>10139.02</td><td>482.57</td><td>Mar-2019</td><td>Apr-2019</td><td>2024-08-10 16:27:...</td></tr>\n",
       "<tr><td>109910042</td><td>4000.0</td><td>226.8</td><td>0.0</td><td>4226.7983</td><td>2994.33</td><td>May-2018</td><td>null</td><td>2024-08-10 16:27:...</td></tr>\n",
       "<tr><td>109767343</td><td>16493.94</td><td>6995.31</td><td>0.0</td><td>23489.25</td><td>1070.93</td><td>Mar-2019</td><td>Apr-2019</td><td>2024-08-10 16:27:...</td></tr>\n",
       "<tr><td>109858215</td><td>6407.11</td><td>2345.53</td><td>0.0</td><td>8752.64</td><td>398.94</td><td>Mar-2019</td><td>Apr-2019</td><td>2024-08-10 16:27:...</td></tr>\n",
       "<tr><td>109740125</td><td>25100.0</td><td>555.41</td><td>0.0</td><td>25655.408</td><td>25711.26</td><td>Jun-2017</td><td>null</td><td>2024-08-10 16:27:...</td></tr>\n",
       "<tr><td>108257437</td><td>4800.0</td><td>433.18</td><td>0.0</td><td>5233.1846</td><td>115.71</td><td>Mar-2019</td><td>null</td><td>2024-08-10 16:27:...</td></tr>\n",
       "<tr><td>109898089</td><td>3086.26</td><td>3155.35</td><td>0.0</td><td>6241.61</td><td>296.95</td><td>Mar-2019</td><td>Apr-2019</td><td>2024-08-10 16:27:...</td></tr>\n",
       "<tr><td>109253226</td><td>4254.25</td><td>3573.9</td><td>0.0</td><td>7828.15</td><td>357.25</td><td>Mar-2019</td><td>Apr-2019</td><td>2024-08-10 16:27:...</td></tr>\n",
       "<tr><td>109848461</td><td>6400.0</td><td>51.74</td><td>0.0</td><td>6451.7383</td><td>6461.0</td><td>Jun-2017</td><td>null</td><td>2024-08-10 16:27:...</td></tr>\n",
       "<tr><td>109878764</td><td>5671.77</td><td>4685.86</td><td>0.0</td><td>10357.63</td><td>476.33</td><td>Mar-2019</td><td>Apr-2019</td><td>2024-08-10 16:27:...</td></tr>\n",
       "<tr><td>109994354</td><td>5858.28</td><td>932.1</td><td>0.0</td><td>6790.38</td><td>309.1</td><td>Mar-2019</td><td>Apr-2019</td><td>2024-08-10 16:27:...</td></tr>\n",
       "<tr><td>109759397</td><td>2698.64</td><td>4248.07</td><td>0.0</td><td>6946.71</td><td>458.76</td><td>Sep-2018</td><td>null</td><td>2024-08-10 16:27:...</td></tr>\n",
       "<tr><td>109977107</td><td>0.0</td><td>0.0</td><td>0.0</td><td>0.0</td><td>0.0</td><td>null</td><td>null</td><td>2024-08-10 16:27:...</td></tr>\n",
       "<tr><td>109880094</td><td>4000.0</td><td>233.55</td><td>0.0</td><td>4233.553</td><td>3001.08</td><td>May-2018</td><td>null</td><td>2024-08-10 16:27:...</td></tr>\n",
       "<tr><td>109062494</td><td>12101.09</td><td>3240.33</td><td>0.0</td><td>18969.65</td><td>1280.2</td><td>Jun-2018</td><td>null</td><td>2024-08-10 16:27:...</td></tr>\n",
       "<tr><td>109707717</td><td>4316.23</td><td>1257.72</td><td>0.0</td><td>5573.95</td><td>265.68</td><td>Feb-2019</td><td>Apr-2019</td><td>2024-08-10 16:27:...</td></tr>\n",
       "<tr><td>109827365</td><td>8129.11</td><td>3912.83</td><td>0.0</td><td>12041.94</td><td>549.16</td><td>Mar-2019</td><td>Apr-2019</td><td>2024-08-10 16:27:...</td></tr>\n",
       "<tr><td>109320555</td><td>8204.9</td><td>1939.47</td><td>0.0</td><td>10144.37</td><td>483.52</td><td>Feb-2019</td><td>Apr-2019</td><td>2024-08-10 16:27:...</td></tr>\n",
       "<tr><td>58460868</td><td>2214.21</td><td>871.63</td><td>0.0</td><td>3085.84</td><td>140.67</td><td>Mar-2019</td><td>Apr-2019</td><td>2024-08-10 16:27:...</td></tr>\n",
       "</table>\n",
       "only showing top 20 rows\n"
      ],
      "text/plain": [
       "+---------+------------------------+-----------------------+-----------------------+----------------------+-------------------+-----------------+-----------------+--------------------+\n",
       "|  loan_id|total_principal_received|total_interest_received|total_late_fee_received|total_payment_received|last_payment_amount|last_payment_date|next_payment_date|         ingest_date|\n",
       "+---------+------------------------+-----------------------+-----------------------+----------------------+-------------------+-----------------+-----------------+--------------------+\n",
       "|109653473|                 8582.03|                4166.19|                    0.0|              12748.22|             198.22|         Nov-2018|         Apr-2019|2024-08-10 16:27:...|\n",
       "|109677516|                 7736.13|                2402.89|                    0.0|              10139.02|             482.57|         Mar-2019|         Apr-2019|2024-08-10 16:27:...|\n",
       "|109910042|                  4000.0|                  226.8|                    0.0|             4226.7983|            2994.33|         May-2018|             null|2024-08-10 16:27:...|\n",
       "|109767343|                16493.94|                6995.31|                    0.0|              23489.25|            1070.93|         Mar-2019|         Apr-2019|2024-08-10 16:27:...|\n",
       "|109858215|                 6407.11|                2345.53|                    0.0|               8752.64|             398.94|         Mar-2019|         Apr-2019|2024-08-10 16:27:...|\n",
       "|109740125|                 25100.0|                 555.41|                    0.0|             25655.408|           25711.26|         Jun-2017|             null|2024-08-10 16:27:...|\n",
       "|108257437|                  4800.0|                 433.18|                    0.0|             5233.1846|             115.71|         Mar-2019|             null|2024-08-10 16:27:...|\n",
       "|109898089|                 3086.26|                3155.35|                    0.0|               6241.61|             296.95|         Mar-2019|         Apr-2019|2024-08-10 16:27:...|\n",
       "|109253226|                 4254.25|                 3573.9|                    0.0|               7828.15|             357.25|         Mar-2019|         Apr-2019|2024-08-10 16:27:...|\n",
       "|109848461|                  6400.0|                  51.74|                    0.0|             6451.7383|             6461.0|         Jun-2017|             null|2024-08-10 16:27:...|\n",
       "|109878764|                 5671.77|                4685.86|                    0.0|              10357.63|             476.33|         Mar-2019|         Apr-2019|2024-08-10 16:27:...|\n",
       "|109994354|                 5858.28|                  932.1|                    0.0|               6790.38|              309.1|         Mar-2019|         Apr-2019|2024-08-10 16:27:...|\n",
       "|109759397|                 2698.64|                4248.07|                    0.0|               6946.71|             458.76|         Sep-2018|             null|2024-08-10 16:27:...|\n",
       "|109977107|                     0.0|                    0.0|                    0.0|                   0.0|                0.0|             null|             null|2024-08-10 16:27:...|\n",
       "|109880094|                  4000.0|                 233.55|                    0.0|              4233.553|            3001.08|         May-2018|             null|2024-08-10 16:27:...|\n",
       "|109062494|                12101.09|                3240.33|                    0.0|              18969.65|             1280.2|         Jun-2018|             null|2024-08-10 16:27:...|\n",
       "|109707717|                 4316.23|                1257.72|                    0.0|               5573.95|             265.68|         Feb-2019|         Apr-2019|2024-08-10 16:27:...|\n",
       "|109827365|                 8129.11|                3912.83|                    0.0|              12041.94|             549.16|         Mar-2019|         Apr-2019|2024-08-10 16:27:...|\n",
       "|109320555|                  8204.9|                1939.47|                    0.0|              10144.37|             483.52|         Feb-2019|         Apr-2019|2024-08-10 16:27:...|\n",
       "| 58460868|                 2214.21|                 871.63|                    0.0|               3085.84|             140.67|         Mar-2019|         Apr-2019|2024-08-10 16:27:...|\n",
       "+---------+------------------------+-----------------------+-----------------------+----------------------+-------------------+-----------------+-----------------+--------------------+\n",
       "only showing top 20 rows"
      ]
     },
     "execution_count": 7,
     "metadata": {},
     "output_type": "execute_result"
    }
   ],
   "source": [
    "loans_repay_df_ingestd"
   ]
  },
  {
   "cell_type": "markdown",
   "id": "ebb5f45d",
   "metadata": {},
   "source": [
    "## Dropping rows having null values"
   ]
  },
  {
   "cell_type": "code",
   "execution_count": 8,
   "id": "75c9a0c2",
   "metadata": {},
   "outputs": [],
   "source": [
    "loans_repay_df_ingestd.createOrReplaceTempView(\"loans_repayments\")"
   ]
  },
  {
   "cell_type": "code",
   "execution_count": 9,
   "id": "6f1cfc82",
   "metadata": {},
   "outputs": [
    {
     "data": {
      "text/html": [
       "<table border='1'>\n",
       "<tr><th>count(1)</th></tr>\n",
       "<tr><td>69</td></tr>\n",
       "</table>\n"
      ],
      "text/plain": [
       "+--------+\n",
       "|count(1)|\n",
       "+--------+\n",
       "|      69|\n",
       "+--------+"
      ]
     },
     "execution_count": 9,
     "metadata": {},
     "output_type": "execute_result"
    }
   ],
   "source": [
    "spark.sql(\"select count(*) from loans_repayments where total_principal_received is null\")"
   ]
  },
  {
   "cell_type": "code",
   "execution_count": 10,
   "id": "97e19994",
   "metadata": {},
   "outputs": [],
   "source": [
    "columns_to_check=[\"total_principal_received\",\"total_interest_received\",\"total_late_fee_received\",\"total_payment_received\",\"last_payment_amount\"]"
   ]
  },
  {
   "cell_type": "code",
   "execution_count": 14,
   "id": "fb6ffa99",
   "metadata": {},
   "outputs": [],
   "source": [
    "loan_repay_filtered_df = loans_repay_df_ingestd.na.drop(subset = columns_to_check)"
   ]
  },
  {
   "cell_type": "code",
   "execution_count": 15,
   "id": "2102c0e6",
   "metadata": {},
   "outputs": [
    {
     "data": {
      "text/plain": [
       "2260498"
      ]
     },
     "execution_count": 15,
     "metadata": {},
     "output_type": "execute_result"
    }
   ],
   "source": [
    "loan_repay_filtered_df.count()"
   ]
  },
  {
   "cell_type": "markdown",
   "id": "866dbb73",
   "metadata": {},
   "source": [
    "## Correcting the total_payment_received Column Where Value is 0"
   ]
  },
  {
   "cell_type": "code",
   "execution_count": 16,
   "id": "3bd6409b",
   "metadata": {},
   "outputs": [],
   "source": [
    "loan_repay_filtered_df.createOrReplaceTempView(\"loan_repayments\")"
   ]
  },
  {
   "cell_type": "code",
   "execution_count": 17,
   "id": "040a3a07",
   "metadata": {},
   "outputs": [
    {
     "data": {
      "text/html": [
       "<table border='1'>\n",
       "<tr><th>loan_id</th><th>total_principal_received</th><th>total_interest_received</th><th>total_late_fee_received</th><th>total_payment_received</th><th>last_payment_amount</th><th>last_payment_date</th><th>next_payment_date</th><th>ingest_date</th></tr>\n",
       "<tr><td>1064185</td><td>11600.98</td><td>11600.98</td><td>10000.0</td><td>0.0</td><td>0.0</td><td>0.0</td><td>Dec-2014</td><td>2024-08-10 16:28:...</td></tr>\n",
       "<tr><td>516382</td><td>21890.229</td><td>21856.03</td><td>16000.0</td><td>0.0</td><td>0.0</td><td>0.0</td><td>Mar-2014</td><td>2024-08-10 16:28:...</td></tr>\n",
       "<tr><td>528899</td><td>3045.0364</td><td>3019.64</td><td>2500.0</td><td>0.0</td><td>0.0</td><td>0.0</td><td>Jan-2013</td><td>2024-08-10 16:28:...</td></tr>\n",
       "<tr><td>527598</td><td>2398.9092</td><td>2220.51</td><td>2200.0</td><td>0.0</td><td>0.0</td><td>0.0</td><td>Jul-2011</td><td>2024-08-10 16:28:...</td></tr>\n",
       "<tr><td>525697</td><td>21797.86</td><td>19894.9</td><td>15750.0</td><td>0.0</td><td>0.0</td><td>0.0</td><td>Jun-2015</td><td>2024-08-10 16:28:...</td></tr>\n",
       "<tr><td>522641</td><td>3146.8193</td><td>3146.82</td><td>3000.0</td><td>0.0</td><td>0.0</td><td>0.0</td><td>Sep-2011</td><td>2024-08-10 16:28:...</td></tr>\n",
       "<tr><td>515655</td><td>29938.576</td><td>29905.75</td><td>22800.0</td><td>0.0</td><td>0.0</td><td>0.0</td><td>May-2013</td><td>2024-08-10 16:28:...</td></tr>\n",
       "<tr><td>501234</td><td>15219.313</td><td>15155.9</td><td>12000.0</td><td>0.0</td><td>0.0</td><td>0.0</td><td>May-2013</td><td>2024-08-10 16:28:...</td></tr>\n",
       "<tr><td>498194</td><td>11642.714</td><td>11031.47</td><td>10000.0</td><td>0.0</td><td>0.0</td><td>0.0</td><td>Jan-2013</td><td>2024-08-10 16:28:...</td></tr>\n",
       "<tr><td>495171</td><td>11138.843</td><td>10024.96</td><td>10000.0</td><td>0.0</td><td>0.0</td><td>0.0</td><td>Apr-2013</td><td>2024-08-10 16:28:...</td></tr>\n",
       "<tr><td>493508</td><td>28732.803</td><td>28495.83</td><td>24250.0</td><td>0.0</td><td>0.0</td><td>0.0</td><td>Apr-2013</td><td>2024-08-10 16:28:...</td></tr>\n",
       "<tr><td>485818</td><td>14640.096</td><td>13388.84</td><td>13000.0</td><td>0.0</td><td>0.0</td><td>0.0</td><td>Mar-2013</td><td>2024-08-10 16:28:...</td></tr>\n",
       "<tr><td>485471</td><td>29620.818</td><td>29134.64</td><td>25000.0</td><td>0.0</td><td>0.0</td><td>0.0</td><td>Mar-2013</td><td>2024-08-10 16:28:...</td></tr>\n",
       "<tr><td>482256</td><td>8735.611</td><td>7479.87</td><td>8000.0</td><td>0.0</td><td>0.0</td><td>0.0</td><td>Feb-2011</td><td>2024-08-10 16:28:...</td></tr>\n",
       "<tr><td>478160</td><td>410.0</td><td>407.36</td><td>0.0</td><td>0.0</td><td>143.1</td><td>410.0</td><td>null</td><td>2024-08-10 16:28:...</td></tr>\n",
       "<tr><td>476557</td><td>28865.18</td><td>24164.67</td><td>5692.31</td><td>0.0</td><td>6972.59</td><td>19916.78</td><td>Dec-2010</td><td>2024-08-10 16:28:...</td></tr>\n",
       "<tr><td>472516</td><td>25951.482</td><td>24731.76</td><td>25000.0</td><td>0.0</td><td>0.0</td><td>0.0</td><td>May-2010</td><td>2024-08-10 16:28:...</td></tr>\n",
       "<tr><td>472197</td><td>12048.13</td><td>12018.01</td><td>10000.0</td><td>0.0</td><td>0.0</td><td>0.0</td><td>Jan-2013</td><td>2024-08-10 16:28:...</td></tr>\n",
       "<tr><td>467364</td><td>29216.791</td><td>29066.19</td><td>24250.0</td><td>0.0</td><td>0.0</td><td>0.0</td><td>Dec-2012</td><td>2024-08-10 16:28:...</td></tr>\n",
       "<tr><td>399499</td><td>26557.729</td><td>26336.41</td><td>24000.0</td><td>0.0</td><td>0.0</td><td>0.0</td><td>Dec-2010</td><td>2024-08-10 16:28:...</td></tr>\n",
       "</table>\n",
       "only showing top 20 rows\n"
      ],
      "text/plain": [
       "+-------+------------------------+-----------------------+-----------------------+----------------------+-------------------+-----------------+-----------------+--------------------+\n",
       "|loan_id|total_principal_received|total_interest_received|total_late_fee_received|total_payment_received|last_payment_amount|last_payment_date|next_payment_date|         ingest_date|\n",
       "+-------+------------------------+-----------------------+-----------------------+----------------------+-------------------+-----------------+-----------------+--------------------+\n",
       "|1064185|                11600.98|               11600.98|                10000.0|                   0.0|                0.0|              0.0|         Dec-2014|2024-08-10 16:28:...|\n",
       "| 516382|               21890.229|               21856.03|                16000.0|                   0.0|                0.0|              0.0|         Mar-2014|2024-08-10 16:28:...|\n",
       "| 528899|               3045.0364|                3019.64|                 2500.0|                   0.0|                0.0|              0.0|         Jan-2013|2024-08-10 16:28:...|\n",
       "| 527598|               2398.9092|                2220.51|                 2200.0|                   0.0|                0.0|              0.0|         Jul-2011|2024-08-10 16:28:...|\n",
       "| 525697|                21797.86|                19894.9|                15750.0|                   0.0|                0.0|              0.0|         Jun-2015|2024-08-10 16:28:...|\n",
       "| 522641|               3146.8193|                3146.82|                 3000.0|                   0.0|                0.0|              0.0|         Sep-2011|2024-08-10 16:28:...|\n",
       "| 515655|               29938.576|               29905.75|                22800.0|                   0.0|                0.0|              0.0|         May-2013|2024-08-10 16:28:...|\n",
       "| 501234|               15219.313|                15155.9|                12000.0|                   0.0|                0.0|              0.0|         May-2013|2024-08-10 16:28:...|\n",
       "| 498194|               11642.714|               11031.47|                10000.0|                   0.0|                0.0|              0.0|         Jan-2013|2024-08-10 16:28:...|\n",
       "| 495171|               11138.843|               10024.96|                10000.0|                   0.0|                0.0|              0.0|         Apr-2013|2024-08-10 16:28:...|\n",
       "| 493508|               28732.803|               28495.83|                24250.0|                   0.0|                0.0|              0.0|         Apr-2013|2024-08-10 16:28:...|\n",
       "| 485818|               14640.096|               13388.84|                13000.0|                   0.0|                0.0|              0.0|         Mar-2013|2024-08-10 16:28:...|\n",
       "| 485471|               29620.818|               29134.64|                25000.0|                   0.0|                0.0|              0.0|         Mar-2013|2024-08-10 16:28:...|\n",
       "| 482256|                8735.611|                7479.87|                 8000.0|                   0.0|                0.0|              0.0|         Feb-2011|2024-08-10 16:28:...|\n",
       "| 478160|                   410.0|                 407.36|                    0.0|                   0.0|              143.1|            410.0|             null|2024-08-10 16:28:...|\n",
       "| 476557|                28865.18|               24164.67|                5692.31|                   0.0|            6972.59|         19916.78|         Dec-2010|2024-08-10 16:28:...|\n",
       "| 472516|               25951.482|               24731.76|                25000.0|                   0.0|                0.0|              0.0|         May-2010|2024-08-10 16:28:...|\n",
       "| 472197|                12048.13|               12018.01|                10000.0|                   0.0|                0.0|              0.0|         Jan-2013|2024-08-10 16:28:...|\n",
       "| 467364|               29216.791|               29066.19|                24250.0|                   0.0|                0.0|              0.0|         Dec-2012|2024-08-10 16:28:...|\n",
       "| 399499|               26557.729|               26336.41|                24000.0|                   0.0|                0.0|              0.0|         Dec-2010|2024-08-10 16:28:...|\n",
       "+-------+------------------------+-----------------------+-----------------------+----------------------+-------------------+-----------------+-----------------+--------------------+\n",
       "only showing top 20 rows"
      ]
     },
     "execution_count": 17,
     "metadata": {},
     "output_type": "execute_result"
    }
   ],
   "source": [
    "spark.sql(\"select * from loan_repayments where total_payment_received = 0.0 and total_principal_received != 0\")"
   ]
  },
  {
   "cell_type": "code",
   "execution_count": 18,
   "id": "d92af84f",
   "metadata": {},
   "outputs": [],
   "source": [
    "loans_payments_fixed_df = loan_repay_filtered_df.withColumn(\n",
    "    \"total_payment_received\", \n",
    "    when(\n",
    "         (col(\"total_principal_received\") != 0.0) &\n",
    "         (col (\"total_payment_received\") == 0.0),\n",
    "         col(\"total_principal_received\") + col(\"total_interest_received\") + col (\"total_late_fee_received\")\n",
    "    ).otherwise (col(\"total_payment_received\"))\n",
    ")"
   ]
  },
  {
   "cell_type": "code",
   "execution_count": 19,
   "id": "bd6863df",
   "metadata": {},
   "outputs": [
    {
     "data": {
      "text/html": [
       "<table border='1'>\n",
       "<tr><th>loan_id</th><th>total_principal_received</th><th>total_interest_received</th><th>total_late_fee_received</th><th>total_payment_received</th><th>last_payment_amount</th><th>last_payment_date</th><th>next_payment_date</th><th>ingest_date</th></tr>\n",
       "<tr><td>109653473</td><td>8582.03</td><td>4166.19</td><td>0.0</td><td>12748.22</td><td>198.22</td><td>Nov-2018</td><td>Apr-2019</td><td>2024-08-10 16:28:...</td></tr>\n",
       "<tr><td>109677516</td><td>7736.13</td><td>2402.89</td><td>0.0</td><td>10139.02</td><td>482.57</td><td>Mar-2019</td><td>Apr-2019</td><td>2024-08-10 16:28:...</td></tr>\n",
       "<tr><td>109910042</td><td>4000.0</td><td>226.8</td><td>0.0</td><td>4226.7983</td><td>2994.33</td><td>May-2018</td><td>null</td><td>2024-08-10 16:28:...</td></tr>\n",
       "<tr><td>109767343</td><td>16493.94</td><td>6995.31</td><td>0.0</td><td>23489.25</td><td>1070.93</td><td>Mar-2019</td><td>Apr-2019</td><td>2024-08-10 16:28:...</td></tr>\n",
       "<tr><td>109858215</td><td>6407.11</td><td>2345.53</td><td>0.0</td><td>8752.64</td><td>398.94</td><td>Mar-2019</td><td>Apr-2019</td><td>2024-08-10 16:28:...</td></tr>\n",
       "<tr><td>109740125</td><td>25100.0</td><td>555.41</td><td>0.0</td><td>25655.408</td><td>25711.26</td><td>Jun-2017</td><td>null</td><td>2024-08-10 16:28:...</td></tr>\n",
       "<tr><td>108257437</td><td>4800.0</td><td>433.18</td><td>0.0</td><td>5233.1846</td><td>115.71</td><td>Mar-2019</td><td>null</td><td>2024-08-10 16:28:...</td></tr>\n",
       "<tr><td>109898089</td><td>3086.26</td><td>3155.35</td><td>0.0</td><td>6241.61</td><td>296.95</td><td>Mar-2019</td><td>Apr-2019</td><td>2024-08-10 16:28:...</td></tr>\n",
       "<tr><td>109253226</td><td>4254.25</td><td>3573.9</td><td>0.0</td><td>7828.15</td><td>357.25</td><td>Mar-2019</td><td>Apr-2019</td><td>2024-08-10 16:28:...</td></tr>\n",
       "<tr><td>109848461</td><td>6400.0</td><td>51.74</td><td>0.0</td><td>6451.7383</td><td>6461.0</td><td>Jun-2017</td><td>null</td><td>2024-08-10 16:28:...</td></tr>\n",
       "<tr><td>109878764</td><td>5671.77</td><td>4685.86</td><td>0.0</td><td>10357.63</td><td>476.33</td><td>Mar-2019</td><td>Apr-2019</td><td>2024-08-10 16:28:...</td></tr>\n",
       "<tr><td>109994354</td><td>5858.28</td><td>932.1</td><td>0.0</td><td>6790.38</td><td>309.1</td><td>Mar-2019</td><td>Apr-2019</td><td>2024-08-10 16:28:...</td></tr>\n",
       "<tr><td>109759397</td><td>2698.64</td><td>4248.07</td><td>0.0</td><td>6946.71</td><td>458.76</td><td>Sep-2018</td><td>null</td><td>2024-08-10 16:28:...</td></tr>\n",
       "<tr><td>109977107</td><td>0.0</td><td>0.0</td><td>0.0</td><td>0.0</td><td>0.0</td><td>null</td><td>null</td><td>2024-08-10 16:28:...</td></tr>\n",
       "<tr><td>109880094</td><td>4000.0</td><td>233.55</td><td>0.0</td><td>4233.553</td><td>3001.08</td><td>May-2018</td><td>null</td><td>2024-08-10 16:28:...</td></tr>\n",
       "<tr><td>109062494</td><td>12101.09</td><td>3240.33</td><td>0.0</td><td>18969.65</td><td>1280.2</td><td>Jun-2018</td><td>null</td><td>2024-08-10 16:28:...</td></tr>\n",
       "<tr><td>109707717</td><td>4316.23</td><td>1257.72</td><td>0.0</td><td>5573.95</td><td>265.68</td><td>Feb-2019</td><td>Apr-2019</td><td>2024-08-10 16:28:...</td></tr>\n",
       "<tr><td>109827365</td><td>8129.11</td><td>3912.83</td><td>0.0</td><td>12041.94</td><td>549.16</td><td>Mar-2019</td><td>Apr-2019</td><td>2024-08-10 16:28:...</td></tr>\n",
       "<tr><td>109320555</td><td>8204.9</td><td>1939.47</td><td>0.0</td><td>10144.37</td><td>483.52</td><td>Feb-2019</td><td>Apr-2019</td><td>2024-08-10 16:28:...</td></tr>\n",
       "<tr><td>58460868</td><td>2214.21</td><td>871.63</td><td>0.0</td><td>3085.84</td><td>140.67</td><td>Mar-2019</td><td>Apr-2019</td><td>2024-08-10 16:28:...</td></tr>\n",
       "</table>\n",
       "only showing top 20 rows\n"
      ],
      "text/plain": [
       "+---------+------------------------+-----------------------+-----------------------+----------------------+-------------------+-----------------+-----------------+--------------------+\n",
       "|  loan_id|total_principal_received|total_interest_received|total_late_fee_received|total_payment_received|last_payment_amount|last_payment_date|next_payment_date|         ingest_date|\n",
       "+---------+------------------------+-----------------------+-----------------------+----------------------+-------------------+-----------------+-----------------+--------------------+\n",
       "|109653473|                 8582.03|                4166.19|                    0.0|              12748.22|             198.22|         Nov-2018|         Apr-2019|2024-08-10 16:28:...|\n",
       "|109677516|                 7736.13|                2402.89|                    0.0|              10139.02|             482.57|         Mar-2019|         Apr-2019|2024-08-10 16:28:...|\n",
       "|109910042|                  4000.0|                  226.8|                    0.0|             4226.7983|            2994.33|         May-2018|             null|2024-08-10 16:28:...|\n",
       "|109767343|                16493.94|                6995.31|                    0.0|              23489.25|            1070.93|         Mar-2019|         Apr-2019|2024-08-10 16:28:...|\n",
       "|109858215|                 6407.11|                2345.53|                    0.0|               8752.64|             398.94|         Mar-2019|         Apr-2019|2024-08-10 16:28:...|\n",
       "|109740125|                 25100.0|                 555.41|                    0.0|             25655.408|           25711.26|         Jun-2017|             null|2024-08-10 16:28:...|\n",
       "|108257437|                  4800.0|                 433.18|                    0.0|             5233.1846|             115.71|         Mar-2019|             null|2024-08-10 16:28:...|\n",
       "|109898089|                 3086.26|                3155.35|                    0.0|               6241.61|             296.95|         Mar-2019|         Apr-2019|2024-08-10 16:28:...|\n",
       "|109253226|                 4254.25|                 3573.9|                    0.0|               7828.15|             357.25|         Mar-2019|         Apr-2019|2024-08-10 16:28:...|\n",
       "|109848461|                  6400.0|                  51.74|                    0.0|             6451.7383|             6461.0|         Jun-2017|             null|2024-08-10 16:28:...|\n",
       "|109878764|                 5671.77|                4685.86|                    0.0|              10357.63|             476.33|         Mar-2019|         Apr-2019|2024-08-10 16:28:...|\n",
       "|109994354|                 5858.28|                  932.1|                    0.0|               6790.38|              309.1|         Mar-2019|         Apr-2019|2024-08-10 16:28:...|\n",
       "|109759397|                 2698.64|                4248.07|                    0.0|               6946.71|             458.76|         Sep-2018|             null|2024-08-10 16:28:...|\n",
       "|109977107|                     0.0|                    0.0|                    0.0|                   0.0|                0.0|             null|             null|2024-08-10 16:28:...|\n",
       "|109880094|                  4000.0|                 233.55|                    0.0|              4233.553|            3001.08|         May-2018|             null|2024-08-10 16:28:...|\n",
       "|109062494|                12101.09|                3240.33|                    0.0|              18969.65|             1280.2|         Jun-2018|             null|2024-08-10 16:28:...|\n",
       "|109707717|                 4316.23|                1257.72|                    0.0|               5573.95|             265.68|         Feb-2019|         Apr-2019|2024-08-10 16:28:...|\n",
       "|109827365|                 8129.11|                3912.83|                    0.0|              12041.94|             549.16|         Mar-2019|         Apr-2019|2024-08-10 16:28:...|\n",
       "|109320555|                  8204.9|                1939.47|                    0.0|              10144.37|             483.52|         Feb-2019|         Apr-2019|2024-08-10 16:28:...|\n",
       "| 58460868|                 2214.21|                 871.63|                    0.0|               3085.84|             140.67|         Mar-2019|         Apr-2019|2024-08-10 16:28:...|\n",
       "+---------+------------------------+-----------------------+-----------------------+----------------------+-------------------+-----------------+-----------------+--------------------+\n",
       "only showing top 20 rows"
      ]
     },
     "execution_count": 19,
     "metadata": {},
     "output_type": "execute_result"
    }
   ],
   "source": [
    "loans_payments_fixed_df"
   ]
  },
  {
   "cell_type": "markdown",
   "id": "4818c275",
   "metadata": {},
   "source": [
    "## Removing Rows where total_payment received is still 0"
   ]
  },
  {
   "cell_type": "code",
   "execution_count": 20,
   "id": "1807a8cd",
   "metadata": {},
   "outputs": [],
   "source": [
    "loans_payments = loans_payments_fixed_df.filter(\"total_payment_received != 0.0\")"
   ]
  },
  {
   "cell_type": "code",
   "execution_count": 21,
   "id": "85fced72",
   "metadata": {},
   "outputs": [
    {
     "data": {
      "text/html": [
       "<table border='1'>\n",
       "<tr><th>loan_id</th><th>total_principal_received</th><th>total_interest_received</th><th>total_late_fee_received</th><th>total_payment_received</th><th>last_payment_amount</th><th>last_payment_date</th><th>next_payment_date</th><th>ingest_date</th></tr>\n",
       "<tr><td>109653473</td><td>8582.03</td><td>4166.19</td><td>0.0</td><td>12748.22</td><td>198.22</td><td>Nov-2018</td><td>Apr-2019</td><td>2024-08-10 16:28:...</td></tr>\n",
       "<tr><td>109677516</td><td>7736.13</td><td>2402.89</td><td>0.0</td><td>10139.02</td><td>482.57</td><td>Mar-2019</td><td>Apr-2019</td><td>2024-08-10 16:28:...</td></tr>\n",
       "<tr><td>109910042</td><td>4000.0</td><td>226.8</td><td>0.0</td><td>4226.7983</td><td>2994.33</td><td>May-2018</td><td>null</td><td>2024-08-10 16:28:...</td></tr>\n",
       "<tr><td>109767343</td><td>16493.94</td><td>6995.31</td><td>0.0</td><td>23489.25</td><td>1070.93</td><td>Mar-2019</td><td>Apr-2019</td><td>2024-08-10 16:28:...</td></tr>\n",
       "<tr><td>109858215</td><td>6407.11</td><td>2345.53</td><td>0.0</td><td>8752.64</td><td>398.94</td><td>Mar-2019</td><td>Apr-2019</td><td>2024-08-10 16:28:...</td></tr>\n",
       "<tr><td>109740125</td><td>25100.0</td><td>555.41</td><td>0.0</td><td>25655.408</td><td>25711.26</td><td>Jun-2017</td><td>null</td><td>2024-08-10 16:28:...</td></tr>\n",
       "<tr><td>108257437</td><td>4800.0</td><td>433.18</td><td>0.0</td><td>5233.1846</td><td>115.71</td><td>Mar-2019</td><td>null</td><td>2024-08-10 16:28:...</td></tr>\n",
       "<tr><td>109898089</td><td>3086.26</td><td>3155.35</td><td>0.0</td><td>6241.61</td><td>296.95</td><td>Mar-2019</td><td>Apr-2019</td><td>2024-08-10 16:28:...</td></tr>\n",
       "<tr><td>109253226</td><td>4254.25</td><td>3573.9</td><td>0.0</td><td>7828.15</td><td>357.25</td><td>Mar-2019</td><td>Apr-2019</td><td>2024-08-10 16:28:...</td></tr>\n",
       "<tr><td>109848461</td><td>6400.0</td><td>51.74</td><td>0.0</td><td>6451.7383</td><td>6461.0</td><td>Jun-2017</td><td>null</td><td>2024-08-10 16:28:...</td></tr>\n",
       "<tr><td>109878764</td><td>5671.77</td><td>4685.86</td><td>0.0</td><td>10357.63</td><td>476.33</td><td>Mar-2019</td><td>Apr-2019</td><td>2024-08-10 16:28:...</td></tr>\n",
       "<tr><td>109994354</td><td>5858.28</td><td>932.1</td><td>0.0</td><td>6790.38</td><td>309.1</td><td>Mar-2019</td><td>Apr-2019</td><td>2024-08-10 16:28:...</td></tr>\n",
       "<tr><td>109759397</td><td>2698.64</td><td>4248.07</td><td>0.0</td><td>6946.71</td><td>458.76</td><td>Sep-2018</td><td>null</td><td>2024-08-10 16:28:...</td></tr>\n",
       "<tr><td>109880094</td><td>4000.0</td><td>233.55</td><td>0.0</td><td>4233.553</td><td>3001.08</td><td>May-2018</td><td>null</td><td>2024-08-10 16:28:...</td></tr>\n",
       "<tr><td>109062494</td><td>12101.09</td><td>3240.33</td><td>0.0</td><td>18969.65</td><td>1280.2</td><td>Jun-2018</td><td>null</td><td>2024-08-10 16:28:...</td></tr>\n",
       "<tr><td>109707717</td><td>4316.23</td><td>1257.72</td><td>0.0</td><td>5573.95</td><td>265.68</td><td>Feb-2019</td><td>Apr-2019</td><td>2024-08-10 16:28:...</td></tr>\n",
       "<tr><td>109827365</td><td>8129.11</td><td>3912.83</td><td>0.0</td><td>12041.94</td><td>549.16</td><td>Mar-2019</td><td>Apr-2019</td><td>2024-08-10 16:28:...</td></tr>\n",
       "<tr><td>109320555</td><td>8204.9</td><td>1939.47</td><td>0.0</td><td>10144.37</td><td>483.52</td><td>Feb-2019</td><td>Apr-2019</td><td>2024-08-10 16:28:...</td></tr>\n",
       "<tr><td>58460868</td><td>2214.21</td><td>871.63</td><td>0.0</td><td>3085.84</td><td>140.67</td><td>Mar-2019</td><td>Apr-2019</td><td>2024-08-10 16:28:...</td></tr>\n",
       "<tr><td>109818658</td><td>3225.84</td><td>4440.79</td><td>0.0</td><td>7666.63</td><td>350.22</td><td>Mar-2019</td><td>Apr-2019</td><td>2024-08-10 16:28:...</td></tr>\n",
       "</table>\n",
       "only showing top 20 rows\n"
      ],
      "text/plain": [
       "+---------+------------------------+-----------------------+-----------------------+----------------------+-------------------+-----------------+-----------------+--------------------+\n",
       "|  loan_id|total_principal_received|total_interest_received|total_late_fee_received|total_payment_received|last_payment_amount|last_payment_date|next_payment_date|         ingest_date|\n",
       "+---------+------------------------+-----------------------+-----------------------+----------------------+-------------------+-----------------+-----------------+--------------------+\n",
       "|109653473|                 8582.03|                4166.19|                    0.0|              12748.22|             198.22|         Nov-2018|         Apr-2019|2024-08-10 16:28:...|\n",
       "|109677516|                 7736.13|                2402.89|                    0.0|              10139.02|             482.57|         Mar-2019|         Apr-2019|2024-08-10 16:28:...|\n",
       "|109910042|                  4000.0|                  226.8|                    0.0|             4226.7983|            2994.33|         May-2018|             null|2024-08-10 16:28:...|\n",
       "|109767343|                16493.94|                6995.31|                    0.0|              23489.25|            1070.93|         Mar-2019|         Apr-2019|2024-08-10 16:28:...|\n",
       "|109858215|                 6407.11|                2345.53|                    0.0|               8752.64|             398.94|         Mar-2019|         Apr-2019|2024-08-10 16:28:...|\n",
       "|109740125|                 25100.0|                 555.41|                    0.0|             25655.408|           25711.26|         Jun-2017|             null|2024-08-10 16:28:...|\n",
       "|108257437|                  4800.0|                 433.18|                    0.0|             5233.1846|             115.71|         Mar-2019|             null|2024-08-10 16:28:...|\n",
       "|109898089|                 3086.26|                3155.35|                    0.0|               6241.61|             296.95|         Mar-2019|         Apr-2019|2024-08-10 16:28:...|\n",
       "|109253226|                 4254.25|                 3573.9|                    0.0|               7828.15|             357.25|         Mar-2019|         Apr-2019|2024-08-10 16:28:...|\n",
       "|109848461|                  6400.0|                  51.74|                    0.0|             6451.7383|             6461.0|         Jun-2017|             null|2024-08-10 16:28:...|\n",
       "|109878764|                 5671.77|                4685.86|                    0.0|              10357.63|             476.33|         Mar-2019|         Apr-2019|2024-08-10 16:28:...|\n",
       "|109994354|                 5858.28|                  932.1|                    0.0|               6790.38|              309.1|         Mar-2019|         Apr-2019|2024-08-10 16:28:...|\n",
       "|109759397|                 2698.64|                4248.07|                    0.0|               6946.71|             458.76|         Sep-2018|             null|2024-08-10 16:28:...|\n",
       "|109880094|                  4000.0|                 233.55|                    0.0|              4233.553|            3001.08|         May-2018|             null|2024-08-10 16:28:...|\n",
       "|109062494|                12101.09|                3240.33|                    0.0|              18969.65|             1280.2|         Jun-2018|             null|2024-08-10 16:28:...|\n",
       "|109707717|                 4316.23|                1257.72|                    0.0|               5573.95|             265.68|         Feb-2019|         Apr-2019|2024-08-10 16:28:...|\n",
       "|109827365|                 8129.11|                3912.83|                    0.0|              12041.94|             549.16|         Mar-2019|         Apr-2019|2024-08-10 16:28:...|\n",
       "|109320555|                  8204.9|                1939.47|                    0.0|              10144.37|             483.52|         Feb-2019|         Apr-2019|2024-08-10 16:28:...|\n",
       "| 58460868|                 2214.21|                 871.63|                    0.0|               3085.84|             140.67|         Mar-2019|         Apr-2019|2024-08-10 16:28:...|\n",
       "|109818658|                 3225.84|                4440.79|                    0.0|               7666.63|             350.22|         Mar-2019|         Apr-2019|2024-08-10 16:28:...|\n",
       "+---------+------------------------+-----------------------+-----------------------+----------------------+-------------------+-----------------+-----------------+--------------------+\n",
       "only showing top 20 rows"
      ]
     },
     "execution_count": 21,
     "metadata": {},
     "output_type": "execute_result"
    }
   ],
   "source": [
    "loans_payments"
   ]
  },
  {
   "cell_type": "markdown",
   "id": "f8a6154d",
   "metadata": {},
   "source": [
    "## Writing None in last_payment_date and next_payment_date where value is 0"
   ]
  },
  {
   "cell_type": "code",
   "execution_count": 22,
   "id": "8a35dc60",
   "metadata": {},
   "outputs": [
    {
     "data": {
      "text/plain": [
       "48"
      ]
     },
     "execution_count": 22,
     "metadata": {},
     "output_type": "execute_result"
    }
   ],
   "source": [
    "loans_payments.filter(\"last_payment_date=0.0\").count()"
   ]
  },
  {
   "cell_type": "code",
   "execution_count": 23,
   "id": "a1de1aa6",
   "metadata": {},
   "outputs": [
    {
     "data": {
      "text/plain": [
       "24"
      ]
     },
     "execution_count": 23,
     "metadata": {},
     "output_type": "execute_result"
    }
   ],
   "source": [
    "loans_payments.filter(\"next_payment_date=0.0\").count()"
   ]
  },
  {
   "cell_type": "code",
   "execution_count": 35,
   "id": "563fc63f",
   "metadata": {},
   "outputs": [
    {
     "data": {
      "text/plain": [
       "1477"
      ]
     },
     "execution_count": 35,
     "metadata": {},
     "output_type": "execute_result"
    }
   ],
   "source": [
    "loans_payments.filter(\"last_payment_date is null\").count()"
   ]
  },
  {
   "cell_type": "code",
   "execution_count": 36,
   "id": "b21caf20",
   "metadata": {},
   "outputs": [
    {
     "data": {
      "text/plain": [
       "1344240"
      ]
     },
     "execution_count": 36,
     "metadata": {},
     "output_type": "execute_result"
    }
   ],
   "source": [
    "loans_payments.filter(\"next_payment_date is null\").count()"
   ]
  },
  {
   "cell_type": "code",
   "execution_count": 24,
   "id": "5c990c0b",
   "metadata": {},
   "outputs": [],
   "source": [
    "loans_payments_date_fixed_df=loans_payments \\\n",
    ".withColumn(\"last_payment_date\",\n",
    "            when(\n",
    "                (col(\"last_payment_date\")==0.0),None).otherwise(col(\"last_payment_date\")\n",
    "                )\n",
    "           ) \\\n",
    ".withColumn(\"next_payment_date\",\n",
    "            when(\n",
    "                (col(\"next_payment_date\")==0.0),None).otherwise(col(\"next_payment_date\")\n",
    "                )\n",
    "           )"
   ]
  },
  {
   "cell_type": "code",
   "execution_count": 25,
   "id": "b56b2e70",
   "metadata": {},
   "outputs": [
    {
     "data": {
      "text/html": [
       "<table border='1'>\n",
       "<tr><th>loan_id</th><th>total_principal_received</th><th>total_interest_received</th><th>total_late_fee_received</th><th>total_payment_received</th><th>last_payment_amount</th><th>last_payment_date</th><th>next_payment_date</th><th>ingest_date</th></tr>\n",
       "<tr><td>109653473</td><td>8582.03</td><td>4166.19</td><td>0.0</td><td>12748.22</td><td>198.22</td><td>Nov-2018</td><td>Apr-2019</td><td>2024-08-10 16:29:...</td></tr>\n",
       "<tr><td>109677516</td><td>7736.13</td><td>2402.89</td><td>0.0</td><td>10139.02</td><td>482.57</td><td>Mar-2019</td><td>Apr-2019</td><td>2024-08-10 16:29:...</td></tr>\n",
       "<tr><td>109910042</td><td>4000.0</td><td>226.8</td><td>0.0</td><td>4226.7983</td><td>2994.33</td><td>May-2018</td><td>null</td><td>2024-08-10 16:29:...</td></tr>\n",
       "<tr><td>109767343</td><td>16493.94</td><td>6995.31</td><td>0.0</td><td>23489.25</td><td>1070.93</td><td>Mar-2019</td><td>Apr-2019</td><td>2024-08-10 16:29:...</td></tr>\n",
       "<tr><td>109858215</td><td>6407.11</td><td>2345.53</td><td>0.0</td><td>8752.64</td><td>398.94</td><td>Mar-2019</td><td>Apr-2019</td><td>2024-08-10 16:29:...</td></tr>\n",
       "<tr><td>109740125</td><td>25100.0</td><td>555.41</td><td>0.0</td><td>25655.408</td><td>25711.26</td><td>Jun-2017</td><td>null</td><td>2024-08-10 16:29:...</td></tr>\n",
       "<tr><td>108257437</td><td>4800.0</td><td>433.18</td><td>0.0</td><td>5233.1846</td><td>115.71</td><td>Mar-2019</td><td>null</td><td>2024-08-10 16:29:...</td></tr>\n",
       "<tr><td>109898089</td><td>3086.26</td><td>3155.35</td><td>0.0</td><td>6241.61</td><td>296.95</td><td>Mar-2019</td><td>Apr-2019</td><td>2024-08-10 16:29:...</td></tr>\n",
       "<tr><td>109253226</td><td>4254.25</td><td>3573.9</td><td>0.0</td><td>7828.15</td><td>357.25</td><td>Mar-2019</td><td>Apr-2019</td><td>2024-08-10 16:29:...</td></tr>\n",
       "<tr><td>109848461</td><td>6400.0</td><td>51.74</td><td>0.0</td><td>6451.7383</td><td>6461.0</td><td>Jun-2017</td><td>null</td><td>2024-08-10 16:29:...</td></tr>\n",
       "<tr><td>109878764</td><td>5671.77</td><td>4685.86</td><td>0.0</td><td>10357.63</td><td>476.33</td><td>Mar-2019</td><td>Apr-2019</td><td>2024-08-10 16:29:...</td></tr>\n",
       "<tr><td>109994354</td><td>5858.28</td><td>932.1</td><td>0.0</td><td>6790.38</td><td>309.1</td><td>Mar-2019</td><td>Apr-2019</td><td>2024-08-10 16:29:...</td></tr>\n",
       "<tr><td>109759397</td><td>2698.64</td><td>4248.07</td><td>0.0</td><td>6946.71</td><td>458.76</td><td>Sep-2018</td><td>null</td><td>2024-08-10 16:29:...</td></tr>\n",
       "<tr><td>109880094</td><td>4000.0</td><td>233.55</td><td>0.0</td><td>4233.553</td><td>3001.08</td><td>May-2018</td><td>null</td><td>2024-08-10 16:29:...</td></tr>\n",
       "<tr><td>109062494</td><td>12101.09</td><td>3240.33</td><td>0.0</td><td>18969.65</td><td>1280.2</td><td>Jun-2018</td><td>null</td><td>2024-08-10 16:29:...</td></tr>\n",
       "<tr><td>109707717</td><td>4316.23</td><td>1257.72</td><td>0.0</td><td>5573.95</td><td>265.68</td><td>Feb-2019</td><td>Apr-2019</td><td>2024-08-10 16:29:...</td></tr>\n",
       "<tr><td>109827365</td><td>8129.11</td><td>3912.83</td><td>0.0</td><td>12041.94</td><td>549.16</td><td>Mar-2019</td><td>Apr-2019</td><td>2024-08-10 16:29:...</td></tr>\n",
       "<tr><td>109320555</td><td>8204.9</td><td>1939.47</td><td>0.0</td><td>10144.37</td><td>483.52</td><td>Feb-2019</td><td>Apr-2019</td><td>2024-08-10 16:29:...</td></tr>\n",
       "<tr><td>58460868</td><td>2214.21</td><td>871.63</td><td>0.0</td><td>3085.84</td><td>140.67</td><td>Mar-2019</td><td>Apr-2019</td><td>2024-08-10 16:29:...</td></tr>\n",
       "<tr><td>109818658</td><td>3225.84</td><td>4440.79</td><td>0.0</td><td>7666.63</td><td>350.22</td><td>Mar-2019</td><td>Apr-2019</td><td>2024-08-10 16:29:...</td></tr>\n",
       "</table>\n",
       "only showing top 20 rows\n"
      ],
      "text/plain": [
       "+---------+------------------------+-----------------------+-----------------------+----------------------+-------------------+-----------------+-----------------+--------------------+\n",
       "|  loan_id|total_principal_received|total_interest_received|total_late_fee_received|total_payment_received|last_payment_amount|last_payment_date|next_payment_date|         ingest_date|\n",
       "+---------+------------------------+-----------------------+-----------------------+----------------------+-------------------+-----------------+-----------------+--------------------+\n",
       "|109653473|                 8582.03|                4166.19|                    0.0|              12748.22|             198.22|         Nov-2018|         Apr-2019|2024-08-10 16:29:...|\n",
       "|109677516|                 7736.13|                2402.89|                    0.0|              10139.02|             482.57|         Mar-2019|         Apr-2019|2024-08-10 16:29:...|\n",
       "|109910042|                  4000.0|                  226.8|                    0.0|             4226.7983|            2994.33|         May-2018|             null|2024-08-10 16:29:...|\n",
       "|109767343|                16493.94|                6995.31|                    0.0|              23489.25|            1070.93|         Mar-2019|         Apr-2019|2024-08-10 16:29:...|\n",
       "|109858215|                 6407.11|                2345.53|                    0.0|               8752.64|             398.94|         Mar-2019|         Apr-2019|2024-08-10 16:29:...|\n",
       "|109740125|                 25100.0|                 555.41|                    0.0|             25655.408|           25711.26|         Jun-2017|             null|2024-08-10 16:29:...|\n",
       "|108257437|                  4800.0|                 433.18|                    0.0|             5233.1846|             115.71|         Mar-2019|             null|2024-08-10 16:29:...|\n",
       "|109898089|                 3086.26|                3155.35|                    0.0|               6241.61|             296.95|         Mar-2019|         Apr-2019|2024-08-10 16:29:...|\n",
       "|109253226|                 4254.25|                 3573.9|                    0.0|               7828.15|             357.25|         Mar-2019|         Apr-2019|2024-08-10 16:29:...|\n",
       "|109848461|                  6400.0|                  51.74|                    0.0|             6451.7383|             6461.0|         Jun-2017|             null|2024-08-10 16:29:...|\n",
       "|109878764|                 5671.77|                4685.86|                    0.0|              10357.63|             476.33|         Mar-2019|         Apr-2019|2024-08-10 16:29:...|\n",
       "|109994354|                 5858.28|                  932.1|                    0.0|               6790.38|              309.1|         Mar-2019|         Apr-2019|2024-08-10 16:29:...|\n",
       "|109759397|                 2698.64|                4248.07|                    0.0|               6946.71|             458.76|         Sep-2018|             null|2024-08-10 16:29:...|\n",
       "|109880094|                  4000.0|                 233.55|                    0.0|              4233.553|            3001.08|         May-2018|             null|2024-08-10 16:29:...|\n",
       "|109062494|                12101.09|                3240.33|                    0.0|              18969.65|             1280.2|         Jun-2018|             null|2024-08-10 16:29:...|\n",
       "|109707717|                 4316.23|                1257.72|                    0.0|               5573.95|             265.68|         Feb-2019|         Apr-2019|2024-08-10 16:29:...|\n",
       "|109827365|                 8129.11|                3912.83|                    0.0|              12041.94|             549.16|         Mar-2019|         Apr-2019|2024-08-10 16:29:...|\n",
       "|109320555|                  8204.9|                1939.47|                    0.0|              10144.37|             483.52|         Feb-2019|         Apr-2019|2024-08-10 16:29:...|\n",
       "| 58460868|                 2214.21|                 871.63|                    0.0|               3085.84|             140.67|         Mar-2019|         Apr-2019|2024-08-10 16:29:...|\n",
       "|109818658|                 3225.84|                4440.79|                    0.0|               7666.63|             350.22|         Mar-2019|         Apr-2019|2024-08-10 16:29:...|\n",
       "+---------+------------------------+-----------------------+-----------------------+----------------------+-------------------+-----------------+-----------------+--------------------+\n",
       "only showing top 20 rows"
      ]
     },
     "execution_count": 25,
     "metadata": {},
     "output_type": "execute_result"
    }
   ],
   "source": [
    "loans_payments_date_fixed_df"
   ]
  },
  {
   "cell_type": "markdown",
   "id": "853623a2",
   "metadata": {},
   "source": [
    "## Writing the data back to hdfs in parquet and csv format for further use"
   ]
  },
  {
   "cell_type": "code",
   "execution_count": 27,
   "id": "deb0e113",
   "metadata": {},
   "outputs": [],
   "source": [
    "loans_payments_date_fixed_df.write \\\n",
    ".option(\"header\", True) \\\n",
    ".format(\"csv\") \\\n",
    ".mode(\"overwrite\") \\\n",
    ".option(\"path\", \"/user/itv012713/lendingclubproject/clean_data/loans_repayments_cleaned_csv\").save()"
   ]
  },
  {
   "cell_type": "code",
   "execution_count": 28,
   "id": "edb7712e",
   "metadata": {},
   "outputs": [],
   "source": [
    "loans_payments_date_fixed_df.write \\\n",
    ".option(\"header\", True) \\\n",
    ".format(\"parquet\") \\\n",
    ".mode(\"overwrite\") \\\n",
    ".option(\"path\", \"/user/itv012713/lendingclubproject/clean_data/loans_repayments_cleaned\").save()"
   ]
  },
  {
   "cell_type": "code",
   "execution_count": null,
   "id": "97e823b6",
   "metadata": {},
   "outputs": [],
   "source": []
  }
 ],
 "metadata": {
  "kernelspec": {
   "display_name": "Pyspark 3",
   "language": "python",
   "name": "pyspark3"
  },
  "language_info": {
   "codemirror_mode": {
    "name": "ipython",
    "version": 3
   },
   "file_extension": ".py",
   "mimetype": "text/x-python",
   "name": "python",
   "nbconvert_exporter": "python",
   "pygments_lexer": "ipython3",
   "version": "3.6.12"
  }
 },
 "nbformat": 4,
 "nbformat_minor": 5
}
