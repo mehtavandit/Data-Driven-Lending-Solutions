{
 "cells": [
  {
   "cell_type": "code",
   "execution_count": 1,
   "id": "dd10a18c",
   "metadata": {},
   "outputs": [],
   "source": [
    "from pyspark.sql import SparkSession\n",
    "spark=SparkSession.\\\n",
    "builder.\\\n",
    "config('spark.shuffle.useOldFetchProtocol','true').\\\n",
    "config('spark.ui.port','0').\\\n",
    "config(\"spark.sql.warehouse.dir\",\"/user/itv012713/warehouse\").\\\n",
    "enableHiveSupport().\\\n",
    "master('yarn').\\\n",
    "getOrCreate()\n",
    "\n"
   ]
  },
  {
   "cell_type": "markdown",
   "id": "cefa48b4",
   "metadata": {},
   "source": [
    "## Checking for same member_id coming multiple times in different tables"
   ]
  },
  {
   "cell_type": "code",
   "execution_count": 3,
   "id": "470c2785",
   "metadata": {},
   "outputs": [
    {
     "data": {
      "text/html": [
       "<table border='1'>\n",
       "<tr><th>member_id</th><th>total</th></tr>\n",
       "<tr><td>e4c167053d5418230...</td><td>5</td></tr>\n",
       "<tr><td>ad8e5d384dae17e06...</td><td>4</td></tr>\n",
       "<tr><td>76b577467eda5bdbc...</td><td>4</td></tr>\n",
       "<tr><td>3f87585a20f702838...</td><td>4</td></tr>\n",
       "<tr><td>a2356725aa9da92c6...</td><td>3</td></tr>\n",
       "<tr><td>22593a1870543b2db...</td><td>3</td></tr>\n",
       "<tr><td>13d0e1fae89e5e7e4...</td><td>3</td></tr>\n",
       "<tr><td>059d401bb603d9a80...</td><td>3</td></tr>\n",
       "<tr><td>291ca1b09ef11ca3e...</td><td>3</td></tr>\n",
       "<tr><td>d3731bad3e6a82515...</td><td>3</td></tr>\n",
       "<tr><td>d9ce4046daf599732...</td><td>3</td></tr>\n",
       "<tr><td>066ddaa64bee66dff...</td><td>3</td></tr>\n",
       "<tr><td>f54295a60946dedad...</td><td>3</td></tr>\n",
       "<tr><td>e7d8d16928817ec8f...</td><td>3</td></tr>\n",
       "<tr><td>819453be77718d747...</td><td>3</td></tr>\n",
       "<tr><td>498bb6b1f0099cb47...</td><td>3</td></tr>\n",
       "<tr><td>035bf3d8288d803bd...</td><td>3</td></tr>\n",
       "<tr><td>c563428cb58da48ff...</td><td>3</td></tr>\n",
       "<tr><td>3ae415acd6bbfaac1...</td><td>3</td></tr>\n",
       "<tr><td>c92062bb371842b3d...</td><td>3</td></tr>\n",
       "</table>\n",
       "only showing top 20 rows\n"
      ],
      "text/plain": [
       "+--------------------+-----+\n",
       "|           member_id|total|\n",
       "+--------------------+-----+\n",
       "|e4c167053d5418230...|    5|\n",
       "|76b577467eda5bdbc...|    4|\n",
       "|ad8e5d384dae17e06...|    4|\n",
       "|3f87585a20f702838...|    4|\n",
       "|498bb6b1f0099cb47...|    3|\n",
       "|c92062bb371842b3d...|    3|\n",
       "|d3731bad3e6a82515...|    3|\n",
       "|059d401bb603d9a80...|    3|\n",
       "|22593a1870543b2db...|    3|\n",
       "|5d52e7773cb0efff3...|    3|\n",
       "|c563428cb58da48ff...|    3|\n",
       "|3ae415acd6bbfaac1...|    3|\n",
       "|291ca1b09ef11ca3e...|    3|\n",
       "|a2356725aa9da92c6...|    3|\n",
       "|53789bea7edc660ed...|    3|\n",
       "|066ddaa64bee66dff...|    3|\n",
       "|4ab6205de571ccb7b...|    3|\n",
       "|035bf3d8288d803bd...|    3|\n",
       "|f54295a60946dedad...|    3|\n",
       "|e7d8d16928817ec8f...|    3|\n",
       "+--------------------+-----+\n",
       "only showing top 20 rows"
      ]
     },
     "execution_count": 3,
     "metadata": {},
     "output_type": "execute_result"
    }
   ],
   "source": [
    "spark.sql(\"select member_id, count(*) as total from itv012713_lending_club.customers group by member_id order by total desc\")"
   ]
  },
  {
   "cell_type": "code",
   "execution_count": 4,
   "id": "b2372047",
   "metadata": {},
   "outputs": [
    {
     "data": {
      "text/html": [
       "<table border='1'>\n",
       "<tr><th>member_id</th><th>emp_title</th><th>emp_length</th><th>home_ownership</th><th>annual_income</th><th>address_state</th><th>address_zipcode</th><th>address_country</th><th>grade</th><th>sub_grade</th><th>verification_status</th><th>total_high_credit_limit</th><th>application_type</th><th>join_annual_income</th><th>verification_status_joint</th><th>ingest_date</th></tr>\n",
       "<tr><td>e4c167053d5418230...</td><td>null</td><td>6</td><td>MORTGAGE</td><td>55000.0</td><td>IL</td><td>604xx</td><td>USA</td><td>B</td><td>B5</td><td>Verified</td><td>138780.0</td><td>Individual</td><td>null</td><td>null</td><td>2023-09-15 17:18:...</td></tr>\n",
       "<tr><td>e4c167053d5418230...</td><td>null</td><td>6</td><td>MORTGAGE</td><td>55000.0</td><td>IL</td><td>604xx</td><td>USA</td><td>B</td><td>B5</td><td>Verified</td><td>171165.0</td><td>Individual</td><td>null</td><td>null</td><td>2023-09-15 17:18:...</td></tr>\n",
       "<tr><td>e4c167053d5418230...</td><td>null</td><td>6</td><td>MORTGAGE</td><td>55000.0</td><td>IL</td><td>604xx</td><td>USA</td><td>B</td><td>B5</td><td>Verified</td><td>110907.0</td><td>Individual</td><td>null</td><td>null</td><td>2023-09-15 17:18:...</td></tr>\n",
       "<tr><td>e4c167053d5418230...</td><td>null</td><td>6</td><td>MORTGAGE</td><td>55000.0</td><td>IL</td><td>604xx</td><td>USA</td><td>B</td><td>B5</td><td>Verified</td><td>129833.0</td><td>Individual</td><td>null</td><td>null</td><td>2023-09-15 17:18:...</td></tr>\n",
       "<tr><td>e4c167053d5418230...</td><td>null</td><td>6</td><td>MORTGAGE</td><td>55000.0</td><td>IL</td><td>604xx</td><td>USA</td><td>B</td><td>B5</td><td>Verified</td><td>207300.0</td><td>Individual</td><td>null</td><td>null</td><td>2023-09-15 17:18:...</td></tr>\n",
       "</table>\n"
      ],
      "text/plain": [
       "+--------------------+---------+----------+--------------+-------------+-------------+---------------+---------------+-----+---------+-------------------+-----------------------+----------------+------------------+-------------------------+--------------------+\n",
       "|           member_id|emp_title|emp_length|home_ownership|annual_income|address_state|address_zipcode|address_country|grade|sub_grade|verification_status|total_high_credit_limit|application_type|join_annual_income|verification_status_joint|         ingest_date|\n",
       "+--------------------+---------+----------+--------------+-------------+-------------+---------------+---------------+-----+---------+-------------------+-----------------------+----------------+------------------+-------------------------+--------------------+\n",
       "|e4c167053d5418230...|     null|         6|      MORTGAGE|      55000.0|           IL|          604xx|            USA|    B|       B5|           Verified|               138780.0|      Individual|              null|                     null|2023-09-15 17:18:...|\n",
       "|e4c167053d5418230...|     null|         6|      MORTGAGE|      55000.0|           IL|          604xx|            USA|    B|       B5|           Verified|               171165.0|      Individual|              null|                     null|2023-09-15 17:18:...|\n",
       "|e4c167053d5418230...|     null|         6|      MORTGAGE|      55000.0|           IL|          604xx|            USA|    B|       B5|           Verified|               110907.0|      Individual|              null|                     null|2023-09-15 17:18:...|\n",
       "|e4c167053d5418230...|     null|         6|      MORTGAGE|      55000.0|           IL|          604xx|            USA|    B|       B5|           Verified|               129833.0|      Individual|              null|                     null|2023-09-15 17:18:...|\n",
       "|e4c167053d5418230...|     null|         6|      MORTGAGE|      55000.0|           IL|          604xx|            USA|    B|       B5|           Verified|               207300.0|      Individual|              null|                     null|2023-09-15 17:18:...|\n",
       "+--------------------+---------+----------+--------------+-------------+-------------+---------------+---------------+-----+---------+-------------------+-----------------------+----------------+------------------+-------------------------+--------------------+"
      ]
     },
     "execution_count": 4,
     "metadata": {},
     "output_type": "execute_result"
    }
   ],
   "source": [
    "spark.sql(\"select * from itv012713_lending_club.customers where member_id like 'e4c167053d5418230%'\")"
   ]
  },
  {
   "cell_type": "code",
   "execution_count": 7,
   "id": "0407dfa6",
   "metadata": {},
   "outputs": [
    {
     "data": {
      "text/html": [
       "<table border='1'>\n",
       "<tr><th>member_id</th><th>total</th></tr>\n",
       "<tr><td>e4c167053d5418230...</td><td>3</td></tr>\n",
       "<tr><td>55d55d97420671a1c...</td><td>2</td></tr>\n",
       "<tr><td>77db5fdf951dd04b2...</td><td>2</td></tr>\n",
       "<tr><td>c23eb88fed4893030...</td><td>2</td></tr>\n",
       "<tr><td>6c2b63ff231e520d4...</td><td>2</td></tr>\n",
       "<tr><td>62394e3f9d063413b...</td><td>2</td></tr>\n",
       "<tr><td>17d76ba5141e1c33a...</td><td>2</td></tr>\n",
       "<tr><td>db887c1d4cb004ca8...</td><td>2</td></tr>\n",
       "<tr><td>bbe43331566910d55...</td><td>2</td></tr>\n",
       "<tr><td>b5ded5638e54e1692...</td><td>2</td></tr>\n",
       "<tr><td>58dde656f747cee8b...</td><td>2</td></tr>\n",
       "<tr><td>0b44a10bc749eabb2...</td><td>2</td></tr>\n",
       "<tr><td>4f7579700cd9d49d7...</td><td>2</td></tr>\n",
       "<tr><td>dbe5ec23d01598dbf...</td><td>2</td></tr>\n",
       "<tr><td>c16e1f92ae5ccc785...</td><td>2</td></tr>\n",
       "<tr><td>343344c3c65b023af...</td><td>2</td></tr>\n",
       "<tr><td>8d2c605c7ad9209cc...</td><td>2</td></tr>\n",
       "<tr><td>cbede54df344cdb94...</td><td>2</td></tr>\n",
       "<tr><td>6918b9861ba5a4c67...</td><td>2</td></tr>\n",
       "<tr><td>a93a44c9d83793451...</td><td>2</td></tr>\n",
       "</table>\n",
       "only showing top 20 rows\n"
      ],
      "text/plain": [
       "+--------------------+-----+\n",
       "|           member_id|total|\n",
       "+--------------------+-----+\n",
       "|e4c167053d5418230...|    3|\n",
       "|55d55d97420671a1c...|    2|\n",
       "|0b44a10bc749eabb2...|    2|\n",
       "|c23eb88fed4893030...|    2|\n",
       "|6c2b63ff231e520d4...|    2|\n",
       "|62394e3f9d063413b...|    2|\n",
       "|17d76ba5141e1c33a...|    2|\n",
       "|db887c1d4cb004ca8...|    2|\n",
       "|bbe43331566910d55...|    2|\n",
       "|a93a44c9d83793451...|    2|\n",
       "|58dde656f747cee8b...|    2|\n",
       "|77db5fdf951dd04b2...|    2|\n",
       "|4f7579700cd9d49d7...|    2|\n",
       "|dbe5ec23d01598dbf...|    2|\n",
       "|c16e1f92ae5ccc785...|    2|\n",
       "|343344c3c65b023af...|    2|\n",
       "|8d2c605c7ad9209cc...|    2|\n",
       "|cbede54df344cdb94...|    2|\n",
       "|6918b9861ba5a4c67...|    2|\n",
       "|b5ded5638e54e1692...|    2|\n",
       "+--------------------+-----+\n",
       "only showing top 20 rows"
      ]
     },
     "execution_count": 7,
     "metadata": {},
     "output_type": "execute_result"
    }
   ],
   "source": [
    "spark.sql(\"select member_id, count(*) as total from itv012713_lending_club.loan_defaultors_deling group by member_id order by total desc\")"
   ]
  },
  {
   "cell_type": "code",
   "execution_count": 8,
   "id": "99f62696",
   "metadata": {},
   "outputs": [
    {
     "data": {
      "text/html": [
       "<table border='1'>\n",
       "<tr><th>member_id</th><th>delinq_2yrs</th><th>delinq_amnt</th><th>mths_since_last_delinq</th></tr>\n",
       "<tr><td>e4c167053d5418230...</td><td>3</td><td>0.0</td><td>0</td></tr>\n",
       "<tr><td>e4c167053d5418230...</td><td>1</td><td>0.0</td><td>0</td></tr>\n",
       "<tr><td>e4c167053d5418230...</td><td>1</td><td>0.0</td><td>45</td></tr>\n",
       "</table>\n"
      ],
      "text/plain": [
       "+--------------------+-----------+-----------+----------------------+\n",
       "|           member_id|delinq_2yrs|delinq_amnt|mths_since_last_delinq|\n",
       "+--------------------+-----------+-----------+----------------------+\n",
       "|e4c167053d5418230...|          3|        0.0|                     0|\n",
       "|e4c167053d5418230...|          1|        0.0|                     0|\n",
       "|e4c167053d5418230...|          1|        0.0|                    45|\n",
       "+--------------------+-----------+-----------+----------------------+"
      ]
     },
     "execution_count": 8,
     "metadata": {},
     "output_type": "execute_result"
    }
   ],
   "source": [
    "spark.sql(\"select * from itv012713_lending_club.loan_defaultors_deling where member_id like 'e4c167053d5418230%'\")"
   ]
  },
  {
   "cell_type": "code",
   "execution_count": 9,
   "id": "643df00f",
   "metadata": {},
   "outputs": [
    {
     "data": {
      "text/html": [
       "<table border='1'>\n",
       "<tr><th>member_id</th><th>total</th></tr>\n",
       "<tr><td>e3b0c44298fc1c149...</td><td>33</td></tr>\n",
       "<tr><td>e4c167053d5418230...</td><td>5</td></tr>\n",
       "<tr><td>3f87585a20f702838...</td><td>4</td></tr>\n",
       "<tr><td>76b577467eda5bdbc...</td><td>4</td></tr>\n",
       "<tr><td>ad8e5d384dae17e06...</td><td>4</td></tr>\n",
       "<tr><td>f54295a60946dedad...</td><td>3</td></tr>\n",
       "<tr><td>066ddaa64bee66dff...</td><td>3</td></tr>\n",
       "<tr><td>035bf3d8288d803bd...</td><td>3</td></tr>\n",
       "<tr><td>22593a1870543b2db...</td><td>3</td></tr>\n",
       "<tr><td>819453be77718d747...</td><td>3</td></tr>\n",
       "<tr><td>4ab6205de571ccb7b...</td><td>3</td></tr>\n",
       "<tr><td>d3731bad3e6a82515...</td><td>3</td></tr>\n",
       "<tr><td>c92062bb371842b3d...</td><td>3</td></tr>\n",
       "<tr><td>e7d8d16928817ec8f...</td><td>3</td></tr>\n",
       "<tr><td>291ca1b09ef11ca3e...</td><td>3</td></tr>\n",
       "<tr><td>53789bea7edc660ed...</td><td>3</td></tr>\n",
       "<tr><td>498bb6b1f0099cb47...</td><td>3</td></tr>\n",
       "<tr><td>5d52e7773cb0efff3...</td><td>3</td></tr>\n",
       "<tr><td>c563428cb58da48ff...</td><td>3</td></tr>\n",
       "<tr><td>059d401bb603d9a80...</td><td>3</td></tr>\n",
       "</table>\n",
       "only showing top 20 rows\n"
      ],
      "text/plain": [
       "+--------------------+-----+\n",
       "|           member_id|total|\n",
       "+--------------------+-----+\n",
       "|e3b0c44298fc1c149...|   33|\n",
       "|e4c167053d5418230...|    5|\n",
       "|3f87585a20f702838...|    4|\n",
       "|76b577467eda5bdbc...|    4|\n",
       "|ad8e5d384dae17e06...|    4|\n",
       "|f54295a60946dedad...|    3|\n",
       "|066ddaa64bee66dff...|    3|\n",
       "|035bf3d8288d803bd...|    3|\n",
       "|22593a1870543b2db...|    3|\n",
       "|819453be77718d747...|    3|\n",
       "|4ab6205de571ccb7b...|    3|\n",
       "|d3731bad3e6a82515...|    3|\n",
       "|c92062bb371842b3d...|    3|\n",
       "|e7d8d16928817ec8f...|    3|\n",
       "|291ca1b09ef11ca3e...|    3|\n",
       "|53789bea7edc660ed...|    3|\n",
       "|498bb6b1f0099cb47...|    3|\n",
       "|5d52e7773cb0efff3...|    3|\n",
       "|c563428cb58da48ff...|    3|\n",
       "|059d401bb603d9a80...|    3|\n",
       "+--------------------+-----+\n",
       "only showing top 20 rows"
      ]
     },
     "execution_count": 9,
     "metadata": {},
     "output_type": "execute_result"
    }
   ],
   "source": [
    "spark.sql(\"select member_id, count(*) as total from itv012713_lending_club.loan_defaultors_detail_rec_enq group by member_id order by total desc\")"
   ]
  },
  {
   "cell_type": "code",
   "execution_count": 10,
   "id": "6679a7c1",
   "metadata": {},
   "outputs": [
    {
     "data": {
      "text/html": [
       "<table border='1'>\n",
       "<tr><th>member_id</th><th>pub_rec</th><th>pub_rec_bankruptcies</th><th>inq_last_6mths</th></tr>\n",
       "<tr><td>e3b0c44298fc1c149...</td><td>0</td><td>0</td><td>0</td></tr>\n",
       "<tr><td>e3b0c44298fc1c149...</td><td>0</td><td>0</td><td>0</td></tr>\n",
       "<tr><td>e3b0c44298fc1c149...</td><td>0</td><td>0</td><td>0</td></tr>\n",
       "<tr><td>e3b0c44298fc1c149...</td><td>0</td><td>0</td><td>0</td></tr>\n",
       "<tr><td>e3b0c44298fc1c149...</td><td>0</td><td>0</td><td>0</td></tr>\n",
       "<tr><td>e3b0c44298fc1c149...</td><td>0</td><td>0</td><td>0</td></tr>\n",
       "<tr><td>e3b0c44298fc1c149...</td><td>0</td><td>0</td><td>0</td></tr>\n",
       "<tr><td>e3b0c44298fc1c149...</td><td>0</td><td>0</td><td>0</td></tr>\n",
       "<tr><td>e3b0c44298fc1c149...</td><td>0</td><td>0</td><td>0</td></tr>\n",
       "<tr><td>e3b0c44298fc1c149...</td><td>0</td><td>0</td><td>0</td></tr>\n",
       "<tr><td>e3b0c44298fc1c149...</td><td>0</td><td>0</td><td>0</td></tr>\n",
       "<tr><td>e3b0c44298fc1c149...</td><td>0</td><td>0</td><td>0</td></tr>\n",
       "<tr><td>e3b0c44298fc1c149...</td><td>0</td><td>0</td><td>0</td></tr>\n",
       "<tr><td>e3b0c44298fc1c149...</td><td>0</td><td>0</td><td>0</td></tr>\n",
       "<tr><td>e3b0c44298fc1c149...</td><td>0</td><td>0</td><td>0</td></tr>\n",
       "<tr><td>e3b0c44298fc1c149...</td><td>0</td><td>0</td><td>0</td></tr>\n",
       "<tr><td>e3b0c44298fc1c149...</td><td>0</td><td>0</td><td>0</td></tr>\n",
       "<tr><td>e3b0c44298fc1c149...</td><td>0</td><td>0</td><td>0</td></tr>\n",
       "<tr><td>e3b0c44298fc1c149...</td><td>0</td><td>0</td><td>0</td></tr>\n",
       "<tr><td>e3b0c44298fc1c149...</td><td>0</td><td>0</td><td>0</td></tr>\n",
       "</table>\n",
       "only showing top 20 rows\n"
      ],
      "text/plain": [
       "+--------------------+-------+--------------------+--------------+\n",
       "|           member_id|pub_rec|pub_rec_bankruptcies|inq_last_6mths|\n",
       "+--------------------+-------+--------------------+--------------+\n",
       "|e3b0c44298fc1c149...|      0|                   0|             0|\n",
       "|e3b0c44298fc1c149...|      0|                   0|             0|\n",
       "|e3b0c44298fc1c149...|      0|                   0|             0|\n",
       "|e3b0c44298fc1c149...|      0|                   0|             0|\n",
       "|e3b0c44298fc1c149...|      0|                   0|             0|\n",
       "|e3b0c44298fc1c149...|      0|                   0|             0|\n",
       "|e3b0c44298fc1c149...|      0|                   0|             0|\n",
       "|e3b0c44298fc1c149...|      0|                   0|             0|\n",
       "|e3b0c44298fc1c149...|      0|                   0|             0|\n",
       "|e3b0c44298fc1c149...|      0|                   0|             0|\n",
       "|e3b0c44298fc1c149...|      0|                   0|             0|\n",
       "|e3b0c44298fc1c149...|      0|                   0|             0|\n",
       "|e3b0c44298fc1c149...|      0|                   0|             0|\n",
       "|e3b0c44298fc1c149...|      0|                   0|             0|\n",
       "|e3b0c44298fc1c149...|      0|                   0|             0|\n",
       "|e3b0c44298fc1c149...|      0|                   0|             0|\n",
       "|e3b0c44298fc1c149...|      0|                   0|             0|\n",
       "|e3b0c44298fc1c149...|      0|                   0|             0|\n",
       "|e3b0c44298fc1c149...|      0|                   0|             0|\n",
       "|e3b0c44298fc1c149...|      0|                   0|             0|\n",
       "+--------------------+-------+--------------------+--------------+\n",
       "only showing top 20 rows"
      ]
     },
     "execution_count": 10,
     "metadata": {},
     "output_type": "execute_result"
    }
   ],
   "source": [
    "spark.sql(\"select * from itv012713_lending_club.loan_defaultors_detail_rec_enq where member_id like 'e3b0c44298fc1c149%'\")"
   ]
  },
  {
   "cell_type": "markdown",
   "id": "9e1c0318",
   "metadata": {},
   "source": [
    "## Identifing and extracting the member_ids that appear multiple times in a table."
   ]
  },
  {
   "cell_type": "code",
   "execution_count": 2,
   "id": "2705f00e",
   "metadata": {},
   "outputs": [],
   "source": [
    "bad_data_customer_df = spark.sql(\"\"\"\n",
    "    select member_id from (select member_id, count(*) as total from itv012713_lending_club.customers group by member_id having total > 1) \n",
    "\"\"\")"
   ]
  },
  {
   "cell_type": "code",
   "execution_count": 3,
   "id": "54d2703c",
   "metadata": {},
   "outputs": [
    {
     "data": {
      "text/html": [
       "<table border='1'>\n",
       "<tr><th>member_id</th></tr>\n",
       "<tr><td>eebbd89aa7efc13e7...</td></tr>\n",
       "<tr><td>5130d0087970e032e...</td></tr>\n",
       "<tr><td>cbede54df344cdb94...</td></tr>\n",
       "<tr><td>761b2f1e61999e14e...</td></tr>\n",
       "<tr><td>4231a55d0199c619a...</td></tr>\n",
       "<tr><td>3b8ffe19f24749a73...</td></tr>\n",
       "<tr><td>d4782ddad8591f44d...</td></tr>\n",
       "<tr><td>01b2223757c3b62e7...</td></tr>\n",
       "<tr><td>f284044b881f218c0...</td></tr>\n",
       "<tr><td>a2af7506825a7dcff...</td></tr>\n",
       "<tr><td>a53e2f488d2d76a30...</td></tr>\n",
       "<tr><td>2bae2e4dd6d5f2b21...</td></tr>\n",
       "<tr><td>7115ace193e13d8f3...</td></tr>\n",
       "<tr><td>61be6498c93cadf89...</td></tr>\n",
       "<tr><td>f99c6e9cfe3a7a2d2...</td></tr>\n",
       "<tr><td>675151e58a628e87b...</td></tr>\n",
       "<tr><td>fc0e468bff11ac7c3...</td></tr>\n",
       "<tr><td>cd1fdca829c443fa7...</td></tr>\n",
       "<tr><td>e6404d176e3850fdb...</td></tr>\n",
       "<tr><td>6eed1238f9ea0f057...</td></tr>\n",
       "</table>\n",
       "only showing top 20 rows\n"
      ],
      "text/plain": [
       "+--------------------+\n",
       "|           member_id|\n",
       "+--------------------+\n",
       "|4231a55d0199c619a...|\n",
       "|f284044b881f218c0...|\n",
       "|3b8ffe19f24749a73...|\n",
       "|d4782ddad8591f44d...|\n",
       "|a2af7506825a7dcff...|\n",
       "|a53e2f488d2d76a30...|\n",
       "|2bae2e4dd6d5f2b21...|\n",
       "|cbede54df344cdb94...|\n",
       "|61be6498c93cadf89...|\n",
       "|f99c6e9cfe3a7a2d2...|\n",
       "|761b2f1e61999e14e...|\n",
       "|5130d0087970e032e...|\n",
       "|675151e58a628e87b...|\n",
       "|7115ace193e13d8f3...|\n",
       "|cd1fdca829c443fa7...|\n",
       "|fc0e468bff11ac7c3...|\n",
       "|eebbd89aa7efc13e7...|\n",
       "|01b2223757c3b62e7...|\n",
       "|8d2c605c7ad9209cc...|\n",
       "|22593a1870543b2db...|\n",
       "+--------------------+\n",
       "only showing top 20 rows"
      ]
     },
     "execution_count": 3,
     "metadata": {},
     "output_type": "execute_result"
    }
   ],
   "source": [
    "bad_data_customer_df"
   ]
  },
  {
   "cell_type": "code",
   "execution_count": 4,
   "id": "ec50f295",
   "metadata": {},
   "outputs": [],
   "source": [
    "bad_data_loans_defaultors_deling_df = spark.sql(\"\"\"\n",
    "    select member_id from (select member_id, count(*) as total from itv012713_lending_club.loan_defaultors_deling group by member_id having total > 1) \n",
    "\"\"\")"
   ]
  },
  {
   "cell_type": "code",
   "execution_count": 5,
   "id": "a274485a",
   "metadata": {},
   "outputs": [
    {
     "data": {
      "text/html": [
       "<table border='1'>\n",
       "<tr><th>member_id</th></tr>\n",
       "<tr><td>cbede54df344cdb94...</td></tr>\n",
       "<tr><td>8d2c605c7ad9209cc...</td></tr>\n",
       "<tr><td>bbe43331566910d55...</td></tr>\n",
       "<tr><td>6918b9861ba5a4c67...</td></tr>\n",
       "<tr><td>a93a44c9d83793451...</td></tr>\n",
       "<tr><td>b5ded5638e54e1692...</td></tr>\n",
       "<tr><td>6c2b63ff231e520d4...</td></tr>\n",
       "<tr><td>694c6cb86608015e9...</td></tr>\n",
       "<tr><td>58dde656f747cee8b...</td></tr>\n",
       "<tr><td>0b44a10bc749eabb2...</td></tr>\n",
       "<tr><td>62394e3f9d063413b...</td></tr>\n",
       "<tr><td>77db5fdf951dd04b2...</td></tr>\n",
       "<tr><td>4f7579700cd9d49d7...</td></tr>\n",
       "<tr><td>dbe5ec23d01598dbf...</td></tr>\n",
       "<tr><td>17d76ba5141e1c33a...</td></tr>\n",
       "<tr><td>c16e1f92ae5ccc785...</td></tr>\n",
       "<tr><td>343344c3c65b023af...</td></tr>\n",
       "<tr><td>db887c1d4cb004ca8...</td></tr>\n",
       "<tr><td>c23eb88fed4893030...</td></tr>\n",
       "<tr><td>ac9a3da3b89f9228e...</td></tr>\n",
       "</table>\n",
       "only showing top 20 rows\n"
      ],
      "text/plain": [
       "+--------------------+\n",
       "|           member_id|\n",
       "+--------------------+\n",
       "|cbede54df344cdb94...|\n",
       "|8d2c605c7ad9209cc...|\n",
       "|bbe43331566910d55...|\n",
       "|6918b9861ba5a4c67...|\n",
       "|b5ded5638e54e1692...|\n",
       "|a93a44c9d83793451...|\n",
       "|6c2b63ff231e520d4...|\n",
       "|694c6cb86608015e9...|\n",
       "|58dde656f747cee8b...|\n",
       "|77db5fdf951dd04b2...|\n",
       "|62394e3f9d063413b...|\n",
       "|0b44a10bc749eabb2...|\n",
       "|4f7579700cd9d49d7...|\n",
       "|dbe5ec23d01598dbf...|\n",
       "|17d76ba5141e1c33a...|\n",
       "|343344c3c65b023af...|\n",
       "|c16e1f92ae5ccc785...|\n",
       "|db887c1d4cb004ca8...|\n",
       "|c23eb88fed4893030...|\n",
       "|ac9a3da3b89f9228e...|\n",
       "+--------------------+\n",
       "only showing top 20 rows"
      ]
     },
     "execution_count": 5,
     "metadata": {},
     "output_type": "execute_result"
    }
   ],
   "source": [
    "bad_data_loans_defaultors_deling_df"
   ]
  },
  {
   "cell_type": "code",
   "execution_count": 6,
   "id": "379986f4",
   "metadata": {},
   "outputs": [],
   "source": [
    "bad_data_loans_defaultors_detail_rec_enq_df = spark.sql(\"\"\"\n",
    "    select member_id from (select member_id, count(*) as total from itv012713_lending_club.loan_defaultors_detail_rec_enq group by member_id having total > 1) \n",
    "\"\"\")"
   ]
  },
  {
   "cell_type": "code",
   "execution_count": 7,
   "id": "7e3b0c35",
   "metadata": {},
   "outputs": [
    {
     "data": {
      "text/plain": [
       "3189"
      ]
     },
     "execution_count": 7,
     "metadata": {},
     "output_type": "execute_result"
    }
   ],
   "source": [
    "bad_data_loans_defaultors_detail_rec_enq_df.count()"
   ]
  },
  {
   "cell_type": "markdown",
   "id": "4f27242c",
   "metadata": {},
   "source": [
    "## Storing the member_ids that appear multiple times back to HDFS for future use."
   ]
  },
  {
   "cell_type": "code",
   "execution_count": 21,
   "id": "972e1737",
   "metadata": {},
   "outputs": [],
   "source": [
    "bad_data_customer_df.repartition(1).write \\\n",
    ".format(\"csv\") \\\n",
    ".option(\"header\", True) \\\n",
    ".mode(\"overwrite\") \\\n",
    ".option(\"path\", \"/user/itv012713/lendingclubproject/bad_data/bad_data_customers_csv\").save()"
   ]
  },
  {
   "cell_type": "code",
   "execution_count": 22,
   "id": "d05a10a0",
   "metadata": {},
   "outputs": [],
   "source": [
    "bad_data_loans_defaultors_deling_df.repartition(1).write \\\n",
    ".format(\"csv\") \\\n",
    ".option(\"header\", True) \\\n",
    ".mode(\"overwrite\") \\\n",
    ".option(\"path\", \"/user/itv012713/lendingclubproject/bad_data/bad_data_loans_defaultors_deling_csv\").save()"
   ]
  },
  {
   "cell_type": "code",
   "execution_count": 23,
   "id": "501fba30",
   "metadata": {},
   "outputs": [],
   "source": [
    "bad_data_loans_defaultors_detail_rec_enq_df.repartition(1).write \\\n",
    ".format(\"csv\") \\\n",
    ".option(\"header\", True) \\\n",
    ".mode(\"overwrite\") \\\n",
    ".option(\"path\", \"/user/itv012713/lendingclubproject/bad_data/bad_data_loans_defaultors_detail_rec_enq_csv\").save()"
   ]
  },
  {
   "cell_type": "markdown",
   "id": "6890054b",
   "metadata": {},
   "source": [
    "## Saving all the bad member_ids that appear multiple times into a single file, so the upstream team can validate the data."
   ]
  },
  {
   "cell_type": "code",
   "execution_count": 8,
   "id": "af6f6aeb",
   "metadata": {},
   "outputs": [],
   "source": [
    "bad_data_customer_df_union = bad_data_customer_df.select(\"member_id\") \\\n",
    ".union(bad_data_loans_defaultors_deling_df.select(\"member_id\")) \\\n",
    ".union(bad_data_loans_defaultors_detail_rec_enq_df.select(\"member_id\")).distinct()"
   ]
  },
  {
   "cell_type": "code",
   "execution_count": 9,
   "id": "3904d2da",
   "metadata": {},
   "outputs": [
    {
     "data": {
      "text/plain": [
       "3189"
      ]
     },
     "execution_count": 9,
     "metadata": {},
     "output_type": "execute_result"
    }
   ],
   "source": [
    "bad_data_customer_df_union.count()"
   ]
  },
  {
   "cell_type": "code",
   "execution_count": 10,
   "id": "b792b410",
   "metadata": {},
   "outputs": [],
   "source": [
    "bad_data_customer_df_union.repartition(1).write \\\n",
    ".format(\"csv\") \\\n",
    ".option(\"header\", True) \\\n",
    ".mode(\"overwrite\") \\\n",
    ".option(\"path\", \"/user/itv012713/lendingclubproject/bad_data/bad_customers_data_final_csv\").save()"
   ]
  },
  {
   "cell_type": "code",
   "execution_count": null,
   "id": "c7fe1817",
   "metadata": {},
   "outputs": [],
   "source": []
  },
  {
   "cell_type": "code",
   "execution_count": null,
   "id": "20d03328",
   "metadata": {},
   "outputs": [],
   "source": []
  }
 ],
 "metadata": {
  "kernelspec": {
   "display_name": "Pyspark 3",
   "language": "python",
   "name": "pyspark3"
  },
  "language_info": {
   "codemirror_mode": {
    "name": "ipython",
    "version": 3
   },
   "file_extension": ".py",
   "mimetype": "text/x-python",
   "name": "python",
   "nbconvert_exporter": "python",
   "pygments_lexer": "ipython3",
   "version": "3.6.12"
  }
 },
 "nbformat": 4,
 "nbformat_minor": 5
}
